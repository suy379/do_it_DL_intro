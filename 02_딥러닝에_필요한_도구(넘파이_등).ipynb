{
  "nbformat": 4,
  "nbformat_minor": 0,
  "metadata": {
    "colab": {
      "name": "02. 딥러닝에 필요한 도구(넘파이 등).ipynb",
      "provenance": [],
      "collapsed_sections": [],
      "authorship_tag": "ABX9TyPX4ePgNDx0swhS8h0xs5WX",
      "include_colab_link": true
    },
    "kernelspec": {
      "name": "python3",
      "display_name": "Python 3"
    }
  },
  "cells": [
    {
      "cell_type": "markdown",
      "metadata": {
        "id": "view-in-github",
        "colab_type": "text"
      },
      "source": [
        "<a href=\"https://colab.research.google.com/github/suy379/do_it_DL_intro/blob/main/02_%EB%94%A5%EB%9F%AC%EB%8B%9D%EC%97%90_%ED%95%84%EC%9A%94%ED%95%9C_%EB%8F%84%EA%B5%AC(%EB%84%98%ED%8C%8C%EC%9D%B4_%EB%93%B1).ipynb\" target=\"_parent\"><img src=\"https://colab.research.google.com/assets/colab-badge.svg\" alt=\"Open In Colab\"/></a>"
      ]
    },
    {
      "cell_type": "markdown",
      "metadata": {
        "id": "Xu8wnkotMrDy"
      },
      "source": [
        "### 파이썬 리스트 복습하기"
      ]
    },
    {
      "cell_type": "code",
      "metadata": {
        "colab": {
          "base_uri": "https://localhost:8080/"
        },
        "id": "x4vP_2iDMpv1",
        "outputId": "0e91911f-1810-43e2-c501-561264546f07"
      },
      "source": [
        "my_list = [10, 'hello list', 20]\r\n",
        "print(my_list[1])"
      ],
      "execution_count": null,
      "outputs": [
        {
          "output_type": "stream",
          "text": [
            "hello list\n"
          ],
          "name": "stdout"
        }
      ]
    },
    {
      "cell_type": "code",
      "metadata": {
        "colab": {
          "base_uri": "https://localhost:8080/"
        },
        "id": "lC6UFi10M1b5",
        "outputId": "c51ef093-7d6e-4959-bd34-a99729c73633"
      },
      "source": [
        "my_list2 = [[10,20,30],[40,50,60]]\r\n",
        "my_list2"
      ],
      "execution_count": null,
      "outputs": [
        {
          "output_type": "execute_result",
          "data": {
            "text/plain": [
              "[[10, 20, 30], [40, 50, 60]]"
            ]
          },
          "metadata": {
            "tags": []
          },
          "execution_count": 2
        }
      ]
    },
    {
      "cell_type": "code",
      "metadata": {
        "colab": {
          "base_uri": "https://localhost:8080/"
        },
        "id": "9Nc63wUbM8hY",
        "outputId": "794f38ea-9620-4c02-8788-de504a70f726"
      },
      "source": [
        "my_list2[1][1]"
      ],
      "execution_count": null,
      "outputs": [
        {
          "output_type": "execute_result",
          "data": {
            "text/plain": [
              "50"
            ]
          },
          "metadata": {
            "tags": []
          },
          "execution_count": 3
        }
      ]
    },
    {
      "cell_type": "markdown",
      "metadata": {
        "id": "x9wDHjCYNbXu"
      },
      "source": [
        "## 넘파이\r\n",
        "- 높은 차원의 배열을 만들 땐 그냥 파이썬 리스트보단 넘파이를 이용하는 게 좋다.\r\n",
        "- 리스트는 문자, 숫자를 다 담을 수 있으나 넘파이는 __숫자만__ 담을 수 있다! (근데 앞으로 이용할 데이터들은 모두 숫자라 상관x)"
      ]
    },
    {
      "cell_type": "code",
      "metadata": {
        "colab": {
          "base_uri": "https://localhost:8080/"
        },
        "id": "uqEXtH0tNOgk",
        "outputId": "46c200da-6b3f-4004-a9b1-909e61a974b5"
      },
      "source": [
        "import numpy as np\r\n",
        "print(np.__version__)"
      ],
      "execution_count": null,
      "outputs": [
        {
          "output_type": "stream",
          "text": [
            "1.19.5\n"
          ],
          "name": "stdout"
        }
      ]
    },
    {
      "cell_type": "code",
      "metadata": {
        "colab": {
          "base_uri": "https://localhost:8080/"
        },
        "id": "GRhzy8uKNnbS",
        "outputId": "dd918f13-b611-4306-8a28-8bb26798e469"
      },
      "source": [
        "my_arr = np.array([[10,20,30], [40,50,60]])\r\n",
        "print(my_arr)"
      ],
      "execution_count": null,
      "outputs": [
        {
          "output_type": "stream",
          "text": [
            "[[10 20 30]\n",
            " [40 50 60]]\n"
          ],
          "name": "stdout"
        }
      ]
    },
    {
      "cell_type": "code",
      "metadata": {
        "colab": {
          "base_uri": "https://localhost:8080/"
        },
        "id": "LZg91D3DOK2Y",
        "outputId": "fff303ae-9500-4829-c07d-dbd2b968d15c"
      },
      "source": [
        "type(my_arr)"
      ],
      "execution_count": null,
      "outputs": [
        {
          "output_type": "execute_result",
          "data": {
            "text/plain": [
              "numpy.ndarray"
            ]
          },
          "metadata": {
            "tags": []
          },
          "execution_count": 6
        }
      ]
    },
    {
      "cell_type": "code",
      "metadata": {
        "colab": {
          "base_uri": "https://localhost:8080/"
        },
        "id": "HibauayrOQMn",
        "outputId": "4abd5046-996a-4b52-d5d6-6b16abbc99e6"
      },
      "source": [
        "my_arr[0][2]"
      ],
      "execution_count": null,
      "outputs": [
        {
          "output_type": "execute_result",
          "data": {
            "text/plain": [
              "30"
            ]
          },
          "metadata": {
            "tags": []
          },
          "execution_count": 7
        }
      ]
    },
    {
      "cell_type": "code",
      "metadata": {
        "colab": {
          "base_uri": "https://localhost:8080/"
        },
        "id": "lNvFyliFOXmI",
        "outputId": "103da064-8b75-4e19-d762-6202b97cd2a1"
      },
      "source": [
        "#넘파이 내장 함수 사용하기 - 반복문(for문) 없이도 사용 가능!\r\n",
        "np.sum(my_arr)"
      ],
      "execution_count": null,
      "outputs": [
        {
          "output_type": "execute_result",
          "data": {
            "text/plain": [
              "210"
            ]
          },
          "metadata": {
            "tags": []
          },
          "execution_count": 8
        }
      ]
    },
    {
      "cell_type": "markdown",
      "metadata": {
        "id": "S1a6JxT6OkD7"
      },
      "source": [
        "### matplotlib으로 그래프 그리기"
      ]
    },
    {
      "cell_type": "code",
      "metadata": {
        "id": "IBIFzBSpOfwu"
      },
      "source": [
        "import matplotlib.pyplot as plt"
      ],
      "execution_count": null,
      "outputs": []
    },
    {
      "cell_type": "code",
      "metadata": {
        "colab": {
          "base_uri": "https://localhost:8080/",
          "height": 265
        },
        "id": "uJQ9T2B1O7BK",
        "outputId": "699031ea-fbac-4c7d-a280-ee5cc04a0c3d"
      },
      "source": [
        "#2차원 데이터 - 선 그래프\r\n",
        "x=[1,2,3,4,5]\r\n",
        "y=[1,4,9,16,25]\r\n",
        "plt.plot(x,y)\r\n",
        "plt.show()"
      ],
      "execution_count": null,
      "outputs": [
        {
          "output_type": "display_data",
          "data": {
            "image/png": "[encoded data removed]",
            "text/plain": [
              "<Figure size 432x288 with 1 Axes>"
            ]
          },
          "metadata": {
            "tags": [],
            "needs_background": "light"
          }
        }
      ]
    },
    {
      "cell_type": "code",
      "metadata": {
        "colab": {
          "base_uri": "https://localhost:8080/",
          "height": 265
        },
        "id": "4o9UFaKaPEH4",
        "outputId": "138b31ac-93ae-4909-f0d6-2897a7dac1fc"
      },
      "source": [
        "#2차원 데이터 - 산점도\r\n",
        "plt.scatter(x,y)\r\n",
        "plt.show()"
      ],
      "execution_count": null,
      "outputs": [
        {
          "output_type": "display_data",
          "data": {
            "image/png": "[encoded data removed]",
            "text/plain": [
              "<Figure size 432x288 with 1 Axes>"
            ]
          },
          "metadata": {
            "tags": [],
            "needs_background": "light"
          }
        }
      ]
    },
    {
      "cell_type": "code",
      "metadata": {
        "colab": {
          "base_uri": "https://localhost:8080/",
          "height": 265
        },
        "id": "pyrz6oZLPKVy",
        "outputId": "b14583b6-4dfd-4274-a79a-c7e4332a3563"
      },
      "source": [
        "#넘파이 배열로 산점도 그리기\r\n",
        "#np.random.randn(개수): 정규분포를 따르는 랜덤 데이터 개수 지정한 만큼 반환 \r\n",
        "x= np.random.randn(1000)\r\n",
        "y= np.random.randn(1000)\r\n",
        "plt.scatter(x,y)\r\n",
        "plt.show()"
      ],
      "execution_count": null,
      "outputs": [
        {
          "output_type": "display_data",
          "data": {
            "image/png": "[encoded data removed]",
            "text/plain": [
              "<Figure size 432x288 with 1 Axes>"
            ]
          },
          "metadata": {
            "tags": [],
            "needs_background": "light"
          }
        }
      ]
    },
    {
      "cell_type": "code",
      "metadata": {
        "id": "RdjPYr_OPb6G"
      },
      "source": [
        ""
      ],
      "execution_count": null,
      "outputs": []
    }
  ]
}