{
  "nbformat": 4,
  "nbformat_minor": 0,
  "metadata": {
    "colab": {
      "name": "08. 합성곱 신경망(이미지 다중분류)+경사하강법, 케라스.ipynb",
      "provenance": [],
      "collapsed_sections": [],
      "authorship_tag": "ABX9TyMwHIgNPT5bfcypnZZmpoaO",
      "include_colab_link": true
    },
    "kernelspec": {
      "name": "python3",
      "display_name": "Python 3"
    }
  },
  "cells": [
    {
      "cell_type": "markdown",
      "metadata": {
        "id": "view-in-github",
        "colab_type": "text"
      },
      "source": [
        "<a href=\"https://colab.research.google.com/github/suy379/do_it_DL_intro/blob/main/08_%ED%95%A9%EC%84%B1%EA%B3%B1_%EC%8B%A0%EA%B2%BD%EB%A7%9D(%EC%9D%B4%EB%AF%B8%EC%A7%80_%EB%8B%A4%EC%A4%91%EB%B6%84%EB%A5%98)%2B%EA%B2%BD%EC%82%AC%ED%95%98%EA%B0%95%EB%B2%95%2C_%EC%BC%80%EB%9D%BC%EC%8A%A4.ipynb\" target=\"_parent\"><img src=\"https://colab.research.google.com/assets/colab-badge.svg\" alt=\"Open In Colab\"/></a>"
      ]
    },
    {
      "cell_type": "markdown",
      "metadata": {
        "id": "OTBK4uY7H3MU"
      },
      "source": [
        "# 08. 합성곱 신경망\r\n",
        "- 08-1. 합성곱 연산 개념+예시\r\n",
        "- 08-2. 풀링 연산 개념+예시\r\n",
        "- 08-3. 합성곱층에 적용되는 렐루(ReLu) 함수 & 합성곱 신경망의 구조\r\n",
        "- 08-4. 합성곱 신경망 손코딩\r\n",
        "- 08-5. 합성곱 신경망 using Keras"
      ]
    },
    {
      "cell_type": "markdown",
      "metadata": {
        "id": "kzHeUpmi_aXE"
      },
      "source": [
        "## 08-1. 합성곱 연산\r\n",
        "### 합성곱 연산(간단히 합성곱이라고 부름) --> __convolve__\r\n",
        "- 배열 x, w가 있을 때, 두 배열 중 원소수가 적은 배열 w의 원소 순서를 뒤집는다.(w_r) --> x가 실제 데이터 샘플, w가 가중치 행렬임.\r\n",
        "- w_r을 배열 x의 왼쪽 끝부터 시작하여 x의 오른쪽 끝에 도달할 때까지 원소별 곱셈을 수행한다.\r\n",
        "- 반환값: 곱셈으로 출력된 값들 array"
      ]
    },
    {
      "cell_type": "code",
      "metadata": {
        "id": "lTvWFDsX_VXY",
        "colab": {
          "base_uri": "https://localhost:8080/"
        },
        "outputId": "b43288f2-055c-40ef-d7ab-a19652c8cdb5"
      },
      "source": [
        "# 합성곱 구현하기\r\n",
        "import numpy as np\r\n",
        "w = np.array([2,1,5,3])\r\n",
        "x = np.array([2,8,3,7,1,2,0,4,5])\r\n",
        "w_r = np.flip(w)\r\n",
        "print(w_r) #원소 수가 더 적은 w의 원소 순서를 뒤집은 것."
      ],
      "execution_count": null,
      "outputs": [
        {
          "output_type": "stream",
          "text": [
            "[3 5 1 2]\n"
          ],
          "name": "stdout"
        }
      ]
    },
    {
      "cell_type": "code",
      "metadata": {
        "id": "FwgQkqPE_b-g",
        "colab": {
          "base_uri": "https://localhost:8080/"
        },
        "outputId": "2c5b04ca-d4bc-4b6e-e425-57190fb9893a"
      },
      "source": [
        "#또는 다음도 가능\r\n",
        "w_r = w[::-1]\r\n",
        "print(w_r)"
      ],
      "execution_count": null,
      "outputs": [
        {
          "output_type": "stream",
          "text": [
            "[3 5 1 2]\n"
          ],
          "name": "stdout"
        }
      ]
    },
    {
      "cell_type": "code",
      "metadata": {
        "colab": {
          "base_uri": "https://localhost:8080/"
        },
        "id": "5xsAhD9g-_1u",
        "outputId": "268bcb70-fd6c-484e-9c35-58b85b47dab4"
      },
      "source": [
        "#넘파이 점 곱으로 합성곱 수행하기\r\n",
        "for i in range(6):\r\n",
        "    print(np.dot(x[i:i+4], w_r))"
      ],
      "execution_count": null,
      "outputs": [
        {
          "output_type": "stream",
          "text": [
            "63\n",
            "48\n",
            "49\n",
            "28\n",
            "21\n",
            "20\n"
          ],
          "name": "stdout"
        }
      ]
    },
    {
      "cell_type": "code",
      "metadata": {
        "colab": {
          "base_uri": "https://localhost:8080/"
        },
        "id": "gq3lXTQXFdxp",
        "outputId": "109a5ce9-b9db-4d44-b270-bae27d479a4a"
      },
      "source": [
        "#또는 scipy의 convolve 함수 사용\r\n",
        "from scipy.signal import convolve\r\n",
        "convolve(x, w, mode='valid') #그냥 x,w를 넣으면 됨. "
      ],
      "execution_count": null,
      "outputs": [
        {
          "output_type": "execute_result",
          "data": {
            "text/plain": [
              "array([63, 48, 49, 28, 21, 20])"
            ]
          },
          "metadata": {
            "tags": []
          },
          "execution_count": 5
        }
      ]
    },
    {
      "cell_type": "markdown",
      "metadata": {
        "id": "PRShnH4kGRz7"
      },
      "source": [
        "### 교차상관 연산(간단히 교차상관이라고 부름) --> 앞으로 __correlate__만 사용!\r\n",
        "- 대부분의 딥러닝 패키지들은 합성곱 신경망을 만들 때 합성곱이 아니라 교차상관을 사용함.\r\n",
        "- 교차상관은 합성곱과는 달리 w를 뒤집지 않고 곱함."
      ]
    },
    {
      "cell_type": "code",
      "metadata": {
        "colab": {
          "base_uri": "https://localhost:8080/"
        },
        "id": "1MlPd5YSFq8c",
        "outputId": "e4fc5dea-2e20-4d4f-b641-24d0ab3edec5"
      },
      "source": [
        "from scipy.signal import correlate\r\n",
        "correlate(x, w, mode='valid')"
      ],
      "execution_count": null,
      "outputs": [
        {
          "output_type": "execute_result",
          "data": {
            "text/plain": [
              "array([48, 57, 24, 25, 16, 39])"
            ]
          },
          "metadata": {
            "tags": []
          },
          "execution_count": 6
        }
      ]
    },
    {
      "cell_type": "markdown",
      "metadata": {
        "id": "dKvcdjcYHnR-"
      },
      "source": [
        "### 패딩(padding) & 스트라이드(stride)\r\n",
        "- 패딩은 원본 배열의 양 끝에 빈 원소를 추가하는 것\r\n",
        "- 스트라이드는 미끄러지는 배열의 간격을 조절하는 것(몇 번 띄우고 미끄러질 것인가?)\r\n",
        "---\r\n",
        "- _패딩 개념_ 을 이용해, 1)밸리드 패딩 / 2)풀 패딩 / 3)세임 패딩을 만들 수 있다.\r\n",
        "- 합성곱 신경망에선 대부분 원본배열 길이와 출력배열 길이가 동일한 __세임 패딩__을 주로 사용한다.\r\n",
        "- 합성곱 신경망에선 보통 __스트라이드=1__로 지정"
      ]
    },
    {
      "cell_type": "code",
      "metadata": {
        "colab": {
          "base_uri": "https://localhost:8080/"
        },
        "id": "avbubzTGGf8C",
        "outputId": "5329f676-97e7-4590-ddc3-84b92ccce6dd"
      },
      "source": [
        "#밸리드 패딩(제로 패딩을 사용하지 않는 기본)\r\n",
        "correlate(x, w, mode='valid')"
      ],
      "execution_count": null,
      "outputs": [
        {
          "output_type": "execute_result",
          "data": {
            "text/plain": [
              "array([48, 57, 24, 25, 16, 39])"
            ]
          },
          "metadata": {
            "tags": []
          },
          "execution_count": 7
        }
      ]
    },
    {
      "cell_type": "code",
      "metadata": {
        "colab": {
          "base_uri": "https://localhost:8080/"
        },
        "id": "6LpVBpDTaOa5",
        "outputId": "42f6dd74-359d-4a8e-e288-125b689519ce"
      },
      "source": [
        "#풀 패딩(제로 패딩을 사용해 모든 원소의 연산참여도를 동일하게 만듦)\r\n",
        "correlate(x, w, mode='full')"
      ],
      "execution_count": null,
      "outputs": [
        {
          "output_type": "execute_result",
          "data": {
            "text/plain": [
              "array([ 6, 34, 51, 48, 57, 24, 25, 16, 39, 29, 13, 10])"
            ]
          },
          "metadata": {
            "tags": []
          },
          "execution_count": 8
        }
      ]
    },
    {
      "cell_type": "code",
      "metadata": {
        "colab": {
          "base_uri": "https://localhost:8080/"
        },
        "id": "QZEIoJXWaRjE",
        "outputId": "f5b4ea73-b1f2-40e6-8032-6ec0d40ffe52"
      },
      "source": [
        "#세임 패딩(모든 원소 연산참여도가 같진 않지만, 원본배열 길이와 출력배열 길이가 동일해짐)\r\n",
        "correlate(x, w, mode='same') #x배열 길이:9, 출력된 배열 길이:9"
      ],
      "execution_count": null,
      "outputs": [
        {
          "output_type": "execute_result",
          "data": {
            "text/plain": [
              "array([34, 51, 48, 57, 24, 25, 16, 39, 29])"
            ]
          },
          "metadata": {
            "tags": []
          },
          "execution_count": 9
        }
      ]
    },
    {
      "cell_type": "markdown",
      "metadata": {
        "id": "u_KoUM-nbS5h"
      },
      "source": [
        "- 지금까지는 그냥 x,w배열 모두 1차원이었으나 실전에선 2차원 배열을 주로 쓰기 때문에  __2차원 배열에서 합성곱을 수행__ 해보자.\r\n",
        "- x, w 모두 2차원 배열"
      ]
    },
    {
      "cell_type": "code",
      "metadata": {
        "colab": {
          "base_uri": "https://localhost:8080/"
        },
        "id": "WpyFxdcRag0l",
        "outputId": "67e4775d-1b2e-44c6-fec1-d98a8bf9e6f5"
      },
      "source": [
        "#밸리드 패딩\r\n",
        "X = np.array([[1,2,3],\r\n",
        "             [4,5,6],\r\n",
        "             [7,8,9]]) #2차원, 3x3\r\n",
        "w = np.array([[2, 0], [0, 0]]) #2차원, 2x2\r\n",
        "\r\n",
        "from scipy.signal import correlate2d #2차원이니까 2d 붙여줘야함.\r\n",
        "correlate2d(X, w, mode='valid') #밸리드니까 x배열 길이: 3x3, 출력 배열 길이: 2x2(4번 수행)"
      ],
      "execution_count": null,
      "outputs": [
        {
          "output_type": "execute_result",
          "data": {
            "text/plain": [
              "array([[ 2,  4],\n",
              "       [ 8, 10]])"
            ]
          },
          "metadata": {
            "tags": []
          },
          "execution_count": 11
        }
      ]
    },
    {
      "cell_type": "code",
      "metadata": {
        "colab": {
          "base_uri": "https://localhost:8080/"
        },
        "id": "VBoMt6UBcu-d",
        "outputId": "5725dd41-133b-4a79-fefb-3b6df49b1f73"
      },
      "source": [
        "#세임 패딩(출력 배열 길이랑 같아야 하니까 9번 수행하면 됨!)\r\n",
        "correlate2d(X, w, mode='same') #출력 배열 길이: 3x3(9번 수행)"
      ],
      "execution_count": null,
      "outputs": [
        {
          "output_type": "execute_result",
          "data": {
            "text/plain": [
              "array([[ 2,  4,  6],\n",
              "       [ 8, 10, 12],\n",
              "       [14, 16, 18]])"
            ]
          },
          "metadata": {
            "tags": []
          },
          "execution_count": 12
        }
      ]
    },
    {
      "cell_type": "markdown",
      "metadata": {
        "id": "DFUUszOdeb3S"
      },
      "source": [
        "### 텐서플로를 이용해 합성곱 수행하기 -> 입력 데이터 4차원, `conv2d` 함수 사용\r\n",
        "- 원본 배열(입력, X), 미끄러지는 배열(가중치, w) 은 일반적으로 4차원 배열\r\n",
        "- X는 (배치, 샘플높이, 샘플너비, 컬러채널 차원) => (2, 3, 3, 3)\r\n",
        "- w는 (가중치높이, 가중치너비, 컬러채널 차원, 가중치 개수) => (2, 2, 3, 3)\r\n",
        "- 출력 배열은 (X의 배치, X의 높이, X의 너비, 가중치 개수) => (2, 3, 3, 3)"
      ]
    },
    {
      "cell_type": "code",
      "metadata": {
        "id": "e56MZiMsdKsB"
      },
      "source": [
        "#앞서 만든 X, w를 4차원 배열로 바꿔 수행 \r\n",
        "import tensorflow as tf\r\n",
        "x_4d = X.astype(np.float).reshape(1, 3, 3, 1)\r\n",
        "w_4d = w.reshape(2, 2, 1, 1,)"
      ],
      "execution_count": null,
      "outputs": []
    },
    {
      "cell_type": "code",
      "metadata": {
        "colab": {
          "base_uri": "https://localhost:8080/"
        },
        "id": "scwcKwQKft2O",
        "outputId": "493054de-44b1-474f-ec89-a6a6ec892205"
      },
      "source": [
        "#세임 패딩, 스트라이드 1\r\n",
        "c_out = tf.nn.conv2d(x_4d, w_4d, strides=1, padding='SAME') #텐서 형태로 출력 -> 넘파이로 변환\r\n",
        "c_out"
      ],
      "execution_count": null,
      "outputs": [
        {
          "output_type": "execute_result",
          "data": {
            "text/plain": [
              "<tf.Tensor: shape=(1, 3, 3, 1), dtype=float64, numpy=\n",
              "array([[[[ 2.],\n",
              "         [ 4.],\n",
              "         [ 6.]],\n",
              "\n",
              "        [[ 8.],\n",
              "         [10.],\n",
              "         [12.]],\n",
              "\n",
              "        [[14.],\n",
              "         [16.],\n",
              "         [18.]]]])>"
            ]
          },
          "metadata": {
            "tags": []
          },
          "execution_count": 15
        }
      ]
    },
    {
      "cell_type": "code",
      "metadata": {
        "colab": {
          "base_uri": "https://localhost:8080/"
        },
        "id": "UftozWuJgEz-",
        "outputId": "8cf328ca-8bb4-42c7-934c-d133f2d97c71"
      },
      "source": [
        "c_out.numpy().reshape(3,3) #결과는 scipy로 한것과 동일."
      ],
      "execution_count": null,
      "outputs": [
        {
          "output_type": "execute_result",
          "data": {
            "text/plain": [
              "array([[ 2.,  4.,  6.],\n",
              "       [ 8., 10., 12.],\n",
              "       [14., 16., 18.]])"
            ]
          },
          "metadata": {
            "tags": []
          },
          "execution_count": 16
        }
      ]
    },
    {
      "cell_type": "markdown",
      "metadata": {
        "id": "NRm0I40N9_KK"
      },
      "source": [
        "## 08-2. 풀링 연산 \r\n",
        "- 합성곱 신경망에선 _합성곱이 일어나는 층: 합성곱층_, _풀링이 일어나는 층: 풀링층_ 이라고 한다. 각 층에서 반환되는 값은 __특성 맵__이다.\r\n",
        "- __풀링__ 이란, 특성 맵을 스캔하며 최댓값을 고르거나(최대 풀링), 평균값을 계산하는 것(평균 풀링)을 의미한다. -->이렇게 하여 특성 맵 크기를 1/2로 줄임.\r\n",
        "- 보통 이미지 분류 시엔 특성 맵의 가장 큰 특성을 유지시키는 __최대 풀링__을 선호한다."
      ]
    },
    {
      "cell_type": "code",
      "metadata": {
        "id": "XkpVyqmagNgI"
      },
      "source": [
        "#최대 풀링 수행\r\n",
        "X = np.array([[1,2,3,4],\r\n",
        "              [5,6,7,8],\r\n",
        "              [9,10,11,12],\r\n",
        "              [13,14,15,16]]) #4x4의 2차원 형태 \r\n",
        "x = X.reshape(1, 4, 4, 1) #텐서플로에 적용하려면 4차원으로 바꿔야 함!"
      ],
      "execution_count": null,
      "outputs": []
    },
    {
      "cell_type": "code",
      "metadata": {
        "colab": {
          "base_uri": "https://localhost:8080/"
        },
        "id": "fsrJRw2UBM9q",
        "outputId": "4169d90e-4005-438e-8634-f228622632c8"
      },
      "source": [
        "#텐서플로의 최대 풀링 수행: max_pool2d 이 안에 풀링크기(ksize), 스트라이드 크기(strides)에 넣어주면 됨.\r\n",
        "p_out = tf.nn.max_pool2d(x, ksize=2, strides=2, padding='VALID') #최대풀링 후 나오는 특성맵을 2x2로 바꾸고 싶을 때.\r\n",
        "p_out"
      ],
      "execution_count": null,
      "outputs": [
        {
          "output_type": "execute_result",
          "data": {
            "text/plain": [
              "<tf.Tensor: shape=(1, 2, 2, 1), dtype=float32, numpy=\n",
              "array([[[[ 6.],\n",
              "         [ 8.]],\n",
              "\n",
              "        [[14.],\n",
              "         [16.]]]], dtype=float32)>"
            ]
          },
          "metadata": {
            "tags": []
          },
          "execution_count": 18
        }
      ]
    },
    {
      "cell_type": "code",
      "metadata": {
        "colab": {
          "base_uri": "https://localhost:8080/"
        },
        "id": "VyOu-AUcBj1q",
        "outputId": "c5554767-e4ef-4191-e44d-f724b646d3c9"
      },
      "source": [
        "#좀더 알아보기 쉽게 넘파이로 변경\r\n",
        "p_out.numpy().reshape(2,2)"
      ],
      "execution_count": null,
      "outputs": [
        {
          "output_type": "execute_result",
          "data": {
            "text/plain": [
              "array([[ 6.,  8.],\n",
              "       [14., 16.]], dtype=float32)"
            ]
          },
          "metadata": {
            "tags": []
          },
          "execution_count": 19
        }
      ]
    },
    {
      "cell_type": "markdown",
      "metadata": {
        "id": "bkBBXgnzIUfW"
      },
      "source": [
        "## 08-3. 합성곱층에 사용되는 ReLu 함수 & 합성곱 신경망의 구조 알아보기"
      ]
    },
    {
      "cell_type": "code",
      "metadata": {
        "id": "MiLCDxFLB5rH"
      },
      "source": [
        "#렐루 함수 구현\r\n",
        "def relu(x):\r\n",
        "    return np.maximum(x, 0)"
      ],
      "execution_count": null,
      "outputs": []
    },
    {
      "cell_type": "code",
      "metadata": {
        "colab": {
          "base_uri": "https://localhost:8080/"
        },
        "id": "ZFJfU4eFIlK5",
        "outputId": "aec81d8c-97b4-4f91-f003-1e79e23310b4"
      },
      "source": [
        "x = np.array([-1, 2, -3, 4, -5, 0])\r\n",
        "print(relu(x))"
      ],
      "execution_count": null,
      "outputs": [
        {
          "output_type": "stream",
          "text": [
            "[0 2 0 4 0 0]\n"
          ],
          "name": "stdout"
        }
      ]
    },
    {
      "cell_type": "code",
      "metadata": {
        "colab": {
          "base_uri": "https://localhost:8080/"
        },
        "id": "IhducJ2WIsRx",
        "outputId": "4353cb13-5f97-4ba1-c44d-22fce9436469"
      },
      "source": [
        "#텐서플로우에서 제공하는 렐루 함수: relu(x)\r\n",
        "r_out = tf.nn.relu(x)\r\n",
        "r_out.numpy() #텐서 객체 -> 넘파이로 바꿔서 출력"
      ],
      "execution_count": null,
      "outputs": [
        {
          "output_type": "execute_result",
          "data": {
            "text/plain": [
              "array([0, 2, 0, 4, 0, 0])"
            ]
          },
          "metadata": {
            "tags": []
          },
          "execution_count": 25
        }
      ]
    },
    {
      "cell_type": "markdown",
      "metadata": {
        "id": "3AJMEWZwSKMW"
      },
      "source": [
        "## 08-4. 합성곱 신경망 만들기\r\n",
        "- 여기선 모두 순수 파이썬만으로 구현하진 않고, _텐서플로가 제공하는 합성곱 함수 & 자동 미분 기능_ 을 이용하여 만든다.\r\n",
        "- 정방향 계산: forpass(합성곱 연산, 렐루 적용, 풀링) --> Z2 반환\r\n",
        "- 역방향 메서드 필요x ->그냥 텐서플로의 자동미분기능 활용, training 메서드에 흡수 \r\n",
        "- 학습 메서드: init_weights(glorot_uniform으로 초깃값 설정), fit(epoch문 수행+loss 추가), training(Z2 계산, loss 계산, 그레디언트 업데이트) <- gen_batch 메서드로 batch_size만큼 뽑아서 학습."
      ]
    },
    {
      "cell_type": "code",
      "metadata": {
        "id": "VhCNaOtr68fK"
      },
      "source": [
        "import tensorflow as tf\r\n",
        "import numpy as np\r\n",
        "\r\n",
        "x = tf.Variable(np.array([1.0, 2.0, 3.0]))\r\n",
        "with tf.GradientTape() as tape: #with 안에는 미분할 대상을 입력.(이 자체를 'tape'으로 명명)\r\n",
        "    y = x**3 + 2*x + 5"
      ],
      "execution_count": 3,
      "outputs": []
    },
    {
      "cell_type": "code",
      "metadata": {
        "colab": {
          "base_uri": "https://localhost:8080/"
        },
        "id": "ZsaPUUCV7GvS",
        "outputId": "5848b689-3813-4d4e-dd61-900bd7143e10"
      },
      "source": [
        "print(tape.gradient(y, x)) #y를 x에 대해 미분 "
      ],
      "execution_count": 4,
      "outputs": [
        {
          "output_type": "stream",
          "text": [
            "tf.Tensor([ 5. 14. 29.], shape=(3,), dtype=float64)\n"
          ],
          "name": "stdout"
        }
      ]
    },
    {
      "cell_type": "code",
      "metadata": {
        "id": "A9pog2DxI4CK"
      },
      "source": [
        "import tensorflow as tf\r\n",
        "import numpy as np\r\n",
        "\r\n",
        "class ConvolutionNetwork:\r\n",
        "\r\n",
        "    def __init__(self, n_kernels=10, units=10, batch_size=32, learning_rate=0.1):\r\n",
        "        self.n_kernels = n_kernels\r\n",
        "        self.optimizer = None #추후 설정(텐서플로 옵티마이저)\r\n",
        "        self.conv_w = None\r\n",
        "        self.conv_b = None\r\n",
        "        self.units = units\r\n",
        "        self.batch_size = batch_size\r\n",
        "        self.w1 = None\r\n",
        "        self.b1 = None\r\n",
        "        self.w2 = None\r\n",
        "        self.b2 = None\r\n",
        "        self.losses = [] #에포크별 train_loss 저장\r\n",
        "        self.val_losses = [] #에포크별 val_loss 저장 \r\n",
        "        self.lr = learning_rate\r\n",
        "\r\n",
        "    # 정방향 메서드(Z2 출력)\r\n",
        "    def forpass(self, x): \r\n",
        "        #합성곱 연산 \r\n",
        "        c_out = tf.nn.conv2d(x, self.conv_w, strides=1, padding='SAME') + self.conv_b\r\n",
        "        #렐루 적용\r\n",
        "        r_out = tf.nn.relu(c_out)\r\n",
        "        #풀링 적용\r\n",
        "        p_out = tf.nn.max_pool2d(r_out, ksize=2, strides=2, padding='VALID')\r\n",
        "        #출력 일렬로 펼치기 \r\n",
        "        f_out = tf.reshape(p_out, [x.shape[0], -1]) #입력 배치 부분만 남기고 나머지값은 하나로 펼침.(묶어버림)\r\n",
        "        #기존의 정방향 계산 수행\r\n",
        "        z1 = tf.matmul(f_out, self.w1) + self.b1\r\n",
        "        a1 = tf.nn.relu(z1)\r\n",
        "        z2 = tf.matmul(a1, self.w2) + self.b2\r\n",
        "        return z2 \r\n",
        "\r\n",
        "    def init_weights(self, n_classes):\r\n",
        "        g = tf.initializers.glorot_uniform() #초깃값 설정 시 글로럿 초기화 \r\n",
        "        #합성곱층의 값들 초기화 \r\n",
        "        self.conv_w = tf.Variable(g((3,3,1,self.n_kernels)))\r\n",
        "        self.conv_b = tf.Variable(np.zeros(self.n_kernels), dtype=float)\r\n",
        "        #w1,b1,w2,b2 값 초기화 \r\n",
        "        n_features = 14*14*self.n_kernels\r\n",
        "        self.w1 = tf.Variable(g((n_features, self.units)))\r\n",
        "        self.b1 = tf.Variable(np.zeros(self.units), dtype=float)\r\n",
        "        self.w2 = tf.Variable(g((self.units, n_classes)))\r\n",
        "        self.b2 = tf.Variable(np.zeros(n_classes), dtype=float)\r\n",
        "\r\n",
        "    #loss 구하는 함수 새로 수정! 텐서플로 미분기능 활용해 더 간단하게~\r\n",
        "    def get_loss(self, x, y): #안에 batch들과 x_val, y_val들 들어감.\r\n",
        "        z = self.forpass(x)\r\n",
        "        loss = tf.reduce_mean(tf.nn.softmax_cross_entropy_with_logits(y, z))\r\n",
        "        return loss.numpy()\r\n",
        "\r\n",
        "    def training(self, x, y):\r\n",
        "        m = len(x)\r\n",
        "        #loss 계산 + 그레디언트 업데이트\r\n",
        "        with tf.GradientTape() as tape: #with 안에 미분할 대상을 넣으면 자동으로 계산해줌.\r\n",
        "            z = self.forpass(x) #Z2 출력 \r\n",
        "            loss = tf.nn.softmax_cross_entropy_with_logits(y, z) #y와 z2값을 바탕으로 loss 계산 \r\n",
        "            loss = tf.reduce_mean(loss) #loss가 총 배치수만큼(m개) 생기므로, 평균 loss 반환 \r\n",
        "\r\n",
        "        weights_list = [self.conv_w, self.conv_b, self.w1, self.b1, self.w2, self.b2]\r\n",
        "        grads = tape.gradient(loss, weights_list) #앞의 loss를 가중치 목록에 대해 미분한 값(그레디언트들) 저장 \r\n",
        "        self.optimizer.apply_gradients(zip(grads, weights_list)) #그레디언트 업데이트 \r\n",
        "\r\n",
        "    def fit(self, x, y, epochs=100, x_val=None, y_val=None):\r\n",
        "        #초기값 설정 \r\n",
        "        self.init_weights(y.shape[1])\r\n",
        "        self.optimizer = tf.optimizers.SGD(learning_rate = self.lr)\r\n",
        "        #epoch만큼 반복\r\n",
        "        for i in range(epochs):\r\n",
        "            print('에포크', i, end=' ')\r\n",
        "            #여기선 batch_loss값도 기록한다.\r\n",
        "            batch_losses = []\r\n",
        "            for x_batch, y_batch in self.gen_batch(x,y):\r\n",
        "                print('.', end='')\r\n",
        "                self.training(x_batch, y_batch) #배치만큼의 A2, loss, 그레디언트 업데이트 실행 \r\n",
        "                batch_losses.append(self.get_loss(x_batch, y_batch))\r\n",
        "            print()\r\n",
        "            self.losses.append(np.mean(batch_losses)) #평균 train_loss\r\n",
        "            self.val_losses.append(self.get_loss(x_val, y_val)) #평균 val_loss\r\n",
        "\r\n",
        "    ## get_batch 메서드--> x,y가 들어오면 랜덤하게 batch_size만큼 x_batch, y_batch 뽑아 출력\r\n",
        "    def gen_batch(self, x, y):\r\n",
        "        length = len(x)\r\n",
        "        bins = length // self.batch_size #미니배치의 횟수 \r\n",
        "        if length % self.batch_size: #나머지가 있다면 횟수 +1 \r\n",
        "            bins +=1 \r\n",
        "        #인덱스 랜덤 섞기\r\n",
        "        indexes = np.random.permutation(np.arange(len(x)))\r\n",
        "        x = x[indexes]\r\n",
        "        y = y[indexes]\r\n",
        "        #미니배치 횟수만큼 실행 \r\n",
        "        for i in range(bins):\r\n",
        "            #인덱스 설정하여 나눠줌 \r\n",
        "            start = self.batch_size*i\r\n",
        "            end = self.batch_size*(i+1)\r\n",
        "            yield x[start:end], y[start:end] #x_batch, y_batch 반환. (return으로 해도 되는데 메모리 사용이 효율적인 제너레이터로 접근함.)\r\n",
        "\r\n",
        "    ### 예측 & 평가 메서드 수정\r\n",
        "    #예측 메서드--> 이 안에는 x_val만 넣는다.\r\n",
        "    def predict(self, x):\r\n",
        "        z = self.forpass(x) #Z2 반환 \r\n",
        "        return np.argmax(z.numpy(), axis=1) #Z2의 각 행에서 가장 큰 값의 인덱스 반환-> 클래스 예측한 값과 동일! \r\n",
        "    \r\n",
        "    # 평가 메서드-- 이 안에는 앞서 predict로 반환된 값과 y_val를 비교한 정확도를 출력.\r\n",
        "    def score(self, x, y):\r\n",
        "        return np.mean(self.predict(x) == np.argmax(y, axis=1)) "
      ],
      "execution_count": 5,
      "outputs": []
    },
    {
      "cell_type": "code",
      "metadata": {
        "id": "t1kkpHo3DwSH",
        "colab": {
          "base_uri": "https://localhost:8080/"
        },
        "outputId": "f3515a84-32ab-4ed0-b15f-dff5baa2ab68"
      },
      "source": [
        "#데이터 세트 불러오기\r\n",
        "(x_train_all, y_train_all), (x_test, y_test) = tf.keras.datasets.fashion_mnist.load_data()\r\n",
        "#train_all을 훈련셋, 검증셋으로 나누기\r\n",
        "from sklearn.model_selection import train_test_split\r\n",
        "x_train, x_val, y_train, y_val = train_test_split(x_train_all, y_train_all, stratify = y_train_all, test_size=0.2, random_state=42)"
      ],
      "execution_count": 6,
      "outputs": [
        {
          "output_type": "stream",
          "text": [
            "Downloading data from https://storage.googleapis.com/tensorflow/tf-keras-datasets/train-labels-idx1-ubyte.gz\n",
            "32768/29515 [=================================] - 0s 0us/step\n",
            "Downloading data from https://storage.googleapis.com/tensorflow/tf-keras-datasets/train-images-idx3-ubyte.gz\n",
            "26427392/26421880 [==============================] - 0s 0us/step\n",
            "Downloading data from https://storage.googleapis.com/tensorflow/tf-keras-datasets/t10k-labels-idx1-ubyte.gz\n",
            "8192/5148 [===============================================] - 0s 0us/step\n",
            "Downloading data from https://storage.googleapis.com/tensorflow/tf-keras-datasets/t10k-images-idx3-ubyte.gz\n",
            "4423680/4422102 [==============================] - 0s 0us/step\n"
          ],
          "name": "stdout"
        }
      ]
    },
    {
      "cell_type": "code",
      "metadata": {
        "colab": {
          "base_uri": "https://localhost:8080/"
        },
        "id": "f0hPhXZ-EUDc",
        "outputId": "7891648e-41e8-403b-f976-b69a525fcf6d"
      },
      "source": [
        "#타깃 원-핫 인코딩\r\n",
        "y_train_encoded = tf.keras.utils.to_categorical(y_train)\r\n",
        "y_val_encoded = tf.keras.utils.to_categorical(y_val)\r\n",
        "print(y_val.shape, y_val_encoded.shape)"
      ],
      "execution_count": 7,
      "outputs": [
        {
          "output_type": "stream",
          "text": [
            "(12000,) (12000, 10)\n"
          ],
          "name": "stdout"
        }
      ]
    },
    {
      "cell_type": "code",
      "metadata": {
        "colab": {
          "base_uri": "https://localhost:8080/"
        },
        "id": "orBGyVEJEhXC",
        "outputId": "75ce3abb-a46b-4a6e-af6b-0acc1287aa29"
      },
      "source": [
        "print(x_train.shape, x_val.shape)"
      ],
      "execution_count": 8,
      "outputs": [
        {
          "output_type": "stream",
          "text": [
            "(48000, 28, 28) (12000, 28, 28)\n"
          ],
          "name": "stdout"
        }
      ]
    },
    {
      "cell_type": "code",
      "metadata": {
        "colab": {
          "base_uri": "https://localhost:8080/"
        },
        "id": "uVwqDJ8xEqQ4",
        "outputId": "4d77e5ea-0fb4-4577-8bf1-485da8d41b27"
      },
      "source": [
        "## 입력 데이터(X) 만들기: 배치x28x28x1 그대로 넣으면 된다!\r\n",
        "## 여기서 컬러 채널의 경우 그 값은 없으나(컬럼이 더 있진않음.) 그냥 차원만 4차원으로 바꿔주는 것임.\r\n",
        "x_train = x_train.reshape(-1, 28, 28, 1) #48000이라고 곧바로 쓰는것보다 -1로 써주는게 더 간편. 첫번째 차원은 얼마든 상관없기도 하고.\r\n",
        "x_val = x_val.reshape(-1, 28, 28, 1)\r\n",
        "print(x_train.shape, x_val.shape)"
      ],
      "execution_count": 9,
      "outputs": [
        {
          "output_type": "stream",
          "text": [
            "(48000, 28, 28, 1) (12000, 28, 28, 1)\n"
          ],
          "name": "stdout"
        }
      ]
    },
    {
      "cell_type": "code",
      "metadata": {
        "id": "6xKi04oSGoqP"
      },
      "source": [
        "print(x_val[0])"
      ],
      "execution_count": null,
      "outputs": []
    },
    {
      "cell_type": "code",
      "metadata": {
        "id": "I4UM89x-Hazl"
      },
      "source": [
        "#X 대상 표준화 전처리 \r\n",
        "x_train = x_train/255\r\n",
        "x_val = x_val/255"
      ],
      "execution_count": 10,
      "outputs": []
    },
    {
      "cell_type": "code",
      "metadata": {
        "colab": {
          "base_uri": "https://localhost:8080/"
        },
        "id": "0NnIyS5uIaRE",
        "outputId": "654f20fe-c991-442e-cbfe-54ea80742d73"
      },
      "source": [
        "## 모델링\r\n",
        "#객체 \r\n",
        "cn = ConvolutionNetwork(n_kernels=10, units=100, batch_size=128, learning_rate=0.1)\r\n",
        "#훈련\r\n",
        "cn.fit(x_train, y_train_encoded, epochs=20, x_val = x_val, y_val = y_val_encoded)"
      ],
      "execution_count": null,
      "outputs": [
        {
          "output_type": "stream",
          "text": [
            "에포크 0 .......................................................................................................................................................................................................................................................................................................................................................................................\n",
            "에포크 1 .......................................................................................................................................................................................................................................................................................................................................................................................\n",
            "에포크 2 .......................................................................................................................................................................................................................................................................................................................................................................................\n",
            "에포크 3 .......................................................................................................................................................................................................................................................................................................................................................................................\n",
            "에포크 4 .......................................................................................................................................................................................................................................................................................................................................................................................\n",
            "에포크 5 .......................................................................................................................................................................................................................................................................................................................................................................................\n",
            "에포크 6 .......................................................................................................................................................................................................................................................................................................................................................................................\n",
            "에포크 7 .......................................................................................................................................................................................................................................................................................................................................................................................\n",
            "에포크 8 .......................................................................................................................................................................................................................................................................................................................................................................................\n",
            "에포크 9 .......................................................................................................................................................................................................................................................................................................................................................................................\n",
            "에포크 10 .......................................................................................................................................................................................................................................................................................................................................................................................\n",
            "에포크 11 .......................................................................................................................................................................................................................................................................................................................................................................................\n",
            "에포크 12 .......................................................................................................................................................................................................................................................................................................................................................................................\n",
            "에포크 13 .......................................................................................................................................................................................................................................................................................................................................................................................\n",
            "에포크 14 .......................................................................................................................................................................................................................................................................................................................................................................................\n",
            "에포크 15 .......................................................................................................................................................................................................................................................................................................................................................................................\n",
            "에포크 16 .......................................................................................................................................................................................................................................................................................................................................................................................\n",
            "에포크 17 .......................................................................................................................................................................................................................................................................................................................................................................................\n",
            "에포크 18 .......................................................................................................................................................................................................................................................................................................................................................................................\n",
            "에포크 19 .......................................................................................................................................................................................................................................................................................................................................................................................\n"
          ],
          "name": "stdout"
        }
      ]
    },
    {
      "cell_type": "code",
      "metadata": {
        "colab": {
          "base_uri": "https://localhost:8080/",
          "height": 279
        },
        "id": "tTdJSVyAIy_9",
        "outputId": "f04ee1da-954a-4f9e-9ce3-06d88a2119a2"
      },
      "source": [
        "#train loss vs. val loss 비교\r\n",
        "import matplotlib.pyplot as plt\r\n",
        "\r\n",
        "plt.plot(cn.losses)\r\n",
        "plt.plot(cn.val_losses)\r\n",
        "plt.xlabel('epochs')\r\n",
        "plt.ylabel('loss')\r\n",
        "plt.legend(['train_loss', 'val_loss'])\r\n",
        "plt.show()"
      ],
      "execution_count": null,
      "outputs": [
        {
          "output_type": "display_data",
          "data": {
            "image/png": "[encoded data removed]",
            "text/plain": [
              "<Figure size 432x288 with 1 Axes>"
            ]
          },
          "metadata": {
            "tags": [],
            "needs_background": "light"
          }
        }
      ]
    },
    {
      "cell_type": "code",
      "metadata": {
        "colab": {
          "base_uri": "https://localhost:8080/"
        },
        "id": "tFTNUZYjMaee",
        "outputId": "249a0bc3-5d30-4c13-b6eb-f0fd684f48ee"
      },
      "source": [
        "#성능\r\n",
        "cn.score(x_val, y_val_encoded)"
      ],
      "execution_count": null,
      "outputs": [
        {
          "output_type": "execute_result",
          "data": {
            "text/plain": [
              "0.9093333333333333"
            ]
          },
          "metadata": {
            "tags": []
          },
          "execution_count": 22
        }
      ]
    },
    {
      "cell_type": "markdown",
      "metadata": {
        "id": "3sUq3YBkOqmw"
      },
      "source": [
        "## 08-5. 케라스로 합성곱 신경망 만들기\r\n",
        "- 앞서 08-4에서 직접 합성곱 신경망을 구현해 07장보다 더 좋은 성능을 냈지만, 실전에선 케라스와 같은 고수준 API를 이용하는 것이 성능이 훨씬 좋게 나온다.\r\n",
        "- 3가지 단계를 거쳐 만듦(1: 합성곱층 쌓기, 2: 풀링층 쌓기, 3:완전 연결층 쌓기)"
      ]
    },
    {
      "cell_type": "code",
      "metadata": {
        "id": "XBCCK6xfNik2"
      },
      "source": [
        "from tensorflow.keras import Sequential\r\n",
        "from tensorflow.keras.layers import Conv2D, MaxPooling2D, Flatten, Dense"
      ],
      "execution_count": 11,
      "outputs": []
    },
    {
      "cell_type": "code",
      "metadata": {
        "id": "XCQQQ4R8RS0Y"
      },
      "source": [
        "#1: 합성곱층 쌓기\r\n",
        "conv1 = Sequential()\r\n",
        "conv1.add(Conv2D(10, (3,3), activation='relu', padding='same', input_shape=(28,28,1)))"
      ],
      "execution_count": 12,
      "outputs": []
    },
    {
      "cell_type": "code",
      "metadata": {
        "id": "6tdDix9nRjAA"
      },
      "source": [
        "#2: 풀링층 쌓기\r\n",
        "conv1.add(MaxPooling2D((2,2), strides=2, padding='valid')) #2x2 풀링을 기본값으로 지정하면 strides=2가 디폴트. "
      ],
      "execution_count": 13,
      "outputs": []
    },
    {
      "cell_type": "code",
      "metadata": {
        "id": "pveYFp5-R26R"
      },
      "source": [
        "#특성 맵 펼치기\r\n",
        "conv1.add(Flatten())"
      ],
      "execution_count": 14,
      "outputs": []
    },
    {
      "cell_type": "code",
      "metadata": {
        "id": "kZ8AUMtuR8Bo"
      },
      "source": [
        "#3: 완전 연결층 쌓기 - Dense\r\n",
        "conv1.add(Dense(100, activation='relu'))\r\n",
        "conv1.add(Dense(10, activation='softmax'))"
      ],
      "execution_count": 15,
      "outputs": []
    },
    {
      "cell_type": "code",
      "metadata": {
        "colab": {
          "base_uri": "https://localhost:8080/"
        },
        "id": "_tsdpBDWSFAc",
        "outputId": "33af825f-c284-40a9-a139-6d3361fe2bc4"
      },
      "source": [
        "conv1.summary()"
      ],
      "execution_count": 16,
      "outputs": [
        {
          "output_type": "stream",
          "text": [
            "Model: \"sequential\"\n",
            "_________________________________________________________________\n",
            "Layer (type)                 Output Shape              Param #   \n",
            "=================================================================\n",
            "conv2d (Conv2D)              (None, 28, 28, 10)        100       \n",
            "_________________________________________________________________\n",
            "max_pooling2d (MaxPooling2D) (None, 14, 14, 10)        0         \n",
            "_________________________________________________________________\n",
            "flatten (Flatten)            (None, 1960)              0         \n",
            "_________________________________________________________________\n",
            "dense (Dense)                (None, 100)               196100    \n",
            "_________________________________________________________________\n",
            "dense_1 (Dense)              (None, 10)                1010      \n",
            "=================================================================\n",
            "Total params: 197,210\n",
            "Trainable params: 197,210\n",
            "Non-trainable params: 0\n",
            "_________________________________________________________________\n"
          ],
          "name": "stdout"
        }
      ]
    },
    {
      "cell_type": "code",
      "metadata": {
        "id": "sW_I77XvU7ZW"
      },
      "source": [
        "#모델 최적화 알고리즘, 손실함수 설정\r\n",
        "conv1.compile(optimizer='adam', loss='categorical_crossentropy', metrics=['accuracy'])"
      ],
      "execution_count": 17,
      "outputs": []
    },
    {
      "cell_type": "code",
      "metadata": {
        "colab": {
          "base_uri": "https://localhost:8080/"
        },
        "id": "1U0uX-msXeJf",
        "outputId": "6ee3b6e1-6cbe-40dd-c37a-f35bcf927075"
      },
      "source": [
        "#모델 훈련 \r\n",
        "history = conv1.fit(x_train, y_train_encoded, epochs=20, validation_data=(x_val, y_val_encoded), batch_size=128)"
      ],
      "execution_count": 21,
      "outputs": [
        {
          "output_type": "stream",
          "text": [
            "Epoch 1/20\n",
            "375/375 [==============================] - 14s 38ms/step - loss: 0.2770 - accuracy: 0.8988 - val_loss: 0.2886 - val_accuracy: 0.8972\n",
            "Epoch 2/20\n",
            "375/375 [==============================] - 14s 37ms/step - loss: 0.2592 - accuracy: 0.9060 - val_loss: 0.2801 - val_accuracy: 0.9003\n",
            "Epoch 3/20\n",
            "375/375 [==============================] - 14s 38ms/step - loss: 0.2487 - accuracy: 0.9097 - val_loss: 0.2743 - val_accuracy: 0.9007\n",
            "Epoch 4/20\n",
            "375/375 [==============================] - 14s 38ms/step - loss: 0.2396 - accuracy: 0.9130 - val_loss: 0.2684 - val_accuracy: 0.9028\n",
            "Epoch 5/20\n",
            "375/375 [==============================] - 14s 38ms/step - loss: 0.2307 - accuracy: 0.9164 - val_loss: 0.2636 - val_accuracy: 0.9047\n",
            "Epoch 6/20\n",
            "375/375 [==============================] - 14s 38ms/step - loss: 0.2216 - accuracy: 0.9189 - val_loss: 0.2573 - val_accuracy: 0.9068\n",
            "Epoch 7/20\n",
            "375/375 [==============================] - 14s 38ms/step - loss: 0.2120 - accuracy: 0.9228 - val_loss: 0.2549 - val_accuracy: 0.9079\n",
            "Epoch 8/20\n",
            "375/375 [==============================] - 14s 38ms/step - loss: 0.2022 - accuracy: 0.9257 - val_loss: 0.2493 - val_accuracy: 0.9102\n",
            "Epoch 9/20\n",
            "375/375 [==============================] - 14s 37ms/step - loss: 0.1916 - accuracy: 0.9297 - val_loss: 0.2473 - val_accuracy: 0.9103\n",
            "Epoch 10/20\n",
            "375/375 [==============================] - 14s 38ms/step - loss: 0.1801 - accuracy: 0.9338 - val_loss: 0.2451 - val_accuracy: 0.9124\n",
            "Epoch 11/20\n",
            "375/375 [==============================] - 14s 38ms/step - loss: 0.1696 - accuracy: 0.9385 - val_loss: 0.2436 - val_accuracy: 0.9131\n",
            "Epoch 12/20\n",
            "375/375 [==============================] - 14s 38ms/step - loss: 0.1584 - accuracy: 0.9430 - val_loss: 0.2440 - val_accuracy: 0.9133\n",
            "Epoch 13/20\n",
            "375/375 [==============================] - 14s 37ms/step - loss: 0.1471 - accuracy: 0.9471 - val_loss: 0.2457 - val_accuracy: 0.9134\n",
            "Epoch 14/20\n",
            "375/375 [==============================] - 14s 38ms/step - loss: 0.1354 - accuracy: 0.9520 - val_loss: 0.2510 - val_accuracy: 0.9162\n",
            "Epoch 15/20\n",
            "375/375 [==============================] - 14s 38ms/step - loss: 0.1242 - accuracy: 0.9563 - val_loss: 0.2527 - val_accuracy: 0.9144\n",
            "Epoch 16/20\n",
            "375/375 [==============================] - 14s 38ms/step - loss: 0.1135 - accuracy: 0.9602 - val_loss: 0.2578 - val_accuracy: 0.9147\n",
            "Epoch 17/20\n",
            "375/375 [==============================] - 14s 38ms/step - loss: 0.1044 - accuracy: 0.9645 - val_loss: 0.2661 - val_accuracy: 0.9133\n",
            "Epoch 18/20\n",
            "375/375 [==============================] - 14s 38ms/step - loss: 0.0944 - accuracy: 0.9676 - val_loss: 0.2727 - val_accuracy: 0.9137\n",
            "Epoch 19/20\n",
            "375/375 [==============================] - 14s 38ms/step - loss: 0.0855 - accuracy: 0.9718 - val_loss: 0.2752 - val_accuracy: 0.9151\n",
            "Epoch 20/20\n",
            "375/375 [==============================] - 16s 42ms/step - loss: 0.0763 - accuracy: 0.9744 - val_loss: 0.2897 - val_accuracy: 0.9129\n"
          ],
          "name": "stdout"
        }
      ]
    },
    {
      "cell_type": "code",
      "metadata": {
        "colab": {
          "base_uri": "https://localhost:8080/",
          "height": 283
        },
        "id": "q_NqF_0XEQDX",
        "outputId": "ee4005a3-1afd-4ace-914f-fa5931f08532"
      },
      "source": [
        "#train_loss vs. val_loss\r\n",
        "import matplotlib.pyplot as plt\r\n",
        "\r\n",
        "plt.plot(history.history['loss'])\r\n",
        "plt.plot(history.history['val_loss'])\r\n",
        "plt.xlabel('epoch')\r\n",
        "plt.ylabel('loss')\r\n",
        "plt.legend(['train_loss','val_loss'])\r\n",
        "plt.show()"
      ],
      "execution_count": 22,
      "outputs": [
        {
          "output_type": "display_data",
          "data": {
            "image/png": "[encoded data removed]",
            "text/plain": [
              "<Figure size 432x288 with 1 Axes>"
            ]
          },
          "metadata": {
            "tags": [],
            "needs_background": "light"
          }
        }
      ]
    },
    {
      "cell_type": "code",
      "metadata": {
        "colab": {
          "base_uri": "https://localhost:8080/",
          "height": 279
        },
        "id": "mwuQ-l7PE3VF",
        "outputId": "609e3ef7-109a-46d3-d3ae-72b6c8a8411c"
      },
      "source": [
        "#train accuracy vs. val accuracy\r\n",
        "plt.plot(history.history['accuracy'])\r\n",
        "plt.plot(history.history['val_accuracy'])\r\n",
        "plt.xlabel('epoch')\r\n",
        "plt.ylabel('accuracy')\r\n",
        "plt.legend(['train_acc', 'val_acc'])\r\n",
        "plt.show()"
      ],
      "execution_count": 23,
      "outputs": [
        {
          "output_type": "display_data",
          "data": {
            "image/png": "[encoded data removed]",
            "text/plain": [
              "<Figure size 432x288 with 1 Axes>"
            ]
          },
          "metadata": {
            "tags": [],
            "needs_background": "light"
          }
        }
      ]
    },
    {
      "cell_type": "code",
      "metadata": {
        "colab": {
          "base_uri": "https://localhost:8080/"
        },
        "id": "uW0zKvsnFOQA",
        "outputId": "28881f28-b06e-4ea4-a070-8e8e02d3dd36"
      },
      "source": [
        "#성능 측정\r\n",
        "loss, accuracy = conv1.evaluate(x_val, y_val_encoded)\r\n",
        "print(accuracy)"
      ],
      "execution_count": 24,
      "outputs": [
        {
          "output_type": "stream",
          "text": [
            "375/375 [==============================] - 4s 9ms/step - loss: 0.2897 - accuracy: 0.9129\n",
            "0.9129166603088379\n"
          ],
          "name": "stdout"
        }
      ]
    },
    {
      "cell_type": "markdown",
      "metadata": {
        "id": "3ZWwMRBbH3_Y"
      },
      "source": [
        "- 케라스를 사용하여 val set에 대해 정확도가 92%로 크게 증가하긴 하였으나\r\n",
        "- loss 그래프와 accuracy 그래프를 보면 epoch를 수행한 지 5번도 안되어 loss는 다시 증가하기 시작하고, 정확도도 더 이상 높아지지 않고 정체하였다. --> 즉, __과적합__이 발생하였다.\r\n",
        "- 과적합을 막기 위해 __드롭아웃(Dropout)__ 사용! _드랍아웃은 모델 훈련시에만 적용한다._"
      ]
    },
    {
      "cell_type": "code",
      "metadata": {
        "id": "9n6W4no2FsAO"
      },
      "source": [
        "from tensorflow.keras.layers import Dropout\r\n",
        "\r\n",
        "conv2 = Sequential()\r\n",
        "#순서대로 합성곱층-풀링층-(드랍아웃)-완전연결층\r\n",
        "conv2.add(Conv2D(10, (3,3), activation='relu', padding='same', input_shape=(28,28,1)))\r\n",
        "conv2.add(MaxPooling2D((2,2)))\r\n",
        "conv2.add(Flatten())\r\n",
        "conv2.add(Dropout(0.5))\r\n",
        "conv2.add(Dense(100, activation='relu'))\r\n",
        "conv2.add(Dense(10, activation='softmax'))"
      ],
      "execution_count": 25,
      "outputs": []
    },
    {
      "cell_type": "code",
      "metadata": {
        "colab": {
          "base_uri": "https://localhost:8080/"
        },
        "id": "xldueoPXKWtX",
        "outputId": "9eb80ff5-00cf-4d85-ee89-b29d5839957b"
      },
      "source": [
        "conv2.summary() #드롭아웃층은 훈련되는 가중치가 없고(파라미터 0) 텐서의 차원 변경x"
      ],
      "execution_count": 26,
      "outputs": [
        {
          "output_type": "stream",
          "text": [
            "Model: \"sequential_1\"\n",
            "_________________________________________________________________\n",
            "Layer (type)                 Output Shape              Param #   \n",
            "=================================================================\n",
            "conv2d_1 (Conv2D)            (None, 28, 28, 10)        100       \n",
            "_________________________________________________________________\n",
            "max_pooling2d_1 (MaxPooling2 (None, 14, 14, 10)        0         \n",
            "_________________________________________________________________\n",
            "flatten_1 (Flatten)          (None, 1960)              0         \n",
            "_________________________________________________________________\n",
            "dropout (Dropout)            (None, 1960)              0         \n",
            "_________________________________________________________________\n",
            "dense_2 (Dense)              (None, 100)               196100    \n",
            "_________________________________________________________________\n",
            "dense_3 (Dense)              (None, 10)                1010      \n",
            "=================================================================\n",
            "Total params: 197,210\n",
            "Trainable params: 197,210\n",
            "Non-trainable params: 0\n",
            "_________________________________________________________________\n"
          ],
          "name": "stdout"
        }
      ]
    },
    {
      "cell_type": "code",
      "metadata": {
        "id": "SHOga_LkKXx9"
      },
      "source": [
        "conv2.compile(optimizer='adam', loss='categorical_crossentropy', metrics=['accuracy'])"
      ],
      "execution_count": 27,
      "outputs": []
    },
    {
      "cell_type": "code",
      "metadata": {
        "colab": {
          "base_uri": "https://localhost:8080/"
        },
        "id": "XMP8nONNK0Nu",
        "outputId": "6f08403f-31f4-4d9c-bf56-9bfae00e907c"
      },
      "source": [
        "history = conv2.fit(x_train, y_train_encoded, epochs=20, validation_data=(x_val, y_val_encoded), batch_size=128)"
      ],
      "execution_count": 28,
      "outputs": [
        {
          "output_type": "stream",
          "text": [
            "Epoch 1/20\n",
            "375/375 [==============================] - 16s 41ms/step - loss: 0.8620 - accuracy: 0.7025 - val_loss: 0.3933 - val_accuracy: 0.8644\n",
            "Epoch 2/20\n",
            "375/375 [==============================] - 15s 41ms/step - loss: 0.4261 - accuracy: 0.8478 - val_loss: 0.3429 - val_accuracy: 0.8823\n",
            "Epoch 3/20\n",
            "375/375 [==============================] - 15s 40ms/step - loss: 0.3799 - accuracy: 0.8618 - val_loss: 0.3289 - val_accuracy: 0.8834\n",
            "Epoch 4/20\n",
            "375/375 [==============================] - 15s 41ms/step - loss: 0.3742 - accuracy: 0.8627 - val_loss: 0.3061 - val_accuracy: 0.8907\n",
            "Epoch 5/20\n",
            "375/375 [==============================] - 15s 41ms/step - loss: 0.3429 - accuracy: 0.8753 - val_loss: 0.2971 - val_accuracy: 0.8931\n",
            "Epoch 6/20\n",
            "375/375 [==============================] - 15s 41ms/step - loss: 0.3189 - accuracy: 0.8811 - val_loss: 0.2860 - val_accuracy: 0.8961\n",
            "Epoch 7/20\n",
            "375/375 [==============================] - 15s 41ms/step - loss: 0.3094 - accuracy: 0.8861 - val_loss: 0.2773 - val_accuracy: 0.9002\n",
            "Epoch 8/20\n",
            "375/375 [==============================] - 15s 41ms/step - loss: 0.3008 - accuracy: 0.8914 - val_loss: 0.2688 - val_accuracy: 0.9052\n",
            "Epoch 9/20\n",
            "375/375 [==============================] - 15s 41ms/step - loss: 0.2887 - accuracy: 0.8929 - val_loss: 0.2691 - val_accuracy: 0.9049\n",
            "Epoch 10/20\n",
            "375/375 [==============================] - 15s 41ms/step - loss: 0.2780 - accuracy: 0.8957 - val_loss: 0.2584 - val_accuracy: 0.9060\n",
            "Epoch 11/20\n",
            "375/375 [==============================] - 15s 40ms/step - loss: 0.2609 - accuracy: 0.9047 - val_loss: 0.2542 - val_accuracy: 0.9076\n",
            "Epoch 12/20\n",
            "375/375 [==============================] - 15s 41ms/step - loss: 0.2523 - accuracy: 0.9064 - val_loss: 0.2497 - val_accuracy: 0.9102\n",
            "Epoch 13/20\n",
            "375/375 [==============================] - 15s 40ms/step - loss: 0.2525 - accuracy: 0.9044 - val_loss: 0.2478 - val_accuracy: 0.9109\n",
            "Epoch 14/20\n",
            "375/375 [==============================] - 15s 41ms/step - loss: 0.2445 - accuracy: 0.9068 - val_loss: 0.2444 - val_accuracy: 0.9127\n",
            "Epoch 15/20\n",
            "375/375 [==============================] - 15s 40ms/step - loss: 0.2388 - accuracy: 0.9107 - val_loss: 0.2461 - val_accuracy: 0.9108\n",
            "Epoch 16/20\n",
            "375/375 [==============================] - 15s 41ms/step - loss: 0.2303 - accuracy: 0.9136 - val_loss: 0.2377 - val_accuracy: 0.9149\n",
            "Epoch 17/20\n",
            "375/375 [==============================] - 15s 41ms/step - loss: 0.2255 - accuracy: 0.9163 - val_loss: 0.2363 - val_accuracy: 0.9158\n",
            "Epoch 18/20\n",
            "375/375 [==============================] - 15s 41ms/step - loss: 0.2244 - accuracy: 0.9152 - val_loss: 0.2340 - val_accuracy: 0.9156\n",
            "Epoch 19/20\n",
            "375/375 [==============================] - 15s 40ms/step - loss: 0.2144 - accuracy: 0.9208 - val_loss: 0.2354 - val_accuracy: 0.9168\n",
            "Epoch 20/20\n",
            "375/375 [==============================] - 15s 40ms/step - loss: 0.2099 - accuracy: 0.9210 - val_loss: 0.2399 - val_accuracy: 0.9160\n"
          ],
          "name": "stdout"
        }
      ]
    },
    {
      "cell_type": "code",
      "metadata": {
        "colab": {
          "base_uri": "https://localhost:8080/",
          "height": 541
        },
        "id": "gBz3IJ8fM58-",
        "outputId": "5c148920-7cff-45db-829c-e5230ec8176d"
      },
      "source": [
        "#train_loss vs. val_loss\r\n",
        "plt.plot(history.history['loss'])\r\n",
        "plt.plot(history.history['val_loss'])\r\n",
        "plt.xlabel('epoch')\r\n",
        "plt.ylabel('loss')\r\n",
        "plt.legend(['train_loss','val_loss'])\r\n",
        "plt.show()\r\n",
        "\r\n",
        "#train accuracy vs. val accuracy\r\n",
        "plt.plot(history.history['accuracy'])\r\n",
        "plt.plot(history.history['val_accuracy'])\r\n",
        "plt.xlabel('epoch')\r\n",
        "plt.ylabel('accuracy')\r\n",
        "plt.legend(['train_acc', 'val_acc'])\r\n",
        "plt.show()"
      ],
      "execution_count": 29,
      "outputs": [
        {
          "output_type": "display_data",
          "data": {
            "image/png": "[encoded data removed]",
            "text/plain": [
              "<Figure size 432x288 with 1 Axes>"
            ]
          },
          "metadata": {
            "tags": [],
            "needs_background": "light"
          }
        },
        {
          "output_type": "display_data",
          "data": {
            "image/png": "[encoded data removed]",
            "text/plain": [
              "<Figure size 432x288 with 1 Axes>"
            ]
          },
          "metadata": {
            "tags": [],
            "needs_background": "light"
          }
        }
      ]
    },
    {
      "cell_type": "markdown",
      "metadata": {
        "id": "lNh3yKqdPVN-"
      },
      "source": [
        "- 과적합이 확실히 줄어들었단 것을 확인 가능(가장 좋은 성능일 때의 epoch가 늦춰짐, train set과 val set의 성능이 크게 차이나지 않음.)\r\n",
        "- 보통 손실함수(loss)를 최소화하면 accuracy가 증가할 것으로 생각되나 __반드시 그렇지는 않다.__"
      ]
    },
    {
      "cell_type": "code",
      "metadata": {
        "id": "dY6ytM-wK7HE",
        "colab": {
          "base_uri": "https://localhost:8080/"
        },
        "outputId": "1ce91a2c-b885-4207-864d-920412f9e955"
      },
      "source": [
        "#성능 측정\r\n",
        "loss, accuracy = conv2.evaluate(x_val, y_val_encoded)\r\n",
        "print(accuracy)"
      ],
      "execution_count": 30,
      "outputs": [
        {
          "output_type": "stream",
          "text": [
            "375/375 [==============================] - 3s 7ms/step - loss: 0.2399 - accuracy: 0.9160\n",
            "0.9160000085830688\n"
          ],
          "name": "stdout"
        }
      ]
    },
    {
      "cell_type": "code",
      "metadata": {
        "id": "cmtP-mQ-mGqg"
      },
      "source": [
        ""
      ],
      "execution_count": null,
      "outputs": []
    }
  ]
}