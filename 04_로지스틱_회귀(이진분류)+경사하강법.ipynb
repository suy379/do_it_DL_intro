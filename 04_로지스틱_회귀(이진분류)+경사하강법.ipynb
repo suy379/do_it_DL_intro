{
  "nbformat": 4,
  "nbformat_minor": 0,
  "metadata": {
    "colab": {
      "name": "04. 로지스틱 회귀(이진분류)+경사하강법.ipynb",
      "provenance": [],
      "collapsed_sections": [],
      "authorship_tag": "ABX9TyNyDH3zBqVcYk8GRvotBU8I",
      "include_colab_link": true
    },
    "kernelspec": {
      "name": "python3",
      "display_name": "Python 3"
    }
  },
  "cells": [
    {
      "cell_type": "markdown",
      "metadata": {
        "id": "view-in-github",
        "colab_type": "text"
      },
      "source": [
        "<a href=\"https://colab.research.google.com/github/suy379/do_it_DL_intro/blob/main/04_%EB%A1%9C%EC%A7%80%EC%8A%A4%ED%8B%B1_%ED%9A%8C%EA%B7%80(%EC%9D%B4%EC%A7%84%EB%B6%84%EB%A5%98)%2B%EA%B2%BD%EC%82%AC%ED%95%98%EA%B0%95%EB%B2%95.ipynb\" target=\"_parent\"><img src=\"https://colab.research.google.com/assets/colab-badge.svg\" alt=\"Open In Colab\"/></a>"
      ]
    },
    {
      "cell_type": "markdown",
      "metadata": {
        "id": "Jc1v0n9W6tUL"
      },
      "source": [
        "# 04. 분류하는 뉴런 만들기 (이진 분류, Classification)\r\n",
        "- 04-1. 초기 인공지능 알고리즘 & 로지스틱 회귀란?\r\n",
        "- 04-2. 시그모이드 함수로 확률 만들기\r\n",
        "- 04-3. 로지스틱 손실 함수 + 경사 하강법\r\n",
        "- 04-4. 분류용 데이터 세트 준비하기\r\n",
        "- 04-5. 로지스틱 회귀를 위한 뉴런 만들기\r\n",
        "- 04-6. 로지스틱 회귀 뉴런으로 단일층 신경망 만들기\r\n",
        "- 04-7. 사이킷런으로 로지스틱 회귀 수행하기"
      ]
    },
    {
      "cell_type": "markdown",
      "metadata": {
        "id": "p945x5pBdIKm"
      },
      "source": [
        "### 04-4. 분류용 데이터 세트 준비하기(sklearn 위스콘신 유방암 데이터)\r\n",
        "- 목표: target 값이 악성 종양(1)인지 정상 종양(0)인지를 분류하는 이진 분류."
      ]
    },
    {
      "cell_type": "code",
      "metadata": {
        "id": "_GGA_I0r6soT"
      },
      "source": [
        "from sklearn.datasets import load_breast_cancer\r\n",
        "cancer = load_breast_cancer()"
      ],
      "execution_count": null,
      "outputs": []
    },
    {
      "cell_type": "code",
      "metadata": {
        "colab": {
          "base_uri": "https://localhost:8080/"
        },
        "id": "iIwIHCLv7BZs",
        "outputId": "c8773322-ce35-4dc7-ac54-d27306efecd2"
      },
      "source": [
        "print(cancer.data.shape, cancer.target.shape)"
      ],
      "execution_count": null,
      "outputs": [
        {
          "output_type": "stream",
          "text": [
            "(569, 30) (569,)\n"
          ],
          "name": "stdout"
        }
      ]
    },
    {
      "cell_type": "code",
      "metadata": {
        "colab": {
          "base_uri": "https://localhost:8080/"
        },
        "id": "e1Fen-fHfI-t",
        "outputId": "f3782d77-1c77-4709-9b52-e0a3099d6061"
      },
      "source": [
        "print(cancer.data[:3]) #피처가 30개 존재 "
      ],
      "execution_count": null,
      "outputs": [
        {
          "output_type": "stream",
          "text": [
            "[[1.799e+01 1.038e+01 1.228e+02 1.001e+03 1.184e-01 2.776e-01 3.001e-01\n",
            "  1.471e-01 2.419e-01 7.871e-02 1.095e+00 9.053e-01 8.589e+00 1.534e+02\n",
            "  6.399e-03 4.904e-02 5.373e-02 1.587e-02 3.003e-02 6.193e-03 2.538e+01\n",
            "  1.733e+01 1.846e+02 2.019e+03 1.622e-01 6.656e-01 7.119e-01 2.654e-01\n",
            "  4.601e-01 1.189e-01]\n",
            " [2.057e+01 1.777e+01 1.329e+02 1.326e+03 8.474e-02 7.864e-02 8.690e-02\n",
            "  7.017e-02 1.812e-01 5.667e-02 5.435e-01 7.339e-01 3.398e+00 7.408e+01\n",
            "  5.225e-03 1.308e-02 1.860e-02 1.340e-02 1.389e-02 3.532e-03 2.499e+01\n",
            "  2.341e+01 1.588e+02 1.956e+03 1.238e-01 1.866e-01 2.416e-01 1.860e-01\n",
            "  2.750e-01 8.902e-02]\n",
            " [1.969e+01 2.125e+01 1.300e+02 1.203e+03 1.096e-01 1.599e-01 1.974e-01\n",
            "  1.279e-01 2.069e-01 5.999e-02 7.456e-01 7.869e-01 4.585e+00 9.403e+01\n",
            "  6.150e-03 4.006e-02 3.832e-02 2.058e-02 2.250e-02 4.571e-03 2.357e+01\n",
            "  2.553e+01 1.525e+02 1.709e+03 1.444e-01 4.245e-01 4.504e-01 2.430e-01\n",
            "  3.613e-01 8.758e-02]]\n"
          ],
          "name": "stdout"
        }
      ]
    },
    {
      "cell_type": "code",
      "metadata": {
        "colab": {
          "base_uri": "https://localhost:8080/",
          "height": 279
        },
        "id": "jpxetzZtfRp0",
        "outputId": "9f740c00-2d42-4c56-b7fe-426faa26e773"
      },
      "source": [
        "#박스 플롯을 그려 각 피처의 사분위값을 나타내봄.\r\n",
        "import matplotlib.pyplot as plt\r\n",
        "plt.boxplot(cancer.data)\r\n",
        "plt.xlabel('feature')\r\n",
        "plt.ylabel('value')\r\n",
        "plt.show()"
      ],
      "execution_count": null,
      "outputs": [
        {
          "output_type": "display_data",
          "data": {
            "image/png": "[encoded data removed]",
            "text/plain": [
              "<Figure size 432x288 with 1 Axes>"
            ]
          },
          "metadata": {
            "tags": [],
            "needs_background": "light"
          }
        }
      ]
    },
    {
      "cell_type": "markdown",
      "metadata": {
        "id": "BrqUAiLSgG6_"
      },
      "source": [
        "- 눈에 띄는 특성을 살펴보자. 4, 14, 24번째 특성이 다른 특성보다 값의 분포가 훨씬 크다는 것을 알 수 있다."
      ]
    },
    {
      "cell_type": "code",
      "metadata": {
        "colab": {
          "base_uri": "https://localhost:8080/"
        },
        "id": "ha4LnpUlgCHc",
        "outputId": "057dcb80-f19e-431b-c316-0ea584858178"
      },
      "source": [
        "#4, 14, 24번째 특성의 피처명은?\r\n",
        "print(cancer.feature_names[[3, 13, 23]])"
      ],
      "execution_count": null,
      "outputs": [
        {
          "output_type": "stream",
          "text": [
            "['mean area' 'area error' 'worst area']\n"
          ],
          "name": "stdout"
        }
      ]
    },
    {
      "cell_type": "code",
      "metadata": {
        "colab": {
          "base_uri": "https://localhost:8080/"
        },
        "id": "U_HqxXcRgVLu",
        "outputId": "97918b1f-fd2f-4d6a-9ba0-ca141648cb4e"
      },
      "source": [
        "#타깃 데이터 확인하기: 0과 1의 분포가 고른가?\r\n",
        "import numpy as np\r\n",
        "np.unique(cancer.target, return_counts=True) #0은 212개, 1은 357개로 꽤 고른 편이다."
      ],
      "execution_count": null,
      "outputs": [
        {
          "output_type": "execute_result",
          "data": {
            "text/plain": [
              "(array([0, 1]), array([212, 357]))"
            ]
          },
          "metadata": {
            "tags": []
          },
          "execution_count": 6
        }
      ]
    },
    {
      "cell_type": "code",
      "metadata": {
        "id": "Sz0mmO0sgnj9"
      },
      "source": [
        "#저장\r\n",
        "x=cancer.data #이번엔 30개의 피처를 모두 사용하겠다.\r\n",
        "y=cancer.target "
      ],
      "execution_count": null,
      "outputs": []
    },
    {
      "cell_type": "code",
      "metadata": {
        "colab": {
          "base_uri": "https://localhost:8080/"
        },
        "id": "xDzzsmG1V1Qg",
        "outputId": "57bc011e-a865-4edd-aec2-210344081ef5"
      },
      "source": [
        "print(x.shape, len(x))"
      ],
      "execution_count": null,
      "outputs": [
        {
          "output_type": "stream",
          "text": [
            "(569, 30) 569\n"
          ],
          "name": "stdout"
        }
      ]
    },
    {
      "cell_type": "markdown",
      "metadata": {
        "id": "w4YB1ItyhH5K"
      },
      "source": [
        "### 04-5. 로지스틱 회귀를 위한 뉴런 만들기\r\n",
        "- 훈련 세트와 테스트 세트로 나누기(주의: 훈련셋>테스트셋이어야 하고, target의 양성-음성 클래스의 비율이 훈련셋과 테스트셋 안에서도 똑같아야 한다!)\r\n",
        "- 로지스틱 회귀 뉴런 만들기(클래스로 구현)"
      ]
    },
    {
      "cell_type": "code",
      "metadata": {
        "id": "Pcy_HkMfhDYu"
      },
      "source": [
        "# 훈련셋, 테스트셋 나누기\r\n",
        "#1. train_test_split 함수 사용\r\n",
        "from sklearn.model_selection import train_test_split\r\n",
        "x_train, x_test, y_train, y_test = train_test_split(x, y, stratify=y, test_size=0.2, random_state=42)"
      ],
      "execution_count": null,
      "outputs": []
    },
    {
      "cell_type": "code",
      "metadata": {
        "colab": {
          "base_uri": "https://localhost:8080/"
        },
        "id": "5BVhSjDvOhWR",
        "outputId": "c707d690-edec-433a-c18a-e7a88289ed6c"
      },
      "source": [
        "#2. train, test 셋이 적절히 나누어졌는지 확인하기 \r\n",
        "print(x_train.shape, x_test.shape) #트레인셋은 455개, 테스트셋은 114개로 8:2의 비율로 잘 나눠짐."
      ],
      "execution_count": null,
      "outputs": [
        {
          "output_type": "stream",
          "text": [
            "(455, 30) (114, 30)\n"
          ],
          "name": "stdout"
        }
      ]
    },
    {
      "cell_type": "code",
      "metadata": {
        "colab": {
          "base_uri": "https://localhost:8080/"
        },
        "id": "ypO1kC03O2jT",
        "outputId": "c4ab9a3c-5a0a-45ed-cd05-e8a332c8b749"
      },
      "source": [
        "#3. target의 클래스 비율이 비슷한지 확인하기\r\n",
        "np.unique(y_train, return_counts=True)"
      ],
      "execution_count": null,
      "outputs": [
        {
          "output_type": "execute_result",
          "data": {
            "text/plain": [
              "(array([0, 1]), array([170, 285]))"
            ]
          },
          "metadata": {
            "tags": []
          },
          "execution_count": 14
        }
      ]
    },
    {
      "cell_type": "code",
      "metadata": {
        "colab": {
          "base_uri": "https://localhost:8080/"
        },
        "id": "goXs_WGJPOex",
        "outputId": "6c2b3bd4-2ed3-4882-9ac1-5590861dddbb"
      },
      "source": [
        "print(212/357)\r\n",
        "print(170/285)"
      ],
      "execution_count": null,
      "outputs": [
        {
          "output_type": "stream",
          "text": [
            "0.5938375350140056\n",
            "0.5964912280701754\n"
          ],
          "name": "stdout"
        }
      ]
    },
    {
      "cell_type": "markdown",
      "metadata": {
        "id": "n_q8gEKlWkXv"
      },
      "source": [
        "- train셋만으로 학습을 하고, test셋으로는 평가를 한다.(여기서 test셋은 validation셋의 개념)\r\n",
        "- __로지스틱 회귀에 경사 하강법을 적용한 뉴런을 만들어보자.__(딥러닝으로 메서드를 쌓아보자!)"
      ]
    },
    {
      "cell_type": "code",
      "metadata": {
        "colab": {
          "base_uri": "https://localhost:8080/"
        },
        "id": "Gf5KauONZ49T",
        "outputId": "08750d12-6053-411b-98e6-0de9e9d04cd1"
      },
      "source": [
        "#넘파이 배열로 사칙연산: 자동으로 배열의 요소끼리 계산\r\n",
        "import numpy as np\r\n",
        "a = np.array([1,2,3])\r\n",
        "b = np.array([3,4,5])\r\n",
        "print(a+b)\r\n",
        "print(a*b)"
      ],
      "execution_count": null,
      "outputs": [
        {
          "output_type": "stream",
          "text": [
            "[4 6 8]\n",
            "[ 3  8 15]\n"
          ],
          "name": "stdout"
        }
      ]
    },
    {
      "cell_type": "code",
      "metadata": {
        "colab": {
          "base_uri": "https://localhost:8080/"
        },
        "id": "HeUrAQf7aLA7",
        "outputId": "8846270c-202a-47b3-cf74-3674a48303cf"
      },
      "source": [
        "#그럼 앞서 구한 a*b의 넘파이 배열을 모두 더하려면 다음과 같이 하면 됨.\r\n",
        "np.sum(a*b) #[3 8 15]를 모두 더한 값(3+8+15=26)"
      ],
      "execution_count": null,
      "outputs": [
        {
          "output_type": "execute_result",
          "data": {
            "text/plain": [
              "26"
            ]
          },
          "metadata": {
            "tags": []
          },
          "execution_count": 2
        }
      ]
    },
    {
      "cell_type": "code",
      "metadata": {
        "colab": {
          "base_uri": "https://localhost:8080/"
        },
        "id": "DXqDxtxxbri9",
        "outputId": "e4f8c25e-0298-411a-8307-0320a6681c46"
      },
      "source": [
        "# 행렬 곱\r\n",
        "c = np.array([1,2,3]) #1차원\r\n",
        "d = np.array([[1,2,3], [4,5,6]]) #2차원 \r\n",
        "print(c.shape, d.shape)"
      ],
      "execution_count": null,
      "outputs": [
        {
          "output_type": "stream",
          "text": [
            "(3,) (2, 3)\n"
          ],
          "name": "stdout"
        }
      ]
    },
    {
      "cell_type": "code",
      "metadata": {
        "colab": {
          "base_uri": "https://localhost:8080/"
        },
        "id": "foPdtVIWb9aP",
        "outputId": "e88f0738-6c74-4ffc-f8e5-a048b7019a58"
      },
      "source": [
        "#위의 상황에서 c와 d를 곱하면- 1차원은 차수가 무시되므로 2차원임.\r\n",
        "e = d*c\r\n",
        "print(e)\r\n",
        "print(e.shape)"
      ],
      "execution_count": null,
      "outputs": [
        {
          "output_type": "stream",
          "text": [
            "[[ 1  4  9]\n",
            " [ 4 10 18]]\n",
            "(2, 3)\n"
          ],
          "name": "stdout"
        }
      ]
    },
    {
      "cell_type": "code",
      "metadata": {
        "colab": {
          "base_uri": "https://localhost:8080/"
        },
        "id": "CNuavfJ0cXLD",
        "outputId": "f98d617f-90b2-4ed9-9a04-af86b49c21eb"
      },
      "source": [
        "np.sum(d*c) #그리고 이렇게 쓰면 d*c(배열)를 모두 더한 값을 출력함.(연속형 값 출력)"
      ],
      "execution_count": null,
      "outputs": [
        {
          "output_type": "execute_result",
          "data": {
            "text/plain": [
              "46"
            ]
          },
          "metadata": {
            "tags": []
          },
          "execution_count": 5
        }
      ]
    },
    {
      "cell_type": "code",
      "metadata": {
        "colab": {
          "base_uri": "https://localhost:8080/"
        },
        "id": "ENK5LoyrG0nB",
        "outputId": "a68e3e9a-cc40-470e-e265-744ddff6a714"
      },
      "source": [
        "#그럼 차수를 맞추지 않은 1차원도 가능? --> 된다. 왜냐하면 1차원이면 어떤 차원이든 곱할수 있기 때문(mxn의 숫자 맞출 필요없음.)\r\n",
        "e = c*d\r\n",
        "print(e)\r\n",
        "print(e.shape)"
      ],
      "execution_count": null,
      "outputs": [
        {
          "output_type": "stream",
          "text": [
            "[[ 1  4  9]\n",
            " [ 4 10 18]]\n",
            "(2, 3)\n"
          ],
          "name": "stdout"
        }
      ]
    },
    {
      "cell_type": "code",
      "metadata": {
        "colab": {
          "base_uri": "https://localhost:8080/"
        },
        "id": "lkIAsKEjHiy2",
        "outputId": "a6cbdb89-c711-4389-9055-cb550f428dc5"
      },
      "source": [
        "f = np.array(list(np.arange(30)))\r\n",
        "g = np.array([50])\r\n",
        "print(f.shape, g.shape)"
      ],
      "execution_count": null,
      "outputs": [
        {
          "output_type": "stream",
          "text": [
            "(30,) (1,)\n"
          ],
          "name": "stdout"
        }
      ]
    },
    {
      "cell_type": "code",
      "metadata": {
        "colab": {
          "base_uri": "https://localhost:8080/"
        },
        "id": "UwGX4SXTHxCV",
        "outputId": "bcd247a0-7da4-4d4b-b404-e441f1482c9c"
      },
      "source": [
        "print(f, g)"
      ],
      "execution_count": null,
      "outputs": [
        {
          "output_type": "stream",
          "text": [
            "[ 0  1  2  3  4  5  6  7  8  9 10 11 12 13 14 15 16 17 18 19 20 21 22 23\n",
            " 24 25 26 27 28 29] [50]\n"
          ],
          "name": "stdout"
        }
      ]
    },
    {
      "cell_type": "code",
      "metadata": {
        "colab": {
          "base_uri": "https://localhost:8080/"
        },
        "id": "olE-sr0kHy9Y",
        "outputId": "039e68d1-39a5-4d72-c701-2d629f5fbe0e"
      },
      "source": [
        "e = f*g\r\n",
        "print(e)\r\n",
        "print(e.shape)"
      ],
      "execution_count": null,
      "outputs": [
        {
          "output_type": "stream",
          "text": [
            "[   0   50  100  150  200  250  300  350  400  450  500  550  600  650\n",
            "  700  750  800  850  900  950 1000 1050 1100 1150 1200 1250 1300 1350\n",
            " 1400 1450]\n",
            "(30,)\n"
          ],
          "name": "stdout"
        }
      ]
    },
    {
      "cell_type": "code",
      "metadata": {
        "id": "RTPJWxSIPUWI"
      },
      "source": [
        "class LogisticNeuron:\r\n",
        "\r\n",
        "    def __init__(self):\r\n",
        "        self.w = None\r\n",
        "        self.b = None\r\n",
        "    \r\n",
        "    # 정방향 계산 메서드(z를 출력)\r\n",
        "    def forpass(self, x):\r\n",
        "        z = np.sum(x*self.w) + self.b #x, self.w 모두 넘파이 배열이므로 각 배열 요소끼리 곱하고 모두 더해, 연속형 값인 z 반환. \r\n",
        "        return z\r\n",
        "\r\n",
        "    # 정방향 메서드(a를 출력)\r\n",
        "    def activation(self, z):\r\n",
        "        a = 1 / (1+np.exp(-z))\r\n",
        "        return a \r\n",
        "\r\n",
        "    # 역방향 계산(그레디언트를 출력)\r\n",
        "    def backprop(self, x, err):\r\n",
        "        w_grad = x*err\r\n",
        "        b_grad = 1*err\r\n",
        "        return w_grad, b_grad \r\n",
        "\r\n",
        "    # 핵심: 학습 메서드 --> 이 안에 forpass, activation, backprop 다있으니까 실제로 학습 시엔 fit 메서드만 사용하면 된다!! / 이 안엔 train셋(x_train, y_train)만 넣기.\r\n",
        "    def fit(self, x, y, epochs=100):\r\n",
        "        #초기값 설정\r\n",
        "        self.w = np.ones(x.shape[1]) #x의 피처 개수만큼 1로 되어있는 값으로 설정 (즉, self.w의 shape은 (30,))\r\n",
        "        self.b = 0\r\n",
        "        #epochs만큼 반복\r\n",
        "        for i in range(epochs):\r\n",
        "            for xi, yi in zip(x,y):\r\n",
        "                z = self.forpass(xi)\r\n",
        "                a = self.activation(z) \r\n",
        "                err = -(yi-a)\r\n",
        "                w_grad, b_grad = self.backprop(xi, err)\r\n",
        "                #가중치, 절편 업데이트\r\n",
        "                self.w -= w_grad\r\n",
        "                self.b -= b_grad\r\n",
        "\r\n",
        "    # 핵심: 예측 메서드-- 이 안에는 x_test만 넣고, 출력값을 y_test와 일치하는지를 보고 평가한다.\r\n",
        "    def predict(self, x):\r\n",
        "        z = [self.forpass(xi) for xi in x] #x가 2차원이라고 봄, fit 메서드 수행했다면 self.w와 self.b 값도 최적의 파라미터 값으로 바뀌어 있을 것임. 그러니 그냥 x를 넣어서 계산.\r\n",
        "        a = self.activation(np.array(z)) #위에서 z는 리스트로 반환되므로, 넘파이 배열로 만들어 적용 \r\n",
        "        return a> 0.5 #True라면 1, 아니면 0 반환 \r\n"
      ],
      "execution_count": null,
      "outputs": []
    },
    {
      "cell_type": "code",
      "metadata": {
        "colab": {
          "base_uri": "https://localhost:8080/"
        },
        "id": "pZDA28zAk6rd",
        "outputId": "67ddb20f-e512-4027-8fbb-89820e442b90"
      },
      "source": [
        "# 모델 학습하기\r\n",
        "neuron = LogisticNeuron() #객체\r\n",
        "neuron.fit(x_train, y_train, 1000)"
      ],
      "execution_count": null,
      "outputs": [
        {
          "output_type": "stream",
          "text": [
            "/usr/local/lib/python3.6/dist-packages/ipykernel_launcher.py:14: RuntimeWarning: overflow encountered in exp\n",
            "  \n"
          ],
          "name": "stderr"
        }
      ]
    },
    {
      "cell_type": "code",
      "metadata": {
        "colab": {
          "base_uri": "https://localhost:8080/"
        },
        "id": "Fy696FNXlB0O",
        "outputId": "0ceaead6-2c6a-4cd6-b1e8-97e611ce1c3d"
      },
      "source": [
        "# 학습후(반드시 학습을 먼저 진행해야함! 그래야 self.w, self.b가 최적값으로 바뀌어 있으니까!) 예측\r\n",
        "neuron.predict(x_test)"
      ],
      "execution_count": null,
      "outputs": [
        {
          "output_type": "stream",
          "text": [
            "/usr/local/lib/python3.6/dist-packages/ipykernel_launcher.py:14: RuntimeWarning: overflow encountered in exp\n",
            "  \n"
          ],
          "name": "stderr"
        },
        {
          "output_type": "execute_result",
          "data": {
            "text/plain": [
              "array([False,  True, False, False, False,  True,  True, False, False,\n",
              "       False,  True, False,  True, False, False,  True, False,  True,\n",
              "        True,  True, False, False,  True,  True,  True, False, False,\n",
              "        True,  True,  True,  True,  True,  True,  True, False,  True,\n",
              "        True,  True,  True, False,  True,  True,  True, False, False,\n",
              "       False,  True,  True,  True, False,  True, False,  True, False,\n",
              "        True,  True,  True, False, False,  True,  True,  True,  True,\n",
              "        True, False,  True,  True,  True,  True,  True,  True,  True,\n",
              "        True, False, False, False,  True,  True,  True,  True, False,\n",
              "        True, False,  True, False,  True,  True,  True, False,  True,\n",
              "        True,  True, False, False, False,  True, False,  True, False,\n",
              "       False, False, False,  True,  True, False, False,  True, False,\n",
              "        True, False,  True, False,  True,  True])"
            ]
          },
          "metadata": {
            "tags": []
          },
          "execution_count": 17
        }
      ]
    },
    {
      "cell_type": "code",
      "metadata": {
        "colab": {
          "base_uri": "https://localhost:8080/"
        },
        "id": "Ju2X_3RelLFB",
        "outputId": "67069fa9-1d1e-4500-8ac8-8d6cd4b4447c"
      },
      "source": [
        "# 평가: 위의 x_test로 예측한 값을 y_test와 비교.\r\n",
        "np.mean(neuron.predict(x_test)==y_test)"
      ],
      "execution_count": null,
      "outputs": [
        {
          "output_type": "stream",
          "text": [
            "/usr/local/lib/python3.6/dist-packages/ipykernel_launcher.py:14: RuntimeWarning: overflow encountered in exp\n",
            "  \n"
          ],
          "name": "stderr"
        },
        {
          "output_type": "execute_result",
          "data": {
            "text/plain": [
              "0.8947368421052632"
            ]
          },
          "metadata": {
            "tags": []
          },
          "execution_count": 18
        }
      ]
    },
    {
      "cell_type": "markdown",
      "metadata": {
        "id": "jbsPCFKblVTv"
      },
      "source": [
        "- epochs 값을 늘릴수록 정확도가 커짐(epochs=100이면 0.82, 1000이면 0.89) \r\n",
        "- 사실 이 로지스틱 회귀 클래스는 성능이 좋은 편은 아니다. 실전에선 사이킷런과 같은 안정적인 패키지 사용을 하는 것이 좋다."
      ]
    },
    {
      "cell_type": "markdown",
      "metadata": {
        "id": "TRHnB5kkmSWI"
      },
      "source": [
        "### 04-6. 로지스틱 회귀 뉴런으로 __\"단일층 신경망\"__ 만들기\r\n",
        "- 새로운 기능: 손실 함수의 결과값 저장\r\n",
        "- 확률적 경사 하강법 구현, 아까 LogisticNeuron과 다른 점은 이전에는 데이터의 순서(0번부터~455까지) 그대로 학습후 그레디언트를 빼서 업데이트했다면, 이번에는 데이터 순서를 랜덤하게 섞어서 학습후 업데이트하였다. (이게 더 학습 효율이 높다!)"
      ]
    },
    {
      "cell_type": "code",
      "metadata": {
        "id": "-P7hLVrTlTVC"
      },
      "source": [
        "class SingleLayer:\r\n",
        "\r\n",
        "    def __init__(self):\r\n",
        "        self.w = None\r\n",
        "        self.b = None\r\n",
        "        self.losses = [] #손실 함수의 결과값 저장 - 리스트로 만들어서 추가 \r\n",
        "    \r\n",
        "    # 정방향 계산 메서드(z를 출력)\r\n",
        "    def forpass(self, x):\r\n",
        "        z = np.sum(x*self.w) + self.b #x, self.w 모두 넘파이 배열이므로 각 배열 요소끼리 곱하고 모두 더해, 연속형 값인 z 반환. \r\n",
        "        return z\r\n",
        "\r\n",
        "    # 정방향 메서드(a를 출력)\r\n",
        "    def activation(self, z):\r\n",
        "        a = 1 / (1+np.exp(-z))\r\n",
        "        return a \r\n",
        "\r\n",
        "    # 역방향 계산(그레디언트를 출력)\r\n",
        "    def backprop(self, x, err):\r\n",
        "        w_grad = x*err\r\n",
        "        b_grad = 1*err\r\n",
        "        return w_grad, b_grad \r\n",
        "\r\n",
        "    # 핵심: 학습 메서드 --> 이 안에 forpass, activation, backprop 다있으니까 실제로 학습 시엔 fit 메서드만 사용하면 된다!! / 이 안엔 train셋(x_train, y_train)만 넣기.\r\n",
        "    def fit(self, x, y, epochs=100):\r\n",
        "        #초기값 설정\r\n",
        "        self.w = np.ones(x.shape[1]) #x의 피처 개수만큼 1로 되어있는 값으로 설정 (즉, self.w의 shape은 (30,))\r\n",
        "        self.b = 0\r\n",
        "        #epochs만큼 반복\r\n",
        "        for i in range(epochs):\r\n",
        "            loss = 0 #loss 값 초기화 \r\n",
        "            #index 값 섞기(여기선 x_train의 개수 455개만큼의 번호표를 랜덤하게 나열한 게 indexes임.)\r\n",
        "            indexes = np.random.permutation(np.arange(len(x)))\r\n",
        "            for i in indexes:\r\n",
        "                z = self.forpass(x[i])\r\n",
        "                a = self.activation(z) \r\n",
        "                err = -(y[i]-a)\r\n",
        "                w_grad, b_grad = self.backprop(x[i], err)\r\n",
        "                #가중치, 절편 업데이트\r\n",
        "                self.w -= w_grad\r\n",
        "                self.b -= b_grad\r\n",
        "                #각 샘플에 대해 index마다 loss를 계산\r\n",
        "                a = np.clip(a, 1e-10, 1-1e-10) #a값 0~1 에 가깝지 않고 1e-10~1-1e-10에 가깝도록 제한 \r\n",
        "                loss += -(y[i]*np.log(a) + (1-y[i])*np.log(1-a)) #각 샘플에 대해 총 loss 값을 더한 후\r\n",
        "            self.losses.append(loss/len(y)) #이제 index에 대한 for문을 벗어났을 때 평균 loss 값 1개만 추가.\r\n",
        "\r\n",
        "\r\n",
        "    # 핵심: 예측 메서드-- 이 안에는 x_test만 넣는다.\r\n",
        "    def predict(self, x):\r\n",
        "        z = [self.forpass(xi) for xi in x] #x가 2차원이라고 봄, fit 메서드 수행했다면 self.w와 self.b 값도 최적의 파라미터 값으로 바뀌어 있을 것임. 그러니 그냥 x를 넣어서 계산.\r\n",
        "        return np.array(z) >0 #어차피 z가 0보다 크면 a도 0.5보다 크므로 이렇게 써도 된다.\r\n",
        "    \r\n",
        "    # 평가 메서드-- 이 안에는 앞서 predict로 반환된 값과 y_test를 비교한 정확도를 출력.\r\n",
        "    def score(self, x, y):\r\n",
        "        return np.mean(self.predict(x) == y)\r\n"
      ],
      "execution_count": null,
      "outputs": []
    },
    {
      "cell_type": "code",
      "metadata": {
        "colab": {
          "base_uri": "https://localhost:8080/"
        },
        "id": "iyI_ZAsDe0qG",
        "outputId": "7186f96b-2e4e-4235-c140-9702209c1dee"
      },
      "source": [
        "# 훈련 후 정확도 출력\r\n",
        "layer = SingleLayer() #객체\r\n",
        "layer.fit(x_train, y_train, 100) #학습"
      ],
      "execution_count": null,
      "outputs": [
        {
          "output_type": "stream",
          "text": [
            "/usr/local/lib/python3.6/dist-packages/ipykernel_launcher.py:15: RuntimeWarning: overflow encountered in exp\n",
            "  from ipykernel import kernelapp as app\n"
          ],
          "name": "stderr"
        }
      ]
    },
    {
      "cell_type": "code",
      "metadata": {
        "colab": {
          "base_uri": "https://localhost:8080/"
        },
        "id": "Eb3OdoX4fCdA",
        "outputId": "dc1682c7-cbfe-4b81-ae4c-9e0bc9bb6791"
      },
      "source": [
        "#마찬가지로 predict 메서드는 쓸필요 없다. 왜냐면 score 안에 predict를 사용했으므로.\r\n",
        "layer.score(x_test, y_test)"
      ],
      "execution_count": null,
      "outputs": [
        {
          "output_type": "execute_result",
          "data": {
            "text/plain": [
              "0.9473684210526315"
            ]
          },
          "metadata": {
            "tags": []
          },
          "execution_count": 22
        }
      ]
    },
    {
      "cell_type": "markdown",
      "metadata": {
        "id": "mv3dNRNcfbS3"
      },
      "source": [
        "- 아까 LogisticNeuron보다 성능이 확실히 좋아졌다! 오히려 epoch 수를 줄였는데도!! \r\n",
        "- 이것이 바로 에포크별 __인덱스 섞기__의 위력 +_+"
      ]
    },
    {
      "cell_type": "code",
      "metadata": {
        "colab": {
          "base_uri": "https://localhost:8080/"
        },
        "id": "rgTd-gfhfJZY",
        "outputId": "29516cb0-cf2f-4893-db47-9b9763b68169"
      },
      "source": [
        "# 손실 함수 누적값 확인하기\r\n",
        "print(layer.losses)"
      ],
      "execution_count": null,
      "outputs": [
        {
          "output_type": "stream",
          "text": [
            "[7.5909398581699055, 5.920933088343447, 5.060626571358597, 5.010020305942423, 4.45335138272755, 4.099107522814011, 4.250926319244375, 4.554563913741746, 3.5930448651971703, 4.099107522450307, 3.491832333455576, 3.2388010049199276, 3.846076193369119, 3.3400135362978216, 3.2388010051017706, 2.631525816470729, 3.3400136052005744, 3.5930448648334687, 2.9351634106044058, 4.048501256124906, 3.036375941982303, 2.884557144824536, 3.6436511304314942, 3.1375884733601875, 3.6436511302496455, 2.682132082068755, 3.8460761933691243, 2.9351634102407207, 3.1881947389582175, 3.3400135361159764, 3.6436511300677985, 2.7327383474849376, 3.188194739140053, 3.289407270336101, 2.479707019312971, 3.846076193187277, 2.7833446132648003, 2.833950878862826, 2.8845571446426934, 3.542438598871759, 2.78334461308295, 3.036375941982298, 2.935163410604411, 2.8339508790446697, 3.2894072705179487, 2.9857696762024335, 2.5809195503271662, 2.4291007535330977, 2.8845571446426974, 2.3784944877532315, 2.631525816288885, 2.530313284729145, 2.88455714482454, 2.783344612901106, 2.5303132849109935, 2.3278882217915133, 3.289407270336105, 2.935163410422564, 2.5809195505090186, 3.0869834785584374, 3.3400135361159693, 2.9351634104225597, 3.0869822075803244, 3.0363759419822984, 2.5809195505090163, 3.036375941800448, 2.732738347484933, 2.9351634104225655, 2.5809195506908678, 2.884557144824541, 3.036375941800451, 2.6821320817050527, 2.9351634104225597, 2.985769676020588, 2.732738347666775, 2.7327383474849345, 2.7833446132647977, 3.238801004556233, 2.580919550509021, 2.9351634102407123, 2.884557144642696, 3.086982207580322, 2.6821320820687564, 2.5809195505090123, 2.935163410240711, 2.783344613446648, 2.0748568936195513, 2.935163410422559, 2.7833446132648, 2.429100753351263, 2.9857696760205843, 2.8339508788628223, 2.327888221791513, 2.4291007533512543, 2.783344613264795, 2.783344613082954, 2.6821320818869094, 3.1881947387763616, 2.6821320818869134, 2.4291007533512614]\n"
          ],
          "name": "stdout"
        }
      ]
    },
    {
      "cell_type": "code",
      "metadata": {
        "colab": {
          "base_uri": "https://localhost:8080/",
          "height": 279
        },
        "id": "FWnEC9-kgRRr",
        "outputId": "df9c2070-e31a-4f71-a1a1-5dcaa8996b0c"
      },
      "source": [
        "# 그래프로 확인\r\n",
        "import matplotlib.pyplot as plt\r\n",
        "plt.plot(layer.losses)\r\n",
        "plt.xlabel('epoch')\r\n",
        "plt.ylabel('loss')\r\n",
        "plt.show()"
      ],
      "execution_count": null,
      "outputs": [
        {
          "output_type": "display_data",
          "data": {
            "image/png": "[encoded data removed]",
            "text/plain": [
              "<Figure size 432x288 with 1 Axes>"
            ]
          },
          "metadata": {
            "tags": [],
            "needs_background": "light"
          }
        }
      ]
    },
    {
      "cell_type": "markdown",
      "metadata": {
        "id": "X-rdWntTnZ65"
      },
      "source": [
        "### 04-7. 사이킷런으로 로지스틱 회귀 수행하기\r\n",
        "- 사이킷런의 경사 하강법 구현: SGDClassifier (회귀에선 SGDRegressor)"
      ]
    },
    {
      "cell_type": "code",
      "metadata": {
        "id": "Y4q0P_nDgZ9H"
      },
      "source": [
        "from sklearn.linear_model import SGDClassifier\r\n",
        "#객체\r\n",
        "sgd = SGDClassifier(loss='log', max_iter=100, tol=1e-3, random_state=42) #max_iter = epochs, 반복할때마다 손실함수 값이 tol만큼 감소되지 않으면 반복 중단"
      ],
      "execution_count": null,
      "outputs": []
    },
    {
      "cell_type": "code",
      "metadata": {
        "colab": {
          "base_uri": "https://localhost:8080/"
        },
        "id": "znVRez6yn5Td",
        "outputId": "65bb20b1-ac0f-4332-eed4-e8220dd4e0c7"
      },
      "source": [
        "#훈련\r\n",
        "sgd.fit(x_train, y_train)\r\n",
        "#평가\r\n",
        "sgd.score(x_test, y_test)"
      ],
      "execution_count": null,
      "outputs": [
        {
          "output_type": "execute_result",
          "data": {
            "text/plain": [
              "0.8333333333333334"
            ]
          },
          "metadata": {
            "tags": []
          },
          "execution_count": 26
        }
      ]
    },
    {
      "cell_type": "code",
      "metadata": {
        "colab": {
          "base_uri": "https://localhost:8080/"
        },
        "id": "kvoJlWC8oLz2",
        "outputId": "ca827263-39e3-4673-c97c-594b4a05d393"
      },
      "source": [
        "#예측\r\n",
        "sgd.predict(x_test)"
      ],
      "execution_count": null,
      "outputs": [
        {
          "output_type": "execute_result",
          "data": {
            "text/plain": [
              "array([0, 1, 0, 0, 0, 0, 1, 0, 0, 0, 1, 0, 1, 0, 0, 1, 0, 1, 0, 1, 0, 0,\n",
              "       1, 1, 0, 0, 0, 1, 1, 0, 1, 1, 1, 1, 0, 1, 1, 1, 0, 0, 1, 1, 1, 0,\n",
              "       0, 0, 1, 1, 1, 0, 1, 0, 1, 0, 1, 1, 1, 0, 0, 1, 1, 1, 1, 1, 0, 1,\n",
              "       0, 1, 0, 1, 1, 1, 1, 0, 0, 0, 1, 1, 1, 1, 0, 1, 0, 1, 0, 1, 1, 1,\n",
              "       0, 1, 1, 1, 0, 0, 0, 1, 0, 1, 0, 0, 0, 0, 1, 1, 0, 0, 1, 0, 1, 0,\n",
              "       1, 0, 1, 1])"
            ]
          },
          "metadata": {
            "tags": []
          },
          "execution_count": 27
        }
      ]
    },
    {
      "cell_type": "code",
      "metadata": {
        "colab": {
          "base_uri": "https://localhost:8080/"
        },
        "id": "j7BLK_ZroSgk",
        "outputId": "03fb80fb-f7b2-46ef-9df2-57eb30f29959"
      },
      "source": [
        "y_test"
      ],
      "execution_count": null,
      "outputs": [
        {
          "output_type": "execute_result",
          "data": {
            "text/plain": [
              "array([0, 1, 0, 1, 0, 1, 1, 0, 0, 0, 1, 0, 1, 0, 0, 1, 1, 1, 1, 1, 0, 0,\n",
              "       1, 1, 1, 1, 0, 1, 1, 1, 1, 1, 1, 1, 0, 0, 1, 1, 1, 0, 1, 1, 1, 0,\n",
              "       0, 1, 1, 1, 1, 0, 1, 1, 1, 0, 1, 1, 1, 0, 0, 1, 1, 1, 1, 1, 0, 0,\n",
              "       1, 1, 1, 1, 1, 1, 1, 0, 0, 0, 0, 1, 1, 1, 1, 1, 0, 1, 0, 1, 1, 1,\n",
              "       1, 1, 1, 1, 0, 0, 0, 1, 0, 1, 0, 1, 0, 0, 0, 1, 0, 0, 1, 0, 1, 0,\n",
              "       1, 0, 1, 1])"
            ]
          },
          "metadata": {
            "tags": []
          },
          "execution_count": 28
        }
      ]
    },
    {
      "cell_type": "code",
      "metadata": {
        "id": "9BvuktdmocNd"
      },
      "source": [
        ""
      ],
      "execution_count": null,
      "outputs": []
    }
  ]
}