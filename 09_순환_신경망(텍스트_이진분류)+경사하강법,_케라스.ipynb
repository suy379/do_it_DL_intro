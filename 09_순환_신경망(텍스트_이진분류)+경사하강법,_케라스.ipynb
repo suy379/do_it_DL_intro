{
  "nbformat": 4,
  "nbformat_minor": 0,
  "metadata": {
    "colab": {
      "name": "09. 순환 신경망(텍스트 이진분류)+경사하강법, 케라스.ipynb",
      "provenance": [],
      "collapsed_sections": [],
      "authorship_tag": "ABX9TyNlTd121wjNMda1kFbVFaU0",
      "include_colab_link": true
    },
    "kernelspec": {
      "name": "python3",
      "display_name": "Python 3"
    }
  },
  "cells": [
    {
      "cell_type": "markdown",
      "metadata": {
        "id": "view-in-github",
        "colab_type": "text"
      },
      "source": [
        "<a href=\"https://colab.research.google.com/github/suy379/do_it_DL_intro/blob/main/09_%EC%88%9C%ED%99%98_%EC%8B%A0%EA%B2%BD%EB%A7%9D(%ED%85%8D%EC%8A%A4%ED%8A%B8_%EC%9D%B4%EC%A7%84%EB%B6%84%EB%A5%98)%2B%EA%B2%BD%EC%82%AC%ED%95%98%EA%B0%95%EB%B2%95%2C_%EC%BC%80%EB%9D%BC%EC%8A%A4.ipynb\" target=\"_parent\"><img src=\"https://colab.research.google.com/assets/colab-badge.svg\" alt=\"Open In Colab\"/></a>"
      ]
    },
    {
      "cell_type": "markdown",
      "metadata": {
        "id": "XuI2xFsmn9lc"
      },
      "source": [
        "# 09. 순환 신경망 for 텍스트 이진분류 \r\n",
        "- 09-1. 순차 데이터, 순환 신경망이란?\r\n",
        "- 09-2. 순환 신경망 손코딩\r\n",
        "- 09-3. 텐서플로로 순환 신경망 만들기\r\n",
        "- 09-4. LSTM 순환 신경망 만들기"
      ]
    },
    {
      "cell_type": "markdown",
      "metadata": {
        "id": "FsW1GxivoOGr"
      },
      "source": [
        "## 09-2. 순환 신경망을 이용한 __텍스트 이진 분류__\r\n",
        "- 텍스트 데이터를 순환 신경망에 적용하기 위해선 적절한 방법으로 변환이 필요.\r\n",
        "- 이용하려는 데이터는 IMDB 데이터 세트이고, 이 리뷰들이 긍정적인지 부정적인지 판별."
      ]
    },
    {
      "cell_type": "code",
      "metadata": {
        "id": "e6gmkbpJn8LN",
        "colab": {
          "base_uri": "https://localhost:8080/"
        },
        "outputId": "5a0f8c57-1800-4d6f-f744-cd44657f6feb"
      },
      "source": [
        "#데이터 불러오기\r\n",
        "import numpy as np\r\n",
        "import tensorflow as tf\r\n",
        "from tensorflow.keras.datasets import imdb\r\n",
        "(x_train_all, y_train_all), (x_test, y_test) = imdb.load_data(skip_top=20, num_words=100)"
      ],
      "execution_count": 1,
      "outputs": [
        {
          "output_type": "stream",
          "text": [
            "Downloading data from https://storage.googleapis.com/tensorflow/tf-keras-datasets/imdb.npz\n",
            "17465344/17464789 [==============================] - 0s 0us/step\n"
          ],
          "name": "stdout"
        },
        {
          "output_type": "stream",
          "text": [
            "<string>:6: VisibleDeprecationWarning: Creating an ndarray from ragged nested sequences (which is a list-or-tuple of lists-or-tuples-or ndarrays with different lengths or shapes) is deprecated. If you meant to do this, you must specify 'dtype=object' when creating the ndarray\n",
            "/usr/local/lib/python3.7/dist-packages/tensorflow/python/keras/datasets/imdb.py:159: VisibleDeprecationWarning: Creating an ndarray from ragged nested sequences (which is a list-or-tuple of lists-or-tuples-or ndarrays with different lengths or shapes) is deprecated. If you meant to do this, you must specify 'dtype=object' when creating the ndarray\n",
            "  x_train, y_train = np.array(xs[:idx]), np.array(labels[:idx])\n",
            "/usr/local/lib/python3.7/dist-packages/tensorflow/python/keras/datasets/imdb.py:160: VisibleDeprecationWarning: Creating an ndarray from ragged nested sequences (which is a list-or-tuple of lists-or-tuples-or ndarrays with different lengths or shapes) is deprecated. If you meant to do this, you must specify 'dtype=object' when creating the ndarray\n",
            "  x_test, y_test = np.array(xs[idx:]), np.array(labels[idx:])\n"
          ],
          "name": "stderr"
        }
      ]
    },
    {
      "cell_type": "code",
      "metadata": {
        "id": "R9Hvio8MoL2N",
        "colab": {
          "base_uri": "https://localhost:8080/"
        },
        "outputId": "ca6540b8-c12f-40f4-bbbf-3e60d762f2cb"
      },
      "source": [
        "print(x_train_all.shape, y_train_all.shape)"
      ],
      "execution_count": 2,
      "outputs": [
        {
          "output_type": "stream",
          "text": [
            "(25000,) (25000,)\n"
          ],
          "name": "stdout"
        }
      ]
    },
    {
      "cell_type": "markdown",
      "metadata": {
        "id": "VryeaRjNb_zE"
      },
      "source": [
        "#### 데이터 살펴보기(훈련셋)"
      ]
    },
    {
      "cell_type": "code",
      "metadata": {
        "colab": {
          "base_uri": "https://localhost:8080/"
        },
        "id": "jC-zs37DHo-C",
        "outputId": "7b17044c-8b21-4e46-93ef-76ccd257b444"
      },
      "source": [
        "#훈련셋 확인\r\n",
        "print(x_train_all[0])\r\n",
        "print(len(x_train_all[0]))"
      ],
      "execution_count": 3,
      "outputs": [
        {
          "output_type": "stream",
          "text": [
            "[2, 2, 22, 2, 43, 2, 2, 2, 2, 65, 2, 2, 66, 2, 2, 2, 36, 2, 2, 25, 2, 43, 2, 2, 50, 2, 2, 2, 35, 2, 2, 2, 2, 2, 2, 2, 2, 2, 2, 2, 39, 2, 2, 2, 2, 2, 2, 38, 2, 2, 2, 2, 50, 2, 2, 2, 2, 2, 2, 22, 2, 2, 2, 2, 2, 22, 71, 87, 2, 2, 43, 2, 38, 76, 2, 2, 2, 2, 22, 2, 2, 2, 2, 2, 2, 2, 2, 2, 62, 2, 2, 2, 2, 2, 2, 2, 2, 2, 2, 2, 2, 66, 2, 33, 2, 2, 2, 2, 38, 2, 2, 25, 2, 51, 36, 2, 48, 25, 2, 33, 2, 22, 2, 2, 28, 77, 52, 2, 2, 2, 2, 82, 2, 2, 2, 2, 2, 2, 2, 2, 2, 2, 2, 2, 2, 2, 36, 71, 43, 2, 2, 26, 2, 2, 46, 2, 2, 2, 2, 2, 2, 88, 2, 2, 2, 2, 98, 32, 2, 56, 26, 2, 2, 2, 2, 2, 2, 2, 22, 21, 2, 2, 26, 2, 2, 2, 30, 2, 2, 51, 36, 28, 2, 92, 25, 2, 2, 2, 65, 2, 38, 2, 88, 2, 2, 2, 2, 2, 2, 2, 2, 32, 2, 2, 2, 2, 2, 32]\n",
            "218\n"
          ],
          "name": "stdout"
        }
      ]
    },
    {
      "cell_type": "markdown",
      "metadata": {
        "id": "Vl1hTGr1Hx36"
      },
      "source": [
        "- IMDB 데이터셋은 텍스트 데이터긴 하지만 미리 텍스트를 고유한 정수로 바꾸어 놓았다.\r\n",
        "- BoW 방법을 이용하여 영단어를 고유한 정수에 일대일 대응함.\r\n",
        "- 여기서 2가 가장 많은데 2는 사전에 없는 단어를 의미하므로 삭제."
      ]
    },
    {
      "cell_type": "code",
      "metadata": {
        "colab": {
          "base_uri": "https://localhost:8080/"
        },
        "id": "aDmJt9PPHwdq",
        "outputId": "69643295-8716-462a-f4e2-394ee7902f25"
      },
      "source": [
        "for i in range(len(x_train_all)):\r\n",
        "    x_train_all[i] = [w for w in x_train_all[i] if w>2] #w값이 2보다 큰 것만 반환 \r\n",
        "print(x_train_all[0])"
      ],
      "execution_count": 4,
      "outputs": [
        {
          "output_type": "stream",
          "text": [
            "[22, 43, 65, 66, 36, 25, 43, 50, 35, 39, 38, 50, 22, 22, 71, 87, 43, 38, 76, 22, 62, 66, 33, 38, 25, 51, 36, 48, 25, 33, 22, 28, 77, 52, 82, 36, 71, 43, 26, 46, 88, 98, 32, 56, 26, 22, 21, 26, 30, 51, 36, 28, 92, 25, 65, 38, 88, 32, 32]\n"
          ],
          "name": "stdout"
        }
      ]
    },
    {
      "cell_type": "code",
      "metadata": {
        "colab": {
          "base_uri": "https://localhost:8080/"
        },
        "id": "QhToVA24IjTj",
        "outputId": "713d64aa-a04c-494f-8307-a70ec1f0a360"
      },
      "source": [
        "#어휘 사전을 내려받아 숫자를 영단어로 바꾸기\r\n",
        "word_to_index = imdb.get_word_index()\r\n",
        "word_to_index['movie'] #예를들어 movie는 숫자 17에 대응. (어휘사전은 딕셔너리로 되어있는데, key는 영단어 & value는 숫자임.)"
      ],
      "execution_count": 5,
      "outputs": [
        {
          "output_type": "stream",
          "text": [
            "Downloading data from https://storage.googleapis.com/tensorflow/tf-keras-datasets/imdb_word_index.json\n",
            "1646592/1641221 [==============================] - 0s 0us/step\n"
          ],
          "name": "stdout"
        },
        {
          "output_type": "execute_result",
          "data": {
            "text/plain": [
              "17"
            ]
          },
          "metadata": {
            "tags": []
          },
          "execution_count": 5
        }
      ]
    },
    {
      "cell_type": "code",
      "metadata": {
        "id": "u9qqSWVLIxBj"
      },
      "source": [
        "#편의상 key가 숫자, value가 영단어인 게 편하다.(딕셔너리는 key값을 인덱싱에 이용하니까)\r\n",
        "#그래서 word_to_index를 거꾸로 한 index_to_word를 만듦\r\n",
        "index_to_word = {word_to_index[k]: k for k in word_to_index} #딕셔너리니까 콜론(:) 꼭 써줘야 함.\r\n",
        "#index_to_word"
      ],
      "execution_count": 6,
      "outputs": []
    },
    {
      "cell_type": "code",
      "metadata": {
        "colab": {
          "base_uri": "https://localhost:8080/"
        },
        "id": "Hk940EtmJk-5",
        "outputId": "830902a8-9ab1-4ece-c18b-004dadc6b81e"
      },
      "source": [
        "#index_to_word 사전을 활용하여 훈련셋의 숫자-> 영단어로 변형\r\n",
        "for w in x_train_all[0]:\r\n",
        "    print(index_to_word[w-3], end=' ') #훈련셋 숫자는 3 이상부터가 영단어이므로."
      ],
      "execution_count": 7,
      "outputs": [
        {
          "output_type": "stream",
          "text": [
            "film just story really they you just there an from so there film film were great just so much film would really at so you what they if you at film have been good also they were just are out because them all up are film but are be what they have don't you story so because all all "
          ],
          "name": "stdout"
        }
      ]
    },
    {
      "cell_type": "code",
      "metadata": {
        "colab": {
          "base_uri": "https://localhost:8080/"
        },
        "id": "nFWTPCfjZvQd",
        "outputId": "516d8a67-4789-4292-aedd-596e474f538e"
      },
      "source": [
        "print(len(x_train_all[0]), len(x_train_all[1]))"
      ],
      "execution_count": 8,
      "outputs": [
        {
          "output_type": "stream",
          "text": [
            "59 32\n"
          ],
          "name": "stdout"
        }
      ]
    },
    {
      "cell_type": "code",
      "metadata": {
        "colab": {
          "base_uri": "https://localhost:8080/"
        },
        "id": "GW7sR3MtamlR",
        "outputId": "8e537007-bc94-4bbe-a1ec-163d9af78726"
      },
      "source": [
        "#훈련셋의 타깃\r\n",
        "print(y_train_all[:10])"
      ],
      "execution_count": 9,
      "outputs": [
        {
          "output_type": "stream",
          "text": [
            "[1 0 0 1 0 0 1 0 1 0]\n"
          ],
          "name": "stdout"
        }
      ]
    },
    {
      "cell_type": "code",
      "metadata": {
        "colab": {
          "base_uri": "https://localhost:8080/"
        },
        "id": "azJxMvGNcK7f",
        "outputId": "a1a61b7e-187a-455f-c208-582ad9168ecd"
      },
      "source": [
        "#훈련셋 중 5000개 검증셋으로 떼어내기(랜덤 인덱스 활용)\r\n",
        "np.random.seed(42)\r\n",
        "random_index = np.random.permutation(25000)\r\n",
        "print(random_index[:5]) #이렇게 인덱스가 랜덤으로 섞임"
      ],
      "execution_count": 10,
      "outputs": [
        {
          "output_type": "stream",
          "text": [
            "[ 6868 24016  9668 13640 14018]\n"
          ],
          "name": "stdout"
        }
      ]
    },
    {
      "cell_type": "code",
      "metadata": {
        "colab": {
          "base_uri": "https://localhost:8080/"
        },
        "id": "PY1aBspzclTu",
        "outputId": "9e5e5ddf-5a93-40be-dd6d-8cc256fbab00"
      },
      "source": [
        "#train set, val set으로 분리\r\n",
        "x_train = x_train_all[random_index[:20000]]\r\n",
        "y_train = y_train_all[random_index[:20000]]\r\n",
        "x_val = x_train_all[random_index[20000:]]\r\n",
        "y_val = y_train_all[random_index[20000:]]\r\n",
        "print(x_train.shape, x_val.shape)"
      ],
      "execution_count": 11,
      "outputs": [
        {
          "output_type": "stream",
          "text": [
            "(20000,) (5000,)\n"
          ],
          "name": "stdout"
        }
      ]
    },
    {
      "cell_type": "markdown",
      "metadata": {
        "id": "b6Vgw8D3fp6z"
      },
      "source": [
        "#### 샘플의 길이 맞추기\r\n",
        "- 현재 X데이터는 길이가 인덱스별로 다르므로, 최대길이를 100으로 하여 이를 넘기면 잘라내고 이보다 짧으면 왼쪽에 0을 채운다."
      ]
    },
    {
      "cell_type": "code",
      "metadata": {
        "colab": {
          "base_uri": "https://localhost:8080/"
        },
        "id": "jZ4j8-3pc_ER",
        "outputId": "50561e98-48c5-48bf-9f48-931a1f10f6f2"
      },
      "source": [
        "from tensorflow.keras.preprocessing import sequence\r\n",
        "\r\n",
        "maxlen=100\r\n",
        "x_train_seq = sequence.pad_sequences(x_train, maxlen=maxlen)\r\n",
        "x_val_seq = sequence.pad_sequences(x_val, maxlen=maxlen)\r\n",
        "\r\n",
        "print(x_train_seq.shape, x_val_seq.shape)"
      ],
      "execution_count": 12,
      "outputs": [
        {
          "output_type": "stream",
          "text": [
            "(20000, 100) (5000, 100)\n"
          ],
          "name": "stdout"
        }
      ]
    },
    {
      "cell_type": "code",
      "metadata": {
        "colab": {
          "base_uri": "https://localhost:8080/"
        },
        "id": "KYntO1ldgFpa",
        "outputId": "c70e3398-34d1-4412-90e7-d0b478449723"
      },
      "source": [
        "print(x_train_seq[0]) #이렇게 100보다 짧으므로 왼쪽에 0이 채워져 있다."
      ],
      "execution_count": 13,
      "outputs": [
        {
          "output_type": "stream",
          "text": [
            "[ 0  0  0  0  0  0  0  0  0  0  0  0  0  0  0  0  0  0  0  0  0  0  0  0\n",
            "  0  0  0  0  0  0  0  0  0  0  0  0  0  0  0  0  0  0  0  0  0  0  0  0\n",
            "  0  0  0  0  0  0  0  0  0  0  0  0  0  0 35 40 27 28 40 22 83 31 85 45\n",
            " 24 23 31 70 31 76 30 98 32 22 28 51 75 56 30 33 97 53 38 46 53 74 31 35\n",
            " 23 34 22 58]\n"
          ],
          "name": "stdout"
        }
      ]
    },
    {
      "cell_type": "markdown",
      "metadata": {
        "id": "yRRYgNjpgiIl"
      },
      "source": [
        "#### 샘플 __원-핫 인코딩__\r\n",
        "- 이미 타겟은 0 or 1의 값만 갖고있으므로 할필요 없고 입력(X)에 대해서만 진행"
      ]
    },
    {
      "cell_type": "code",
      "metadata": {
        "id": "fsYN9YfigZmT"
      },
      "source": [
        "from tensorflow.keras.utils import to_categorical\r\n",
        "\r\n",
        "x_train_onehot = to_categorical(x_train_seq)\r\n",
        "x_val_onehot = to_categorical(x_val_seq)"
      ],
      "execution_count": 14,
      "outputs": []
    },
    {
      "cell_type": "code",
      "metadata": {
        "colab": {
          "base_uri": "https://localhost:8080/"
        },
        "id": "aaihgf0ag5GF",
        "outputId": "f8616007-aaf0-4889-f0a9-24e2c9537e00"
      },
      "source": [
        "print(x_train_onehot.shape, x_val_onehot.shape)"
      ],
      "execution_count": 15,
      "outputs": [
        {
          "output_type": "stream",
          "text": [
            "(20000, 100, 100) (5000, 100, 100)\n"
          ],
          "name": "stdout"
        }
      ]
    },
    {
      "cell_type": "code",
      "metadata": {
        "colab": {
          "base_uri": "https://localhost:8080/"
        },
        "id": "NRmmFFrvg8NL",
        "outputId": "350622eb-e02c-4875-d05b-739e1ca1d3ca"
      },
      "source": [
        "print(x_train_onehot[0])"
      ],
      "execution_count": 16,
      "outputs": [
        {
          "output_type": "stream",
          "text": [
            "[[1. 0. 0. ... 0. 0. 0.]\n",
            " [1. 0. 0. ... 0. 0. 0.]\n",
            " [1. 0. 0. ... 0. 0. 0.]\n",
            " ...\n",
            " [0. 0. 0. ... 0. 0. 0.]\n",
            " [0. 0. 0. ... 0. 0. 0.]\n",
            " [0. 0. 0. ... 0. 0. 0.]]\n"
          ],
          "name": "stdout"
        }
      ]
    },
    {
      "cell_type": "code",
      "metadata": {
        "colab": {
          "base_uri": "https://localhost:8080/"
        },
        "id": "iFUKAg_yu60W",
        "outputId": "2edaaa24-c892-43c0-c81c-fad5056dc6b6"
      },
      "source": [
        "print(x_train_onehot.nbytes) #샘플을 100개의 단어로 제한했는데도 메모리 크기가 큰편."
      ],
      "execution_count": 17,
      "outputs": [
        {
          "output_type": "stream",
          "text": [
            "800000000\n"
          ],
          "name": "stdout"
        }
      ]
    },
    {
      "cell_type": "markdown",
      "metadata": {
        "id": "xHOdKFBHstNb"
      },
      "source": [
        "### 순환 신경망 클래스(RecurrentNetwork) 구현\r\n",
        "- 06장의 MiniBatchNetwork 기반으로, 서로 다른 부분만 구현함.\r\n",
        "- [수정] init, init_weights에서 초기 가중치 설정하는 부분 & forpass(Z2 출력 및 h 은닉상태 리스트에 기록) & backprop(그레디언트들 출력) \r\n",
        "- 순환층에 tanh, 이진분류이므로 출력층에 sigmoid 적용."
      ]
    },
    {
      "cell_type": "code",
      "metadata": {
        "colab": {
          "base_uri": "https://localhost:8080/"
        },
        "id": "vXemTzpFZsz9",
        "outputId": "7abd6f86-fe6f-4e74-cb2b-af841505dcf8"
      },
      "source": [
        "list1= [1,4,6,9,12]\r\n",
        "print(list1[:-1])\r\n",
        "print(list1[::-1])"
      ],
      "execution_count": 18,
      "outputs": [
        {
          "output_type": "stream",
          "text": [
            "[1, 4, 6, 9]\n",
            "[12, 9, 6, 4, 1]\n"
          ],
          "name": "stdout"
        }
      ]
    },
    {
      "cell_type": "code",
      "metadata": {
        "id": "FtPLgA1xhCS0"
      },
      "source": [
        "class RecurrentNetwork:\r\n",
        "    def __init__(self, n_cells=10, batch_size=32, learning_rate=0.1): #n_cells는 순환층의 뉴런 수(디폴트: 10)\r\n",
        "        self.n_cells = n_cells\r\n",
        "        self.batch_size = batch_size\r\n",
        "        #순환층의 가중치와 절편\r\n",
        "        self.w1h = None\r\n",
        "        self.w1x = None\r\n",
        "        self.b1 = None\r\n",
        "        #출력층의 가중치와 절편\r\n",
        "        self.w2 = None\r\n",
        "        self.b2 = None\r\n",
        "        #순환층의 활성화 출력값(역방향 계산에서 사용)\r\n",
        "        self.h = None\r\n",
        "        #기록 \r\n",
        "        self.losses = [] #train_loss\r\n",
        "        self.val_losses = [] #val_loss\r\n",
        "        self.lr = learning_rate\r\n",
        "\r\n",
        "    #정방향 메서드 forpass: Z2 출력 & self.h에 은닉 상태들 모두 기록 \r\n",
        "    def forpass(self, x):\r\n",
        "        self.h = [np.zeros((x.shape[0], self.n_cells))] #모든 값이 0인 리스트 생성(추후 은닉상태 Hp, Hpp,...들 append하여 기록)\r\n",
        "        seq = np.swapaxes(x, 0, 1) #계산 편의를 위해 배치 차원-스탭 차원 바꿈\r\n",
        "        for x in seq:\r\n",
        "            z1 = np.dot(x, self.w1x) + np.dot(self.h[-1], self.w1h) + self.b1\r\n",
        "            h = np.tanh(z1)\r\n",
        "            self.h.append(h) #h들 기록 \r\n",
        "            z2 = np.dot(h, self.w2) + self.b2\r\n",
        "        return z2 \r\n",
        "\r\n",
        "    #정방향 sigmoid --> 출력층의 z2에 적용.\r\n",
        "    def sigmoid(self, z):\r\n",
        "        a = 1/(1+np.exp(-z))\r\n",
        "        return a\r\n",
        "\r\n",
        "    #역방향 메서드 backprop--> 출력: (출력층)w2_grad, b2_grad / (순환층)w1h_grad, w1x_grad, b1_grad\r\n",
        "    ##err는 만들어져 있다고 생각(fit에서 만듦)\r\n",
        "    def backprop(self, x, err):\r\n",
        "        m = len(x) #평균 그레디언트를 계산해야 해서 m으로 나눠줘야 함을 잊지말것\r\n",
        "\r\n",
        "        #출력층 \r\n",
        "        w2_grad = np.dot(self.h[-1].T, err) / m\r\n",
        "        b2_grad = np.sum(err) / m\r\n",
        "\r\n",
        "        #초기화\r\n",
        "        seq = np.swapaxes(x, 0, 1)\r\n",
        "        w1h_grad = w1x_grad = b1_grad = 0\r\n",
        "        err_to_cell = np.dot(err, self.w2.T) * (1-self.h[-1]**2) #초기화 \r\n",
        "\r\n",
        "        #순환층 \r\n",
        "        for x, h in zip(seq[::-1][:10], self.h[:-1][::-1][:10]):\r\n",
        "            w1h_grad += np.dot(h.T, err_to_cell)\r\n",
        "            w1x_grad += np.dot(x.T, err_to_cell)\r\n",
        "            b1_grad += np.sum(err_to_cell, axis=0)\r\n",
        "            #err_to_cell을 for문 안에서 다시 정의-초기화됐었던 err_to_cell 값 바뀜.\r\n",
        "            err_to_cell = np.dot(err_to_cell, self.w1h) * (1-h**2)\r\n",
        "        \r\n",
        "        w1h_grad /= m\r\n",
        "        w1x_grad /= m\r\n",
        "        b1_grad /=m\r\n",
        "\r\n",
        "        return w1h_grad, w1x_grad, b1_grad, w2_grad, b2_grad \r\n",
        "\r\n",
        "    #가중치 초기화(순환셀 은닉상태 가중치 초기화는 orthogonal, 그냥 가중치 초기화는 glorot_uniform 사용)\r\n",
        "\r\n",
        "    def init_weights(self, n_features, n_classes): \r\n",
        "        orth_init = tf.initializers.orthogonal()\r\n",
        "        glorot_init = tf.initializers.glorot_uniform()\r\n",
        "\r\n",
        "        self.w1h = orth_init((self.n_cells, self.n_cells)).numpy()\r\n",
        "        self.w1x = glorot_init((n_features, self.n_cells)).numpy()\r\n",
        "        self.b1 = np.zeros(self.n_cells)\r\n",
        "        self.w2 = glorot_init((self.n_cells, n_classes)).numpy()\r\n",
        "        self.b2 = np.zeros(n_classes)\r\n",
        "        \r\n",
        "    ## get_batch 메서드 추가 --> x,y가 들어오면 랜덤하게 batch_size만큼 x_batch, y_batch 뽑아 출력\r\n",
        "    def gen_batch(self, x, y):\r\n",
        "        length = len(x)\r\n",
        "        bins = length // self.batch_size #미니배치의 횟수 \r\n",
        "        if length % self.batch_size: #나머지가 있다면 횟수 +1 \r\n",
        "            bins +=1 \r\n",
        "        #인덱스 랜덤 섞기\r\n",
        "        indexes = np.random.permutation(np.arange(len(x)))\r\n",
        "        x = x[indexes]\r\n",
        "        y = y[indexes]\r\n",
        "        #미니배치 횟수만큼 실행 \r\n",
        "        for i in range(bins):\r\n",
        "            #인덱스 설정하여 나눠줌 \r\n",
        "            start = self.batch_size*i\r\n",
        "            end = self.batch_size*(i+1)\r\n",
        "            yield x[start:end], y[start:end] #x_batch, y_batch 반환. (return으로 해도 되는데 메모리 사용이 효율적인 제너레이터로 접근함.)\r\n",
        "\r\n",
        "    #fit 메서드 ->\"epoch마다\"  training에서 A2를 받아 Loss를 계산 & training에서 가중치 업데이트가 일어나도록 함.\r\n",
        "    def fit(self, x, y, epochs=100, x_val=None, y_val=None):\r\n",
        "        #타겟 열벡터 변환\r\n",
        "        y = y.reshape(-1,1)\r\n",
        "        y_val = y_val.reshape(-1,1)\r\n",
        "        self.init_weights(x.shape[2], y.shape[1]) #n_features, n_classes 값 넣음 \r\n",
        "        np.random.seed(42) #실습결과와 동일함을 위해(실전에선 x)\r\n",
        "        #epoch만큼 반복\r\n",
        "        for i in range(epochs):\r\n",
        "            print('에포크', i, end=' ')\r\n",
        "            batch_losses = []\r\n",
        "            for x_batch, y_batch in self.gen_batch(x,y): #뒤의 gen_batch 메서드에서 배치사이즈만큼의 x_batch, y_batch 꺼냄\r\n",
        "                print('.', end='')\r\n",
        "                a = self.training(x_batch, y_batch) #뒤의 training 메서드에서 수행 & 가중치 업데이트(출력값: A2)\r\n",
        "                #loss 계산(평균 loss로 반환)\r\n",
        "                a = np.clip(a, 1e-10, 1-1e-10)\r\n",
        "                loss = np.mean(-(y_batch*np.log(a) + (1-y_batch)*np.log(1-a))) #각 batch마다의 평균loss 저장 \r\n",
        "                batch_losses.append(loss) \r\n",
        "            print( ) #각 epoch 수행시마다 빈칸출력 \r\n",
        "            self.losses.append(np.mean(batch_losses))\r\n",
        "            self.update_val_loss(x_val, y_val)\r\n",
        "\r\n",
        "    #검증셋 손실계산(val_loss) -> update_val_loss\r\n",
        "    def update_val_loss(self, x_val, y_val):\r\n",
        "        z = self.forpass(x_val) #z2\r\n",
        "        a = self.sigmoid(z) #a2 -> loss 계산 가능!\r\n",
        "        #loss 계산\r\n",
        "        a = np.clip(a, 1e-10, 1-1e-10)\r\n",
        "        val_loss = np.mean(-(y_val*np.log(a) + (1-y_val)*np.log(1-a)))\r\n",
        "        self.val_losses.append(val_loss)\r\n",
        "\r\n",
        "\r\n",
        "    #training 메서드: 정방향 계산, err 계산, 오차 역전파(가중치 업데이트)\r\n",
        "    def training(self, x, y):\r\n",
        "        m = len(x)\r\n",
        "        z = self.forpass(x) #z2 반환\r\n",
        "        a = self.sigmoid(z) #A2 반환 => loss 계산 가능!\r\n",
        "        err = -(y-a)\r\n",
        "        #그레디언트 값 계산\r\n",
        "        w1h_grad, w1x_grad, b1_grad, w2_grad, b2_grad = self.backprop(x, err)\r\n",
        "        #가중치, 절편 업데이트(학습률도 곱해줘야 한다!)\r\n",
        "        self.w1h -= w1h_grad*self.lr\r\n",
        "        self.w1x -= w1x_grad*self.lr\r\n",
        "        self.b1 -= b1_grad*self.lr\r\n",
        "        self.w2 -= w2_grad*self.lr\r\n",
        "        self.b2 -= b2_grad*self.lr \r\n",
        "        return a \r\n",
        "\r\n",
        "\r\n",
        "    ## 예측, 평가 메서드 --> val set 넣음.\r\n",
        "    #predict(예측) 메서드\r\n",
        "    def predict(self, x):\r\n",
        "        z = self.forpass(x) #Z2 반환\r\n",
        "        return z>0\r\n",
        "    \r\n",
        "    #score(평가) 메서드\r\n",
        "    def score(self, x, y):\r\n",
        "        return np.mean(self.predict(x)==y.reshape(-1,1))\r\n"
      ],
      "execution_count": 19,
      "outputs": []
    },
    {
      "cell_type": "markdown",
      "metadata": {
        "id": "UDleVh8EKOsL"
      },
      "source": [
        "#### 순환 신경망 모델 훈련시키기\r\n",
        "- 셀 개수(은닉층 뉴런수)=32개, 배치 크기=32, 학습률=0.01, 에포크=20, 타임 스텝 횟수=10회 (모두 하이퍼 파라미터)\r\n",
        "- 하이퍼 파라미터는 여러 번 반복하여 가장 적절한 값을 찾아야 함."
      ]
    },
    {
      "cell_type": "code",
      "metadata": {
        "colab": {
          "base_uri": "https://localhost:8080/"
        },
        "id": "TqOnT8O5J4Zk",
        "outputId": "650b983b-de17-4d77-dfb8-6c50871c82ed"
      },
      "source": [
        "#객체\r\n",
        "rn = RecurrentNetwork(n_cells=32, batch_size=32, learning_rate=0.01)\r\n",
        "#학습\r\n",
        "rn.fit(x_train_onehot, y_train, epochs=20, x_val = x_val_onehot, y_val = y_val)"
      ],
      "execution_count": 20,
      "outputs": [
        {
          "output_type": "stream",
          "text": [
            "에포크 0 .................................................................................................................................................................................................................................................................................................................................................................................................................................................................................................................................................................................................................................................\n",
            "에포크 1 .................................................................................................................................................................................................................................................................................................................................................................................................................................................................................................................................................................................................................................................\n",
            "에포크 2 .................................................................................................................................................................................................................................................................................................................................................................................................................................................................................................................................................................................................................................................\n",
            "에포크 3 .................................................................................................................................................................................................................................................................................................................................................................................................................................................................................................................................................................................................................................................\n",
            "에포크 4 .................................................................................................................................................................................................................................................................................................................................................................................................................................................................................................................................................................................................................................................\n",
            "에포크 5 .................................................................................................................................................................................................................................................................................................................................................................................................................................................................................................................................................................................................................................................\n",
            "에포크 6 .................................................................................................................................................................................................................................................................................................................................................................................................................................................................................................................................................................................................................................................\n",
            "에포크 7 .................................................................................................................................................................................................................................................................................................................................................................................................................................................................................................................................................................................................................................................\n",
            "에포크 8 .................................................................................................................................................................................................................................................................................................................................................................................................................................................................................................................................................................................................................................................\n",
            "에포크 9 .................................................................................................................................................................................................................................................................................................................................................................................................................................................................................................................................................................................................................................................\n",
            "에포크 10 .................................................................................................................................................................................................................................................................................................................................................................................................................................................................................................................................................................................................................................................\n",
            "에포크 11 .................................................................................................................................................................................................................................................................................................................................................................................................................................................................................................................................................................................................................................................\n",
            "에포크 12 .................................................................................................................................................................................................................................................................................................................................................................................................................................................................................................................................................................................................................................................\n",
            "에포크 13 .................................................................................................................................................................................................................................................................................................................................................................................................................................................................................................................................................................................................................................................\n",
            "에포크 14 .................................................................................................................................................................................................................................................................................................................................................................................................................................................................................................................................................................................................................................................\n",
            "에포크 15 .................................................................................................................................................................................................................................................................................................................................................................................................................................................................................................................................................................................................................................................\n",
            "에포크 16 .................................................................................................................................................................................................................................................................................................................................................................................................................................................................................................................................................................................................................................................\n",
            "에포크 17 .................................................................................................................................................................................................................................................................................................................................................................................................................................................................................................................................................................................................................................................\n",
            "에포크 18 .................................................................................................................................................................................................................................................................................................................................................................................................................................................................................................................................................................................................................................................\n",
            "에포크 19 .................................................................................................................................................................................................................................................................................................................................................................................................................................................................................................................................................................................................................................................\n"
          ],
          "name": "stdout"
        }
      ]
    },
    {
      "cell_type": "code",
      "metadata": {
        "colab": {
          "base_uri": "https://localhost:8080/",
          "height": 265
        },
        "id": "1Wqb4p0tKyKk",
        "outputId": "a7a4b9f7-6836-4be3-d740-1637fde133ff"
      },
      "source": [
        "#train loss vs. val_loss\r\n",
        "import matplotlib.pyplot as plt\r\n",
        "plt.plot(rn.losses)\r\n",
        "plt.plot(rn.val_losses)\r\n",
        "plt.legend(['train_loss','val_loss'])\r\n",
        "plt.show()"
      ],
      "execution_count": 26,
      "outputs": [
        {
          "output_type": "display_data",
          "data": {
            "image/png": "[encoded data removed]",
            "text/plain": [
              "<Figure size 432x288 with 1 Axes>"
            ]
          },
          "metadata": {
            "tags": [],
            "needs_background": "light"
          }
        }
      ]
    },
    {
      "cell_type": "code",
      "metadata": {
        "colab": {
          "base_uri": "https://localhost:8080/"
        },
        "id": "ShkjWztxLk9q",
        "outputId": "9361bc7b-7896-4ab1-e0f5-e39a8e134706"
      },
      "source": [
        "#성능 평가\r\n",
        "rn.score(x_val_onehot, y_val)"
      ],
      "execution_count": 27,
      "outputs": [
        {
          "output_type": "execute_result",
          "data": {
            "text/plain": [
              "0.6586"
            ]
          },
          "metadata": {
            "tags": []
          },
          "execution_count": 27
        }
      ]
    },
    {
      "cell_type": "markdown",
      "metadata": {
        "id": "OdLxGVb8L-i6"
      },
      "source": [
        "- 성능이 좋은 편은 아니지만(약 69%), 무작위로 긍/부정을 예측하는 확률 50%보다는 높게 나왔다.\r\n",
        "- 텐서플로와 같은 고급 딥러닝 패키지를 활용하여 좀 더 좋은 성능을 내보자."
      ]
    },
    {
      "cell_type": "markdown",
      "metadata": {
        "id": "rJMAq5cyMIlQ"
      },
      "source": [
        "## 09-3. 텐서플로를 이용해 순환 신경망 만들기\r\n",
        "- 텐서플로에서 가장 기본적인 순환층은 `SimpleRNN` 클래스이다. 이번엔 이를 이용해 순환 신경망-이진분류를 만들어보자."
      ]
    },
    {
      "cell_type": "code",
      "metadata": {
        "id": "FHfuwxxWL4HU"
      },
      "source": [
        "from tensorflow.keras.models import Sequential\r\n",
        "from tensorflow.keras.layers import Dense, SimpleRNN"
      ],
      "execution_count": 28,
      "outputs": []
    },
    {
      "cell_type": "code",
      "metadata": {
        "colab": {
          "base_uri": "https://localhost:8080/"
        },
        "id": "Rjpoo3T7MLVy",
        "outputId": "eb1cd941-105a-4f96-c2fc-5b068d6b1809"
      },
      "source": [
        "model = Sequential()\r\n",
        "#순환층(즉, 은닉층. 셀은 32개)\r\n",
        "model.add(SimpleRNN(32, input_shape=(100,100))) #배치를 제외한 나머지 차원-> 반드시 첫번쨰 층에 입력해야 함.\r\n",
        "#출력층(뉴런 1개. 왜냐면 이진분류이므로 c=1)\r\n",
        "model.add(Dense(1, activation='sigmoid'))\r\n",
        "\r\n",
        "model.summary()"
      ],
      "execution_count": 29,
      "outputs": [
        {
          "output_type": "stream",
          "text": [
            "Model: \"sequential\"\n",
            "_________________________________________________________________\n",
            "Layer (type)                 Output Shape              Param #   \n",
            "=================================================================\n",
            "simple_rnn (SimpleRNN)       (None, 32)                4256      \n",
            "_________________________________________________________________\n",
            "dense (Dense)                (None, 1)                 33        \n",
            "=================================================================\n",
            "Total params: 4,289\n",
            "Trainable params: 4,289\n",
            "Non-trainable params: 0\n",
            "_________________________________________________________________\n"
          ],
          "name": "stdout"
        }
      ]
    },
    {
      "cell_type": "code",
      "metadata": {
        "colab": {
          "base_uri": "https://localhost:8080/"
        },
        "id": "zrbj7ovVNuNv",
        "outputId": "bddfbec2-0b46-4dae-af03-19c6501bc4e3"
      },
      "source": [
        "100*32+32*32+32"
      ],
      "execution_count": 30,
      "outputs": [
        {
          "output_type": "execute_result",
          "data": {
            "text/plain": [
              "4256"
            ]
          },
          "metadata": {
            "tags": []
          },
          "execution_count": 30
        }
      ]
    },
    {
      "cell_type": "code",
      "metadata": {
        "colab": {
          "base_uri": "https://localhost:8080/"
        },
        "id": "ru5izIeoPAX-",
        "outputId": "3dfaa601-b14f-4372-dc5f-8555221432c5"
      },
      "source": [
        "20000/32"
      ],
      "execution_count": 31,
      "outputs": [
        {
          "output_type": "execute_result",
          "data": {
            "text/plain": [
              "625.0"
            ]
          },
          "metadata": {
            "tags": []
          },
          "execution_count": 31
        }
      ]
    },
    {
      "cell_type": "code",
      "metadata": {
        "colab": {
          "base_uri": "https://localhost:8080/"
        },
        "id": "jaUsXFFlOgn_",
        "outputId": "34ddd809-5ef8-4fd1-8fce-f91b6bc95ce1"
      },
      "source": [
        "#모델 컴파일\r\n",
        "model.compile(optimizer='sgd', loss='binary_crossentropy', metrics=['accuracy'])\r\n",
        "#훈련\r\n",
        "history = model.fit(x_train_onehot, y_train, epochs=20, batch_size=32, validation_data=(x_val_onehot, y_val))"
      ],
      "execution_count": 32,
      "outputs": [
        {
          "output_type": "stream",
          "text": [
            "Epoch 1/20\n",
            "625/625 [==============================] - 12s 18ms/step - loss: 0.7030 - accuracy: 0.5105 - val_loss: 0.6838 - val_accuracy: 0.5628\n",
            "Epoch 2/20\n",
            "625/625 [==============================] - 11s 17ms/step - loss: 0.6781 - accuracy: 0.5765 - val_loss: 0.6576 - val_accuracy: 0.6138\n",
            "Epoch 3/20\n",
            "625/625 [==============================] - 11s 17ms/step - loss: 0.6480 - accuracy: 0.6289 - val_loss: 0.6356 - val_accuracy: 0.6440\n",
            "Epoch 4/20\n",
            "625/625 [==============================] - 11s 17ms/step - loss: 0.6330 - accuracy: 0.6419 - val_loss: 0.7363 - val_accuracy: 0.5374\n",
            "Epoch 5/20\n",
            "625/625 [==============================] - 11s 17ms/step - loss: 0.6141 - accuracy: 0.6672 - val_loss: 0.5945 - val_accuracy: 0.6908\n",
            "Epoch 6/20\n",
            "625/625 [==============================] - 11s 17ms/step - loss: 0.6007 - accuracy: 0.6786 - val_loss: 0.6986 - val_accuracy: 0.5890\n",
            "Epoch 7/20\n",
            "625/625 [==============================] - 11s 17ms/step - loss: 0.5974 - accuracy: 0.6819 - val_loss: 0.5861 - val_accuracy: 0.6916\n",
            "Epoch 8/20\n",
            "625/625 [==============================] - 11s 17ms/step - loss: 0.5963 - accuracy: 0.6853 - val_loss: 0.5859 - val_accuracy: 0.6932\n",
            "Epoch 9/20\n",
            "625/625 [==============================] - 11s 17ms/step - loss: 0.5928 - accuracy: 0.6842 - val_loss: 0.5749 - val_accuracy: 0.6948\n",
            "Epoch 10/20\n",
            "625/625 [==============================] - 11s 17ms/step - loss: 0.5845 - accuracy: 0.6945 - val_loss: 0.5716 - val_accuracy: 0.6964\n",
            "Epoch 11/20\n",
            "625/625 [==============================] - 11s 18ms/step - loss: 0.5818 - accuracy: 0.6960 - val_loss: 0.6010 - val_accuracy: 0.6732\n",
            "Epoch 12/20\n",
            "625/625 [==============================] - 11s 18ms/step - loss: 0.5721 - accuracy: 0.7063 - val_loss: 0.5808 - val_accuracy: 0.6936\n",
            "Epoch 13/20\n",
            "625/625 [==============================] - 11s 18ms/step - loss: 0.5774 - accuracy: 0.7012 - val_loss: 0.5875 - val_accuracy: 0.6846\n",
            "Epoch 14/20\n",
            "625/625 [==============================] - 11s 18ms/step - loss: 0.5749 - accuracy: 0.6968 - val_loss: 0.5961 - val_accuracy: 0.6870\n",
            "Epoch 15/20\n",
            "625/625 [==============================] - 11s 18ms/step - loss: 0.5681 - accuracy: 0.7060 - val_loss: 0.5607 - val_accuracy: 0.7110\n",
            "Epoch 16/20\n",
            "625/625 [==============================] - 11s 18ms/step - loss: 0.5622 - accuracy: 0.7133 - val_loss: 0.5737 - val_accuracy: 0.7000\n",
            "Epoch 17/20\n",
            "625/625 [==============================] - 11s 18ms/step - loss: 0.5674 - accuracy: 0.7058 - val_loss: 0.5828 - val_accuracy: 0.6940\n",
            "Epoch 18/20\n",
            "625/625 [==============================] - 11s 17ms/step - loss: 0.5596 - accuracy: 0.7099 - val_loss: 0.5598 - val_accuracy: 0.7068\n",
            "Epoch 19/20\n",
            "625/625 [==============================] - 11s 18ms/step - loss: 0.5631 - accuracy: 0.7083 - val_loss: 0.5886 - val_accuracy: 0.6862\n",
            "Epoch 20/20\n",
            "625/625 [==============================] - 11s 18ms/step - loss: 0.5623 - accuracy: 0.7104 - val_loss: 0.5613 - val_accuracy: 0.7116\n"
          ],
          "name": "stdout"
        }
      ]
    },
    {
      "cell_type": "code",
      "metadata": {
        "colab": {
          "base_uri": "https://localhost:8080/",
          "height": 513
        },
        "id": "xUnkZYrrOx2j",
        "outputId": "592cdeed-d858-49ac-9b89-eaffe7438a88"
      },
      "source": [
        "#train_loss vs. val_loss\r\n",
        "import matplotlib.pyplot as plt\r\n",
        "plt.plot(history.history['loss'])\r\n",
        "plt.plot(history.history['val_loss'])\r\n",
        "plt.legend(['train_loss', 'val_loss'])\r\n",
        "plt.show()\r\n",
        "\r\n",
        "#train_acc vs. val_acc\r\n",
        "plt.plot(history.history['accuracy'])\r\n",
        "plt.plot(history.history['val_accuracy'])\r\n",
        "plt.legend(['train_acc', 'val_acc'])\r\n",
        "plt.show()"
      ],
      "execution_count": 33,
      "outputs": [
        {
          "output_type": "display_data",
          "data": {
            "image/png": "[encoded data removed]",
            "text/plain": [
              "<Figure size 432x288 with 1 Axes>"
            ]
          },
          "metadata": {
            "tags": [],
            "needs_background": "light"
          }
        },
        {
          "output_type": "display_data",
          "data": {
            "image/png": "[encoded data removed]",
            "text/plain": [
              "<Figure size 432x288 with 1 Axes>"
            ]
          },
          "metadata": {
            "tags": [],
            "needs_background": "light"
          }
        }
      ]
    },
    {
      "cell_type": "code",
      "metadata": {
        "colab": {
          "base_uri": "https://localhost:8080/"
        },
        "id": "VfbyEKXxPgGV",
        "outputId": "cecbd0ac-ba82-4de2-a087-52037b586116"
      },
      "source": [
        "#검증셋 정확도 평가\r\n",
        "loss, acc = model.evaluate(x_val_onehot, y_val, verbose=0)\r\n",
        "print(acc)"
      ],
      "execution_count": 34,
      "outputs": [
        {
          "output_type": "stream",
          "text": [
            "0.7116000056266785\n"
          ],
          "name": "stdout"
        }
      ]
    },
    {
      "cell_type": "markdown",
      "metadata": {
        "id": "nhRwuVWRP39x"
      },
      "source": [
        "- 텐서플로를 이용해 구현했음에도 아까 손코딩 한 결과와 크게 달라지지 않았다(약 70%).\r\n",
        "- 특히 loss, accuracy 그래프를 보면 train set에 비해 val set의 결과는 매우 들쭉날쭉하다.\r\n",
        "- __해결책__: 우리의 문제는 바로 _텍스트 데이터를 원-핫 인코딩했다는 것_! 원-핫 인코딩은 텍스트 간 상관성을 전혀 반영하지 못하므로, __단어 임베딩(word embedding)__을 활용한다.\r\n",
        "- 단어 임베딩에는 다양한 방법들이 있지만, 여기서는 __keras의 embedding__을 활용. (참고: https://www.dacon.io/codeshare/1847?dtype=recent)"
      ]
    },
    {
      "cell_type": "code",
      "metadata": {
        "colab": {
          "base_uri": "https://localhost:8080/"
        },
        "id": "XIHFFnCrPtZq",
        "outputId": "c610286d-3d20-414b-c970-f5d8d99bef61"
      },
      "source": [
        "#다시 훈련 데이터 전처리(원-핫 인코딩 전 부분까지)\r\n",
        "(x_train_all, y_train_all), (x_test, y_test) = imdb.load_data(skip_top=20, num_words=1000) #이번엔 1000개 단어까지!\r\n",
        "\r\n",
        "for i in range(len(x_train_all)):\r\n",
        "    x_train_all[i] = [w for w in x_train_all[i] if w>2]\r\n",
        "\r\n",
        "print(x_train_all[0]) #확실히 텍스트가 갖고 있는 고유숫자가 0~1000 범위까지 늘어났다."
      ],
      "execution_count": 35,
      "outputs": [
        {
          "output_type": "stream",
          "text": [
            "<string>:6: VisibleDeprecationWarning: Creating an ndarray from ragged nested sequences (which is a list-or-tuple of lists-or-tuples-or ndarrays with different lengths or shapes) is deprecated. If you meant to do this, you must specify 'dtype=object' when creating the ndarray\n",
            "/usr/local/lib/python3.7/dist-packages/tensorflow/python/keras/datasets/imdb.py:159: VisibleDeprecationWarning: Creating an ndarray from ragged nested sequences (which is a list-or-tuple of lists-or-tuples-or ndarrays with different lengths or shapes) is deprecated. If you meant to do this, you must specify 'dtype=object' when creating the ndarray\n",
            "  x_train, y_train = np.array(xs[:idx]), np.array(labels[:idx])\n",
            "/usr/local/lib/python3.7/dist-packages/tensorflow/python/keras/datasets/imdb.py:160: VisibleDeprecationWarning: Creating an ndarray from ragged nested sequences (which is a list-or-tuple of lists-or-tuples-or ndarrays with different lengths or shapes) is deprecated. If you meant to do this, you must specify 'dtype=object' when creating the ndarray\n",
            "  x_test, y_test = np.array(xs[idx:]), np.array(labels[idx:])\n"
          ],
          "name": "stderr"
        },
        {
          "output_type": "stream",
          "text": [
            "[22, 43, 530, 973, 65, 458, 66, 173, 36, 256, 25, 100, 43, 838, 112, 50, 670, 35, 480, 284, 150, 172, 112, 167, 336, 385, 39, 172, 546, 38, 447, 192, 50, 147, 22, 469, 22, 71, 87, 43, 530, 38, 76, 22, 515, 626, 62, 386, 316, 106, 480, 66, 33, 130, 38, 619, 25, 124, 51, 36, 135, 48, 25, 33, 22, 215, 28, 77, 52, 407, 82, 107, 117, 256, 723, 36, 71, 43, 530, 476, 26, 400, 317, 46, 104, 88, 381, 297, 98, 32, 56, 26, 141, 194, 226, 22, 21, 134, 476, 26, 480, 144, 30, 51, 36, 28, 224, 92, 25, 104, 226, 65, 38, 88, 283, 113, 103, 32, 178, 32]\n"
          ],
          "name": "stdout"
        }
      ]
    },
    {
      "cell_type": "code",
      "metadata": {
        "colab": {
          "base_uri": "https://localhost:8080/"
        },
        "id": "HOcIXiQGTVW7",
        "outputId": "d2f504a8-c258-4c84-ae25-09cb8274b54c"
      },
      "source": [
        "print(x_train_all.shape, y_train_all.shape)"
      ],
      "execution_count": 36,
      "outputs": [
        {
          "output_type": "stream",
          "text": [
            "(25000,) (25000,)\n"
          ],
          "name": "stdout"
        }
      ]
    },
    {
      "cell_type": "code",
      "metadata": {
        "colab": {
          "base_uri": "https://localhost:8080/"
        },
        "id": "sqV6b2HiTDlT",
        "outputId": "511d4eee-f377-4eaa-9397-f0fe3c4c2118"
      },
      "source": [
        "#랜덤 인덱스 반환으로 train/val set 나눔(각각 2만개, 5천개)\r\n",
        "x_train = x_train_all[random_index[:20000]]\r\n",
        "y_train = y_train_all[random_index[:20000]]\r\n",
        "x_val = x_train_all[random_index[20000:]]\r\n",
        "y_val = y_train_all[random_index[20000:]]\r\n",
        "\r\n",
        "print(x_train.shape, x_val.shape, y_train.shape, y_val.shape) #y는 열벡터!(y엔 더이상 전처리 진행x)"
      ],
      "execution_count": 37,
      "outputs": [
        {
          "output_type": "stream",
          "text": [
            "(20000,) (5000,) (20000,) (5000,)\n"
          ],
          "name": "stdout"
        }
      ]
    },
    {
      "cell_type": "code",
      "metadata": {
        "colab": {
          "base_uri": "https://localhost:8080/"
        },
        "id": "J2quc76LTohL",
        "outputId": "aa24db96-bfb2-4f85-855e-d0559bd67206"
      },
      "source": [
        "#패딩을 통해 타임 스텝 크기 100으로 맞춤.\r\n",
        "maxlen = 100\r\n",
        "x_train_seq = sequence.pad_sequences(x_train, maxlen=maxlen)\r\n",
        "x_val_seq = sequence.pad_sequences(x_val, maxlen=maxlen)\r\n",
        "\r\n",
        "print(x_train_seq.shape, x_val_seq.shape)"
      ],
      "execution_count": 38,
      "outputs": [
        {
          "output_type": "stream",
          "text": [
            "(20000, 100) (5000, 100)\n"
          ],
          "name": "stdout"
        }
      ]
    },
    {
      "cell_type": "code",
      "metadata": {
        "colab": {
          "base_uri": "https://localhost:8080/"
        },
        "id": "1MZBtv1yjK1L",
        "outputId": "414e356f-69ad-4e10-84cb-49eb3c32fb29"
      },
      "source": [
        "print(x_train_seq[0])\r\n",
        "print(len(x_train_seq[0]))"
      ],
      "execution_count": 39,
      "outputs": [
        {
          "output_type": "stream",
          "text": [
            "[  0   0   0   0   0 225 678 200  35 204 129 629 599 399  40  27 768  28\n",
            " 224 331 917  40  22 677  83 778  31 103  85 702 116  45  24 196 159 369\n",
            " 471  23  31 160  70 759  31 160  76 329 181  30 172  98  32 934 225 813\n",
            " 496 863  22 100  28 952 957 329 472  51  75 130  56 862 105 625 186  30\n",
            " 168 307  33 454  97  53 229  38 563 529  46 414 450 117  53  74  31  35\n",
            "  23 268  34 167  22 231 450 771 798  58]\n",
            "100\n"
          ],
          "name": "stdout"
        }
      ]
    },
    {
      "cell_type": "code",
      "metadata": {
        "colab": {
          "base_uri": "https://localhost:8080/"
        },
        "id": "cha9Ya9-T53D",
        "outputId": "dec33eab-7295-4b51-c854-ad4752a5be0a"
      },
      "source": [
        "#이제 단어 임베딩 적용!!!\r\n",
        "from tensorflow.keras.layers import Embedding\r\n",
        "\r\n",
        "model_ebd = Sequential()\r\n",
        "model_ebd.add(Embedding(1000, 32)) #임베딩층 추가(vocab_size=1000, 단어 임베딩 차원 100->32로 줄임)\r\n",
        "#순환층(셀개수;은닉층 뉴런수=8로 줄임. 임베딩층 성능이 좋아서 셀 개수 줄여도 성능 좋을것임)\r\n",
        "model_ebd.add(SimpleRNN(8))\r\n",
        "#출력층\r\n",
        "model_ebd.add(Dense(1, activation='sigmoid'))\r\n",
        "\r\n",
        "model_ebd.summary()"
      ],
      "execution_count": 40,
      "outputs": [
        {
          "output_type": "stream",
          "text": [
            "Model: \"sequential_1\"\n",
            "_________________________________________________________________\n",
            "Layer (type)                 Output Shape              Param #   \n",
            "=================================================================\n",
            "embedding (Embedding)        (None, None, 32)          32000     \n",
            "_________________________________________________________________\n",
            "simple_rnn_1 (SimpleRNN)     (None, 8)                 328       \n",
            "_________________________________________________________________\n",
            "dense_1 (Dense)              (None, 1)                 9         \n",
            "=================================================================\n",
            "Total params: 32,337\n",
            "Trainable params: 32,337\n",
            "Non-trainable params: 0\n",
            "_________________________________________________________________\n"
          ],
          "name": "stdout"
        }
      ]
    },
    {
      "cell_type": "code",
      "metadata": {
        "colab": {
          "base_uri": "https://localhost:8080/"
        },
        "id": "3Z6ckuAOhIFM",
        "outputId": "77f8cc08-f00f-4e86-fecc-9c2c639267b5"
      },
      "source": [
        "32*8+8*8+8"
      ],
      "execution_count": 41,
      "outputs": [
        {
          "output_type": "execute_result",
          "data": {
            "text/plain": [
              "328"
            ]
          },
          "metadata": {
            "tags": []
          },
          "execution_count": 41
        }
      ]
    },
    {
      "cell_type": "code",
      "metadata": {
        "colab": {
          "base_uri": "https://localhost:8080/"
        },
        "id": "FUy7lMj8gOPn",
        "outputId": "59273668-8b01-4fde-c0c0-e79ca0183b7d"
      },
      "source": [
        "#모델 컴파일\r\n",
        "model_ebd.compile(optimizer='adam', loss='binary_crossentropy', metrics=['accuracy'])\r\n",
        "#학습\r\n",
        "his = model_ebd.fit(x_train_seq, y_train, epochs=10, batch_size=32,\r\n",
        "                    validation_data = (x_val_seq, y_val))"
      ],
      "execution_count": 42,
      "outputs": [
        {
          "output_type": "stream",
          "text": [
            "Epoch 1/10\n",
            "625/625 [==============================] - 13s 19ms/step - loss: 0.5427 - accuracy: 0.7230 - val_loss: 0.4194 - val_accuracy: 0.8186\n",
            "Epoch 2/10\n",
            "625/625 [==============================] - 11s 18ms/step - loss: 0.3838 - accuracy: 0.8379 - val_loss: 0.3939 - val_accuracy: 0.8344\n",
            "Epoch 3/10\n",
            "625/625 [==============================] - 11s 18ms/step - loss: 0.3383 - accuracy: 0.8615 - val_loss: 0.4292 - val_accuracy: 0.8100\n",
            "Epoch 4/10\n",
            "625/625 [==============================] - 11s 18ms/step - loss: 0.3128 - accuracy: 0.8735 - val_loss: 0.4019 - val_accuracy: 0.8296\n",
            "Epoch 5/10\n",
            "625/625 [==============================] - 11s 18ms/step - loss: 0.2967 - accuracy: 0.8788 - val_loss: 0.4097 - val_accuracy: 0.8264\n",
            "Epoch 6/10\n",
            "625/625 [==============================] - 11s 18ms/step - loss: 0.2587 - accuracy: 0.9001 - val_loss: 0.4718 - val_accuracy: 0.8146\n",
            "Epoch 7/10\n",
            "625/625 [==============================] - 11s 18ms/step - loss: 0.2512 - accuracy: 0.9019 - val_loss: 0.4366 - val_accuracy: 0.8130\n",
            "Epoch 8/10\n",
            "625/625 [==============================] - 11s 18ms/step - loss: 0.2309 - accuracy: 0.9112 - val_loss: 0.4572 - val_accuracy: 0.8206\n",
            "Epoch 9/10\n",
            "625/625 [==============================] - 11s 18ms/step - loss: 0.2186 - accuracy: 0.9183 - val_loss: 0.4704 - val_accuracy: 0.8204\n",
            "Epoch 10/10\n",
            "625/625 [==============================] - 11s 18ms/step - loss: 0.2044 - accuracy: 0.9259 - val_loss: 0.4813 - val_accuracy: 0.8142\n"
          ],
          "name": "stdout"
        }
      ]
    },
    {
      "cell_type": "code",
      "metadata": {
        "colab": {
          "base_uri": "https://localhost:8080/",
          "height": 514
        },
        "id": "WtjuKfongfPO",
        "outputId": "5073bc19-3c03-4612-e0e5-0dba6caa4255"
      },
      "source": [
        "#train_loss vs. val_loss\r\n",
        "plt.plot(his.history['loss'])\r\n",
        "plt.plot(his.history['val_loss'])\r\n",
        "plt.legend(['train_loss', 'val_loss'])\r\n",
        "plt.show()\r\n",
        "\r\n",
        "#train_acc vs. val_acc\r\n",
        "plt.plot(his.history['accuracy'])\r\n",
        "plt.plot(his.history['val_accuracy'])\r\n",
        "plt.legend(['train_acc', 'val_acc'])\r\n",
        "plt.show()"
      ],
      "execution_count": 43,
      "outputs": [
        {
          "output_type": "display_data",
          "data": {
            "image/png": "[encoded data removed]",
            "text/plain": [
              "<Figure size 432x288 with 1 Axes>"
            ]
          },
          "metadata": {
            "tags": [],
            "needs_background": "light"
          }
        },
        {
          "output_type": "display_data",
          "data": {
            "image/png": "[encoded data removed]",
            "text/plain": [
              "<Figure size 432x288 with 1 Axes>"
            ]
          },
          "metadata": {
            "tags": [],
            "needs_background": "light"
          }
        }
      ]
    },
    {
      "cell_type": "code",
      "metadata": {
        "colab": {
          "base_uri": "https://localhost:8080/"
        },
        "id": "We0fP8CJhe7-",
        "outputId": "96667f69-8745-437a-eb21-46b8a0fa09dd"
      },
      "source": [
        "## 위의 그래프를 보면 과적합이 좀 발생했으므로 epoch를 5까지만 설정해 다시 학습 \r\n",
        "model_ebd.fit(x_train_seq, y_train, epochs=5, batch_size=32)\r\n",
        "#검증셋 평가\r\n",
        "loss, acc = model_ebd.evaluate(x_val_seq, y_val)\r\n",
        "print(acc)"
      ],
      "execution_count": 44,
      "outputs": [
        {
          "output_type": "stream",
          "text": [
            "Epoch 1/5\n",
            "625/625 [==============================] - 10s 17ms/step - loss: 0.2237 - accuracy: 0.9160\n",
            "Epoch 2/5\n",
            "625/625 [==============================] - 11s 17ms/step - loss: 0.2032 - accuracy: 0.9241\n",
            "Epoch 3/5\n",
            "625/625 [==============================] - 10s 16ms/step - loss: 0.1932 - accuracy: 0.9291\n",
            "Epoch 4/5\n",
            "625/625 [==============================] - 11s 17ms/step - loss: 0.1961 - accuracy: 0.9272\n",
            "Epoch 5/5\n",
            "625/625 [==============================] - 10s 17ms/step - loss: 0.1963 - accuracy: 0.9278\n",
            "157/157 [==============================] - 1s 5ms/step - loss: 0.5203 - accuracy: 0.8098\n",
            "0.8098000288009644\n"
          ],
          "name": "stdout"
        }
      ]
    },
    {
      "cell_type": "markdown",
      "metadata": {
        "id": "tsMPzrBXiUcW"
      },
      "source": [
        "- 임베딩층을 사용하니 성능이 더욱 향상되었을 뿐 아니라(약 69% -> 약 80%)\r\n",
        "- 심지어 단어 임베딩에서는 원래 원-핫 인코딩 100-> 단어 임베딩 32로 줄이고(메모리 사용량 절감), 순환층의 셀 개수도 32-> 8로 줄였으며, epoch 수도 20->5로 줄였는데도 성능이 더 향상되었다.\r\n",
        "- 이렇게 __단어 임베딩은 효율적이고 성능이 뛰어나므로, 순환 신경망에서 텍스트 처리 시 이런 임베딩층을 기본으로 사용__한다."
      ]
    },
    {
      "cell_type": "markdown",
      "metadata": {
        "id": "yp2_O1l3VHDR"
      },
      "source": [
        "## 09-4. LSTM 순환 신경망을 만들어 텍스트 분류\r\n",
        "- 기존의 일반 순환 신경망보다 LSTM을 이용한 모델을 만들면 더욱 효과가 뛰어나다.\r\n",
        "- LSTM 이론은 아주 복잡하지만 텐서플로를 이용하면 아주 간단하게 구현할 수 있다! (LSTM 순환 신경망은 SimpleRNN 클래스를 LSTM으로 바꾸기만 하면 된다.)"
      ]
    },
    {
      "cell_type": "code",
      "metadata": {
        "id": "N7jIiq_2h3AC",
        "colab": {
          "base_uri": "https://localhost:8080/"
        },
        "outputId": "27ac705d-29ab-4dad-b2c5-dbaf39af7220"
      },
      "source": [
        "from tensorflow.keras.layers import LSTM\r\n",
        "\r\n",
        "model_lstm = Sequential()\r\n",
        "#단어 임베딩\r\n",
        "model_lstm.add(Embedding(1000, 32))\r\n",
        "#순환층 - LSTM (셀 개수:8)\r\n",
        "model_lstm.add(LSTM(8))\r\n",
        "#출력층\r\n",
        "model_lstm.add(Dense(1, activation='sigmoid'))\r\n",
        "\r\n",
        "model_lstm.summary()"
      ],
      "execution_count": 45,
      "outputs": [
        {
          "output_type": "stream",
          "text": [
            "Model: \"sequential_2\"\n",
            "_________________________________________________________________\n",
            "Layer (type)                 Output Shape              Param #   \n",
            "=================================================================\n",
            "embedding_1 (Embedding)      (None, None, 32)          32000     \n",
            "_________________________________________________________________\n",
            "lstm (LSTM)                  (None, 8)                 1312      \n",
            "_________________________________________________________________\n",
            "dense_2 (Dense)              (None, 1)                 9         \n",
            "=================================================================\n",
            "Total params: 33,321\n",
            "Trainable params: 33,321\n",
            "Non-trainable params: 0\n",
            "_________________________________________________________________\n"
          ],
          "name": "stdout"
        }
      ]
    },
    {
      "cell_type": "code",
      "metadata": {
        "colab": {
          "base_uri": "https://localhost:8080/"
        },
        "id": "5axfyyQ3YNCJ",
        "outputId": "26ee35b7-f7c3-44a5-ce78-a889a5d5dc27"
      },
      "source": [
        "32*8*4 + 8*8*4 + 8*4"
      ],
      "execution_count": 46,
      "outputs": [
        {
          "output_type": "execute_result",
          "data": {
            "text/plain": [
              "1312"
            ]
          },
          "metadata": {
            "tags": []
          },
          "execution_count": 46
        }
      ]
    },
    {
      "cell_type": "code",
      "metadata": {
        "colab": {
          "base_uri": "https://localhost:8080/"
        },
        "id": "z_x4e_HgXUN5",
        "outputId": "1b86968e-b178-4af9-f729-4ae6839fd273"
      },
      "source": [
        "#모델 컴파일\r\n",
        "model_lstm.compile(optimizer='adam', loss='binary_crossentropy', metrics=['accuracy'])\r\n",
        "#모델 훈련\r\n",
        "his = model_lstm.fit(x_train_seq, y_train, epochs=10, batch_size=32, validation_data=(x_val_seq, y_val))"
      ],
      "execution_count": 47,
      "outputs": [
        {
          "output_type": "stream",
          "text": [
            "Epoch 1/10\n",
            "625/625 [==============================] - 19s 28ms/step - loss: 0.5574 - accuracy: 0.7139 - val_loss: 0.3834 - val_accuracy: 0.8326\n",
            "Epoch 2/10\n",
            "625/625 [==============================] - 17s 27ms/step - loss: 0.3538 - accuracy: 0.8510 - val_loss: 0.3632 - val_accuracy: 0.8432\n",
            "Epoch 3/10\n",
            "625/625 [==============================] - 17s 27ms/step - loss: 0.3035 - accuracy: 0.8750 - val_loss: 0.3574 - val_accuracy: 0.8438\n",
            "Epoch 4/10\n",
            "625/625 [==============================] - 17s 27ms/step - loss: 0.2828 - accuracy: 0.8822 - val_loss: 0.3568 - val_accuracy: 0.8442\n",
            "Epoch 5/10\n",
            "625/625 [==============================] - 17s 27ms/step - loss: 0.2756 - accuracy: 0.8896 - val_loss: 0.3713 - val_accuracy: 0.8358\n",
            "Epoch 6/10\n",
            "625/625 [==============================] - 17s 27ms/step - loss: 0.2661 - accuracy: 0.8939 - val_loss: 0.3911 - val_accuracy: 0.8390\n",
            "Epoch 7/10\n",
            "625/625 [==============================] - 18s 28ms/step - loss: 0.2550 - accuracy: 0.8927 - val_loss: 0.3909 - val_accuracy: 0.8356\n",
            "Epoch 8/10\n",
            "625/625 [==============================] - 17s 27ms/step - loss: 0.2380 - accuracy: 0.9028 - val_loss: 0.3947 - val_accuracy: 0.8372\n",
            "Epoch 9/10\n",
            "625/625 [==============================] - 17s 28ms/step - loss: 0.2365 - accuracy: 0.9054 - val_loss: 0.3924 - val_accuracy: 0.8288\n",
            "Epoch 10/10\n",
            "625/625 [==============================] - 17s 27ms/step - loss: 0.2256 - accuracy: 0.9099 - val_loss: 0.4271 - val_accuracy: 0.8346\n"
          ],
          "name": "stdout"
        }
      ]
    },
    {
      "cell_type": "code",
      "metadata": {
        "colab": {
          "base_uri": "https://localhost:8080/",
          "height": 513
        },
        "id": "LwHNlKqjXpZy",
        "outputId": "38db4cd6-4d72-491a-fb1f-81d975531716"
      },
      "source": [
        "#train_loss vs. val_loss\r\n",
        "plt.plot(his.history['loss'])\r\n",
        "plt.plot(his.history['val_loss'])\r\n",
        "plt.legend(['train_loss', 'val_loss'])\r\n",
        "plt.show()\r\n",
        "\r\n",
        "#train_acc vs. val_acc\r\n",
        "plt.plot(his.history['accuracy'])\r\n",
        "plt.plot(his.history['val_accuracy'])\r\n",
        "plt.legend(['train_acc', 'val_acc'])\r\n",
        "plt.show()"
      ],
      "execution_count": 48,
      "outputs": [
        {
          "output_type": "display_data",
          "data": {
            "image/png": "[encoded data removed]",
            "text/plain": [
              "<Figure size 432x288 with 1 Axes>"
            ]
          },
          "metadata": {
            "tags": [],
            "needs_background": "light"
          }
        },
        {
          "output_type": "display_data",
          "data": {
            "image/png": "[encoded data removed]",
            "text/plain": [
              "<Figure size 432x288 with 1 Axes>"
            ]
          },
          "metadata": {
            "tags": [],
            "needs_background": "light"
          }
        }
      ]
    },
    {
      "cell_type": "markdown",
      "metadata": {
        "id": "WSkMGBUDbzDy"
      },
      "source": [
        "- 결과를 보면 역시 epoch가 얼마 지나지 않아 최고 성능을 내고는 성능이 그대로 유지되는 과적합이 발생하고 있다."
      ]
    },
    {
      "cell_type": "code",
      "metadata": {
        "colab": {
          "base_uri": "https://localhost:8080/"
        },
        "id": "DVAfNmFOZwV5",
        "outputId": "e4d0e40c-0705-4532-d091-ae24415a155d"
      },
      "source": [
        "#검증셋 정확도 평가\r\n",
        "loss, acc = model_lstm.evaluate(x_val_seq, y_val, verbose=0)\r\n",
        "print(acc)"
      ],
      "execution_count": 49,
      "outputs": [
        {
          "output_type": "stream",
          "text": [
            "0.8345999717712402\n"
          ],
          "name": "stdout"
        }
      ]
    },
    {
      "cell_type": "markdown",
      "metadata": {
        "id": "rSbcRxj5b7Qx"
      },
      "source": [
        "- 이렇게 LSTM을 활용하면 좀 더 성능이 향상되는 것(80%-> 약 83%)을 확인할 수 있다. 하지만 일반 순환 신경망, LSTM 모두 여기선 과적합이 발생하므로 이를 막아야 할 듯.\r\n",
        "- 더 좋은 성능을 내려면 하이퍼 파라미터 튜닝을 해야 한다. 단어 임베딩 층 or LSTM층의 셀 개수를 늘리면 더 좋은 효과가 날것이다.(근데 LSTM 층 셀 늘려봤을 때, 성능이 크게 증가하진 않았음)\r\n",
        "- 또는 단어 임베딩 시 `Embedding` 외에 다른 기법들 활용하는 것도 성능 향상될것임."
      ]
    },
    {
      "cell_type": "code",
      "metadata": {
        "id": "Lr-EbyhfdHNk"
      },
      "source": [
        ""
      ],
      "execution_count": 49,
      "outputs": []
    }
  ]
}