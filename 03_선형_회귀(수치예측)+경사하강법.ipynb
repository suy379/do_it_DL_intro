{
  "nbformat": 4,
  "nbformat_minor": 0,
  "metadata": {
    "colab": {
      "name": "03. 선형 회귀(수치예측)+경사하강법.ipynb",
      "provenance": [],
      "collapsed_sections": [],
      "authorship_tag": "ABX9TyNEa5E7tuQUK1qGBDD7gRc7",
      "include_colab_link": true
    },
    "kernelspec": {
      "name": "python3",
      "display_name": "Python 3"
    }
  },
  "cells": [
    {
      "cell_type": "markdown",
      "metadata": {
        "id": "view-in-github",
        "colab_type": "text"
      },
      "source": [
        "<a href=\"https://colab.research.google.com/github/suy379/do_it_DL_intro/blob/main/03_%EC%84%A0%ED%98%95_%ED%9A%8C%EA%B7%80(%EC%88%98%EC%B9%98%EC%98%88%EC%B8%A1)%2B%EA%B2%BD%EC%82%AC%ED%95%98%EA%B0%95%EB%B2%95.ipynb\" target=\"_parent\"><img src=\"https://colab.research.google.com/assets/colab-badge.svg\" alt=\"Open In Colab\"/></a>"
      ]
    },
    {
      "cell_type": "markdown",
      "metadata": {
        "id": "g9zJTSXHXxtq"
      },
      "source": [
        "# 03. 선형 회귀 딥러닝(수치 예측: Regression)\r\n",
        "- 03-1. 데이터 준비하기\r\n",
        "- 03-2. 경사 하강법\r\n",
        "- 03-3. 손실 함수와 경사 하강법의 관계\r\n",
        "- 03-4. 선형 회귀를 위한 뉴런 만들기 "
      ]
    },
    {
      "cell_type": "markdown",
      "metadata": {
        "id": "M8_acyBzYC3C"
      },
      "source": [
        "### 03-1. 데이터 준비하기(sklearn 당뇨병 환자 데이터)\r\n",
        "- 목표: 당뇨병 환자의 1년 후 병의 진전된 정도를 예측하는 모델\r\n",
        "- 데이터 준비 시 지금은 훈련 데이터(train set)로 **data의 3번째 특성, target**을 사용하고\r\n",
        "- 예측 시엔 그냥 데이터 1개를 임의로 넣어서 예측해봄."
      ]
    },
    {
      "cell_type": "code",
      "metadata": {
        "id": "rYagCfhUWWmo"
      },
      "source": [
        "from sklearn.datasets import load_diabetes\r\n",
        "dia = load_diabetes()"
      ],
      "execution_count": null,
      "outputs": []
    },
    {
      "cell_type": "code",
      "metadata": {
        "colab": {
          "base_uri": "https://localhost:8080/"
        },
        "id": "77-N5-0bYSd0",
        "outputId": "ba30c7a1-d13a-4aef-b5a1-f85a85a466d8"
      },
      "source": [
        "print(dia.keys())"
      ],
      "execution_count": null,
      "outputs": [
        {
          "output_type": "stream",
          "text": [
            "dict_keys(['data', 'target', 'DESCR', 'feature_names', 'data_filename', 'target_filename'])\n"
          ],
          "name": "stdout"
        }
      ]
    },
    {
      "cell_type": "code",
      "metadata": {
        "colab": {
          "base_uri": "https://localhost:8080/"
        },
        "id": "vdH7uF9hYcSI",
        "outputId": "2bed3da8-2b4a-4ba6-f182-1854bf5066d7"
      },
      "source": [
        "print(dia['data'].shape, dia['target'].shape)"
      ],
      "execution_count": null,
      "outputs": [
        {
          "output_type": "stream",
          "text": [
            "(442, 10) (442,)\n"
          ],
          "name": "stdout"
        }
      ]
    },
    {
      "cell_type": "code",
      "metadata": {
        "colab": {
          "base_uri": "https://localhost:8080/"
        },
        "id": "OJv0nJTbYjBb",
        "outputId": "f5bdcf2f-ea28-4323-bc80-cb9397d070e8"
      },
      "source": [
        "dia.data[:3]"
      ],
      "execution_count": null,
      "outputs": [
        {
          "output_type": "execute_result",
          "data": {
            "text/plain": [
              "array([[ 0.03807591,  0.05068012,  0.06169621,  0.02187235, -0.0442235 ,\n",
              "        -0.03482076, -0.04340085, -0.00259226,  0.01990842, -0.01764613],\n",
              "       [-0.00188202, -0.04464164, -0.05147406, -0.02632783, -0.00844872,\n",
              "        -0.01916334,  0.07441156, -0.03949338, -0.06832974, -0.09220405],\n",
              "       [ 0.08529891,  0.05068012,  0.04445121, -0.00567061, -0.04559945,\n",
              "        -0.03419447, -0.03235593, -0.00259226,  0.00286377, -0.02593034]])"
            ]
          },
          "metadata": {
            "tags": []
          },
          "execution_count": 4
        }
      ]
    },
    {
      "cell_type": "code",
      "metadata": {
        "colab": {
          "base_uri": "https://localhost:8080/"
        },
        "id": "1LzaZixCZA-S",
        "outputId": "eb03f009-89ea-4b05-ca82-391d9a9d4aaf"
      },
      "source": [
        "dia.target[:3]"
      ],
      "execution_count": null,
      "outputs": [
        {
          "output_type": "execute_result",
          "data": {
            "text/plain": [
              "array([151.,  75., 141.])"
            ]
          },
          "metadata": {
            "tags": []
          },
          "execution_count": 5
        }
      ]
    },
    {
      "cell_type": "code",
      "metadata": {
        "colab": {
          "base_uri": "https://localhost:8080/",
          "height": 279
        },
        "id": "VZpqix-nZI-n",
        "outputId": "2a4937ad-3888-4ac5-c52d-784f6e1934d4"
      },
      "source": [
        "#당뇨병 환자 데이터 시각화하기(data의 3번쨰 특성과 target 간)\r\n",
        "import matplotlib.pyplot as plt\r\n",
        "\r\n",
        "x = dia.data[:, 2]\r\n",
        "y = dia.target\r\n",
        "plt.scatter(x,y)\r\n",
        "plt.xlabel('3rd feature')\r\n",
        "plt.ylabel('target')\r\n",
        "plt.show() #x와 y 간 정비례 관계가 보임."
      ],
      "execution_count": null,
      "outputs": [
        {
          "output_type": "display_data",
          "data": {
            "image/png": "[encoded data removed]",
            "text/plain": [
              "<Figure size 432x288 with 1 Axes>"
            ]
          },
          "metadata": {
            "tags": [],
            "needs_background": "light"
          }
        }
      ]
    },
    {
      "cell_type": "code",
      "metadata": {
        "id": "xoYqRSngZ0K7"
      },
      "source": [
        "#훈련 데이터 준비하기\r\n",
        "x = dia.data[:, 2]\r\n",
        "y = dia.target"
      ],
      "execution_count": null,
      "outputs": []
    },
    {
      "cell_type": "markdown",
      "metadata": {
        "id": "XPQrqX73ajdh"
      },
      "source": [
        "### 03-2. 경사 하강법으로 훈련 데이터 학습하기\r\n",
        "- 우리의 목표는 데이터에 잘 맞는 최적의 회귀선을 찾는 것.(즉, 회귀선의 파라미터:w, b를 찾는 것)"
      ]
    },
    {
      "cell_type": "code",
      "metadata": {
        "id": "agHNEpkkaiX6"
      },
      "source": [
        "#훈련 데이터에 딱 맞는 기울기(w)와 절편(b)를 찾아보자.\r\n",
        "\r\n",
        "#1. w, b 초기화(그냥 임의로 정함.)\r\n",
        "w = 1.0\r\n",
        "b = 1.0"
      ],
      "execution_count": null,
      "outputs": []
    },
    {
      "cell_type": "code",
      "metadata": {
        "colab": {
          "base_uri": "https://localhost:8080/"
        },
        "id": "q7ZgXcKXqzh9",
        "outputId": "ea89b77d-5a8d-4afc-ee1b-3a8d2c004fd3"
      },
      "source": [
        "#2. x 전체에 대해 계산하면 너무 많으므로 첫 번째 x에 대해서만 계산해보자.\r\n",
        "#y_hat = w*x + b\r\n",
        "y_hat = w*x[0]+b\r\n",
        "print(y_hat) #예측값 "
      ],
      "execution_count": null,
      "outputs": [
        {
          "output_type": "stream",
          "text": [
            "1.0616962065186886\n"
          ],
          "name": "stdout"
        }
      ]
    },
    {
      "cell_type": "code",
      "metadata": {
        "colab": {
          "base_uri": "https://localhost:8080/"
        },
        "id": "ZJXcGOeRrFDX",
        "outputId": "fb7b9a8f-92d5-4d29-8b18-126700b2a4d4"
      },
      "source": [
        "#하지만 실제 값은.. 너무 값이 많이 차이난다ㅋㅋ\r\n",
        "print(y[0]) #실제값 "
      ],
      "execution_count": null,
      "outputs": [
        {
          "output_type": "stream",
          "text": [
            "151.0\n"
          ],
          "name": "stdout"
        }
      ]
    },
    {
      "cell_type": "code",
      "metadata": {
        "colab": {
          "base_uri": "https://localhost:8080/"
        },
        "id": "CmxjhQVfrHPC",
        "outputId": "fba9d94b-a717-4ed3-dc46-7b0002042f1f"
      },
      "source": [
        "#3. w값을 조정하여 예측값 바꾸기(y_hat과 y 값의 차가 최소화되도록!!)\r\n",
        "#How? w와 b를 조금씩 변경하여 y_hat이 증가하는지 or 감소하는지를 살펴보자.(왜냐하면 w값을 올렸을때 y_hat이 증가하면 w값을 올려야하고, 만일 y_hat이 감소하면 w값을 내려야 하기 때문!)\r\n",
        "w_inc = w+0.1 #w값을 올렸을 때 \r\n",
        "y_hat_inc = w_inc*x[0]+b #y_hat은 조금 더 증가함. --> y_hat과 y값의 차를 감소시키려면 w값을 올려야 하는군!\r\n",
        "print(y_hat_inc)"
      ],
      "execution_count": null,
      "outputs": [
        {
          "output_type": "stream",
          "text": [
            "1.0678658271705574\n"
          ],
          "name": "stdout"
        }
      ]
    },
    {
      "cell_type": "code",
      "metadata": {
        "colab": {
          "base_uri": "https://localhost:8080/"
        },
        "id": "IZ7PAU6csAot",
        "outputId": "533be35d-39ac-4698-a62d-78520e96dc36"
      },
      "source": [
        "#w값을 조정한 후 예측값이 얼마나 증가하는지(몇 배 정도?) 알아보자.\r\n",
        "#w가 0.1 증가 시 y_hat이 얼마나 증가? (=y_hat 증가분/w의 증가분)\r\n",
        "(y_hat_inc-y_hat)/(w_inc - w)"
      ],
      "execution_count": null,
      "outputs": [
        {
          "output_type": "execute_result",
          "data": {
            "text/plain": [
              "0.061696206518688734"
            ]
          },
          "metadata": {
            "tags": []
          },
          "execution_count": 12
        }
      ]
    },
    {
      "cell_type": "code",
      "metadata": {
        "colab": {
          "base_uri": "https://localhost:8080/"
        },
        "id": "ysDANCwysc1S",
        "outputId": "cb13d3c1-1beb-41ef-c73e-af07a8016e05"
      },
      "source": [
        "print(x[0])"
      ],
      "execution_count": null,
      "outputs": [
        {
          "output_type": "stream",
          "text": [
            "0.0616962065186885\n"
          ],
          "name": "stdout"
        }
      ]
    },
    {
      "cell_type": "markdown",
      "metadata": {
        "id": "4TeUqeD1stpw"
      },
      "source": [
        "- 매우 독특하게도, x[0]에 대해 w를 0.1 증가 시 y_hat은 0.06169... 가 증가하는데, 바로 증가분의 비를 계산하면 x[0]가 다시 나온다!\r\n",
        "- 즉, w_rate = x[0]\r\n",
        "- **주목!! 변화율(w_rate)의 값이 양수 -> w 증가 시 y_hat 증가  / w_rate값이 음수 -> w 증가 시 y_hat 감소(w 감소 시 y_hat 증가)**\r\n",
        "- 그렇다면 y와 y_hat의 값의 차를 가장 최소화하려면 = y_hat의 값을 증가시켜야 하고 = 그럼 w_rate 값에 따라 w를 증가 or 감소시켜야 함 = 어차피 w_rate가 양수, 음수니까 그냥 w에 w_rate를 더하는 방식으로 업데이트 하면 된다!"
      ]
    },
    {
      "cell_type": "code",
      "metadata": {
        "colab": {
          "base_uri": "https://localhost:8080/"
        },
        "id": "MuyNULa0spvV",
        "outputId": "67a704ca-5a3d-4bc2-8e08-d6b1ad814ba9"
      },
      "source": [
        "#그러므로 w를 업데이트 하는 방법은 \r\n",
        "w_rate = (y_hat_inc-y_hat)/(w_inc - w) #x[0]에 대해서만 한거지만 이를 전체 x에 대해서 적용시키자!\r\n",
        "w_new = w + w_rate\r\n",
        "print(w_new)"
      ],
      "execution_count": null,
      "outputs": [
        {
          "output_type": "stream",
          "text": [
            "1.0616962065186888\n"
          ],
          "name": "stdout"
        }
      ]
    },
    {
      "cell_type": "markdown",
      "metadata": {
        "id": "jZEsnGmQvEpt"
      },
      "source": [
        "#### 변화율(w_rate)로 절편 업데이트하기\r\n",
        "- 앞에서 가중치 업데이트는 w = w+w_rate로 업데이트한다고 배웠다.\r\n",
        "- 그럼 절편(b)는 어떻게 업데이트할까?"
      ]
    },
    {
      "cell_type": "code",
      "metadata": {
        "colab": {
          "base_uri": "https://localhost:8080/"
        },
        "id": "yxDGT6jAuvpq",
        "outputId": "fd374689-879b-4b3c-c74b-97ee2558d035"
      },
      "source": [
        "#앞에서 한거랑 동일하게, 절편(b)를 업데이트하면 y_hat이 얼마 더 증가하는지를 알아보자.\r\n",
        "b_inc = b + 0.1\r\n",
        "y_hat_inc = w*x[0] + b_inc\r\n",
        "y_hat_inc"
      ],
      "execution_count": null,
      "outputs": [
        {
          "output_type": "execute_result",
          "data": {
            "text/plain": [
              "1.1616962065186887"
            ]
          },
          "metadata": {
            "tags": []
          },
          "execution_count": 16
        }
      ]
    },
    {
      "cell_type": "code",
      "metadata": {
        "colab": {
          "base_uri": "https://localhost:8080/"
        },
        "id": "WIRJVQI6vpJT",
        "outputId": "fd686e64-275a-4116-e4b6-85226ee5e050"
      },
      "source": [
        "#증가율 계산\r\n",
        "b_rate = (y_hat_inc - y_hat)/(b_inc - b)\r\n",
        "print(b_rate) #여기서 변화율은 양수이므로, b가 증가하면 y_hat도 증가한다. --> 그리고 이 예제에선 변수가 1개인 1차함수이므로 b가 0.1 증가시 y_hat도 똑같이 0.1 증가하는 게 당연하다.\r\n",
        "                    #여기선 그냥 b_rate =1로 두자."
      ],
      "execution_count": null,
      "outputs": [
        {
          "output_type": "stream",
          "text": [
            "1.0\n"
          ],
          "name": "stdout"
        }
      ]
    },
    {
      "cell_type": "markdown",
      "metadata": {
        "id": "T76GwQRVwqv4"
      },
      "source": [
        "### 오차 역전파\r\n",
        "- 만일 y와 y_hat의 차가 너무 클 때는 y_hat의 값을 훨씬 키워야 하는데 그 땐 어쩌지?\r\n",
        "- 그리고 지금은 y_hat<y지만 y_hat>y가 되면 어쩌지?\r\n",
        "- 방법: 오차 역전파(즉, 가중치 업데이트 시 변화율에 오차율을 곱해주자! w= w+w_rate*err 도 해주자!) 여기서 err = (y-y_hat)"
      ]
    },
    {
      "cell_type": "code",
      "metadata": {
        "colab": {
          "base_uri": "https://localhost:8080/"
        },
        "id": "ynjSTlFGvwY7",
        "outputId": "d717eb78-9e4e-41b7-b542-4c6fea09b478"
      },
      "source": [
        "#x[0]일 떄의 예시\r\n",
        "err = y[0] - y_hat\r\n",
        "w_new = w + w_rate*err\r\n",
        "b_new = b + 1*err #b_rate =1 으로 설정하였으므로\r\n",
        "print(w_new, b_new)"
      ],
      "execution_count": null,
      "outputs": [
        {
          "output_type": "stream",
          "text": [
            "10.250624555904514 150.9383037934813\n"
          ],
          "name": "stdout"
        }
      ]
    },
    {
      "cell_type": "code",
      "metadata": {
        "colab": {
          "base_uri": "https://localhost:8080/"
        },
        "id": "nyA4Au5exlPu",
        "outputId": "3beef94e-17d5-49f1-d2e7-66ef7b41fe26"
      },
      "source": [
        "#x[1]일 때는\r\n",
        "y_hat = x[1]*w_new + b_new #앞서 업데이트한 새로운 w,b값을 대입\r\n",
        "err = y[1]-y_hat\r\n",
        "w_rate = x[1]\r\n",
        "\r\n",
        "w_new = w_new + w_rate*err\r\n",
        "b_new = b_new + 1*err\r\n",
        "print(w_new, b_new)"
      ],
      "execution_count": null,
      "outputs": [
        {
          "output_type": "stream",
          "text": [
            "14.132317616381767 75.52764127612664\n"
          ],
          "name": "stdout"
        }
      ]
    },
    {
      "cell_type": "code",
      "metadata": {
        "colab": {
          "base_uri": "https://localhost:8080/"
        },
        "id": "eIrLQUv4x_z3",
        "outputId": "3262cbc0-35a6-4e7a-8b5a-5d128e64ff10"
      },
      "source": [
        "#위의 방식으로 모든 x 데이터에 대해 위의 과정을 적용\r\n",
        "w=1.0\r\n",
        "b=1.0\r\n",
        "for xi, yi in zip(x,y):\r\n",
        "    y_hat = xi*w + b\r\n",
        "    err = yi-y_hat\r\n",
        "    w_rate =xi\r\n",
        "\r\n",
        "    w = w + w_rate*err\r\n",
        "    b = b + 1*err\r\n",
        "\r\n",
        "print(w,b)"
      ],
      "execution_count": null,
      "outputs": [
        {
          "output_type": "stream",
          "text": [
            "587.8654539985689 99.40935564531424\n"
          ],
          "name": "stdout"
        }
      ]
    },
    {
      "cell_type": "code",
      "metadata": {
        "colab": {
          "base_uri": "https://localhost:8080/",
          "height": 279
        },
        "id": "fLWizExWyr9i",
        "outputId": "14c23b34-58f8-4fa9-9099-cd85ddb44664"
      },
      "source": [
        "#위에서 찾아낸 w,b가 최적의 값인지 그래프를 그려 알아보자.\r\n",
        "import matplotlib.pyplot as plt\r\n",
        "plt.scatter(x,y) #원 데이터인 x,y를 흩뿌림 \r\n",
        "pt1=(-0.1, -0.1*w+b) #x의 시작(-0.1), 이때의 y값\r\n",
        "pt2=(0.15, 0.15*w+b) #x의 시작(0.15), 이때의 y값 \r\n",
        "plt.plot([pt1[0],pt2[0]],[pt1[1],pt2[1]]) #plot([x좌표],[y좌표])\r\n",
        "plt.xlabel('x')\r\n",
        "plt.ylabel('y')\r\n",
        "plt.show()"
      ],
      "execution_count": null,
      "outputs": [
        {
          "output_type": "display_data",
          "data": {
            "image/png": "[encoded data removed]",
            "text/plain": [
              "<Figure size 432x288 with 1 Axes>"
            ]
          },
          "metadata": {
            "tags": [],
            "needs_background": "light"
          }
        }
      ]
    },
    {
      "cell_type": "markdown",
      "metadata": {
        "id": "X5Ek6KUv_iBS"
      },
      "source": [
        "- 모든 x, y 데이터에 대해 가중치 업데이트한 결과, 퍼펙트한 결과를 얻진 못함.\r\n",
        "- 이런 경우에는 업데이트를 더 많이! 하는 것이 좋다."
      ]
    },
    {
      "cell_type": "code",
      "metadata": {
        "colab": {
          "base_uri": "https://localhost:8080/"
        },
        "id": "uTC3IxfezlrS",
        "outputId": "00fbcbb4-ba34-4f2e-8d31-ab0c843011a6"
      },
      "source": [
        "#가중치 업데이트 반복하기(에포크 이용)\r\n",
        "w=1.0\r\n",
        "b=1.0\r\n",
        "\r\n",
        "for i in range(1, 100):\r\n",
        "    for xi, yi in zip(x,y):\r\n",
        "        y_hat = xi*w + b\r\n",
        "        err = yi-y_hat\r\n",
        "        w_rate =xi\r\n",
        "\r\n",
        "        w = w + w_rate*err\r\n",
        "        b = b + 1*err\r\n",
        "\r\n",
        "print(w, b) #아까 1번만 했을 때보다 업데이트된 값이 많이 차이남."
      ],
      "execution_count": null,
      "outputs": [
        {
          "output_type": "stream",
          "text": [
            "913.5973364345905 123.39414383177204\n"
          ],
          "name": "stdout"
        }
      ]
    },
    {
      "cell_type": "code",
      "metadata": {
        "colab": {
          "base_uri": "https://localhost:8080/",
          "height": 279
        },
        "id": "XEDN8jpj__z_",
        "outputId": "f8b3dacc-2451-4c4b-c7ca-cbc7456fce8f"
      },
      "source": [
        "plt.scatter(x,y) #원 데이터인 x,y를 흩뿌림 \r\n",
        "pt1=(-0.1, -0.1*w+b) #x의 시작(-0.1), 이때의 y값\r\n",
        "pt2=(0.15, 0.15*w+b) #x의 시작(0.15), 이때의 y값 \r\n",
        "plt.plot([pt1[0],pt2[0]],[pt1[1],pt2[1]]) #plot([x좌표],[y좌표])\r\n",
        "plt.xlabel('x')\r\n",
        "plt.ylabel('y')\r\n",
        "plt.show() #위의 코드로 다시 실행해보면 직선이 데이터를 보다 더 잘 반영하고 있다!"
      ],
      "execution_count": null,
      "outputs": [
        {
          "output_type": "display_data",
          "data": {
            "image/png": "[encoded data removed]",
            "text/plain": [
              "<Figure size 432x288 with 1 Axes>"
            ]
          },
          "metadata": {
            "tags": [],
            "needs_background": "light"
          }
        }
      ]
    },
    {
      "cell_type": "code",
      "metadata": {
        "colab": {
          "base_uri": "https://localhost:8080/"
        },
        "id": "9XwJIb6CAGXt",
        "outputId": "88a9c979-69da-4057-9d4c-86846fd88fd4"
      },
      "source": [
        "#에폭 횟수를 늘릴수록 가중치를 더 적절하게 업데이트함.\r\n",
        "w=1.0\r\n",
        "b=1.0\r\n",
        "\r\n",
        "for i in range(1, 1000):\r\n",
        "    for xi, yi in zip(x,y):\r\n",
        "        y_hat = xi*w + b\r\n",
        "        err = yi-y_hat\r\n",
        "        w_rate =xi\r\n",
        "\r\n",
        "        w = w + w_rate*err\r\n",
        "        b = b + 1*err\r\n",
        "\r\n",
        "print(w, b) "
      ],
      "execution_count": null,
      "outputs": [
        {
          "output_type": "stream",
          "text": [
            "913.5973364345905 123.39414383177204\n"
          ],
          "name": "stdout"
        }
      ]
    },
    {
      "cell_type": "markdown",
      "metadata": {
        "id": "XYnVFs_tArAV"
      },
      "source": [
        "### 모델 예측하기\r\n",
        "- 앞에서 나온 결과를 바탕으로, 최적의 파라미터 값은 약 w=913.6, b=123.4라고 할 수 있다.\r\n",
        "- 즉, y_hat = 913.6*x +123.4\r\n",
        "- 이제 새로운 x값이 들어왔을 때 y값을 y_hat으로 예측할 수 있다!"
      ]
    },
    {
      "cell_type": "code",
      "metadata": {
        "colab": {
          "base_uri": "https://localhost:8080/"
        },
        "id": "U7Hzf1_nAfU0",
        "outputId": "623b3001-c68e-47c6-a928-900c69d26e5a"
      },
      "source": [
        "x_new = 0.18\r\n",
        "y_pred = w*x_new + b\r\n",
        "print(y_pred)"
      ],
      "execution_count": null,
      "outputs": [
        {
          "output_type": "stream",
          "text": [
            "287.8416643899983\n"
          ],
          "name": "stdout"
        }
      ]
    },
    {
      "cell_type": "code",
      "metadata": {
        "colab": {
          "base_uri": "https://localhost:8080/",
          "height": 282
        },
        "id": "oTnwFQhmBAmn",
        "outputId": "991b33a3-55fe-48e8-f4e8-d1e984531463"
      },
      "source": [
        "#위의 결과를 산점도 위에 나타내면\r\n",
        "plt.scatter(x, y)\r\n",
        "plt.scatter(x_new, y_pred)"
      ],
      "execution_count": null,
      "outputs": [
        {
          "output_type": "execute_result",
          "data": {
            "text/plain": [
              "<matplotlib.collections.PathCollection at 0x7f987c813550>"
            ]
          },
          "metadata": {
            "tags": []
          },
          "execution_count": 33
        },
        {
          "output_type": "display_data",
          "data": {
            "image/png": "[encoded data removed]",
            "text/plain": [
              "<Figure size 432x288 with 1 Axes>"
            ]
          },
          "metadata": {
            "tags": [],
            "needs_background": "light"
          }
        }
      ]
    },
    {
      "cell_type": "code",
      "metadata": {
        "colab": {
          "base_uri": "https://localhost:8080/",
          "height": 279
        },
        "id": "Ycmp39bABLeP",
        "outputId": "c346992a-6fd7-4155-d43a-0b7fad608c5c"
      },
      "source": [
        "plt.scatter(x, y)\r\n",
        "plt.scatter(x_new, y_pred)\r\n",
        "\r\n",
        "pt1=(-0.1, -0.1*w+b) #x의 시작(-0.1), 이때의 y값\r\n",
        "pt2=(0.2, 0.2*w+b) #x의 시작(0.15), 이때의 y값 \r\n",
        "plt.plot([pt1[0],pt2[0]],[pt1[1],pt2[1]]) #plot([x좌표],[y좌표])\r\n",
        "plt.xlabel('x')\r\n",
        "plt.ylabel('y')\r\n",
        "\r\n",
        "plt.show()"
      ],
      "execution_count": null,
      "outputs": [
        {
          "output_type": "display_data",
          "data": {
            "image/png": "[encoded data removed]",
            "text/plain": [
              "<Figure size 432x288 with 1 Axes>"
            ]
          },
          "metadata": {
            "tags": [],
            "needs_background": "light"
          }
        }
      ]
    },
    {
      "cell_type": "markdown",
      "metadata": {
        "id": "WJu1aK9YOdgb"
      },
      "source": [
        "### 03-4. 선형 회귀를 위한 뉴런 만들기"
      ]
    },
    {
      "cell_type": "code",
      "metadata": {
        "id": "wXJJfi9OPl-u"
      },
      "source": [
        "#앞서 구현한 for문을 이용한 경사 하강법 \r\n",
        "w=1.0\r\n",
        "b=1.0\r\n",
        "\r\n",
        "for i in range(1, 1000): #에폭 부분을 클래스를 이용하면 쉽다. -> 에폭을 객체를 찍을 때 지정할 수 있기 때문.\r\n",
        "    for xi, yi in zip(x,y):\r\n",
        "        y_hat = xi*w + b\r\n",
        "        err = yi-y_hat\r\n",
        "        w_rate =xi\r\n",
        "\r\n",
        "        w = w + w_rate*err\r\n",
        "        b = b + 1*err\r\n",
        "\r\n",
        "print(w, b) "
      ],
      "execution_count": null,
      "outputs": []
    },
    {
      "cell_type": "code",
      "metadata": {
        "id": "TOZjsL49BWRF"
      },
      "source": [
        "#앞의 과정을 파이썬 클래스(뉴런)로 만들어 원하는 만큼 객체를 찍어내자.\r\n",
        "class Neuron:\r\n",
        "    def __init__(self):\r\n",
        "        #앞으로 w와 b값은 업데이트를 통해 값을 바꿀 것이므로 클래스 변수로 저장하진 않음.\r\n",
        "        self.w = 1.0\r\n",
        "        self.b = 1.0\r\n",
        "    \r\n",
        "    def forpass(self, x): #정방향 계산(y_hat을 구해주는 함수)\r\n",
        "        y_hat = self.w*x + self.b \r\n",
        "        return y_hat \r\n",
        "\r\n",
        "    def backprop(self, x, err): #역방향 계산(가중치와 절편의 그레디언트를 구해주는 함수)\r\n",
        "        w_grad = x*err\r\n",
        "        b_grad = 1*err \r\n",
        "        return w_grad, b_grad \r\n",
        "\r\n",
        "    def fit(self, x, y, epochs=100): #실질적으로 우리가 사용하게 될 함수.\r\n",
        "    #그리고 객체 찍을 때 앞의 forpass, backprop 함수도 적용할 필욘 x. 왜냐면 fit함수 안에 다 저 함수들을 적용시켰기 때문! \r\n",
        "        for i in range(epochs):\r\n",
        "            for xi, yi in zip(x,y):\r\n",
        "                y_hat = self.forpass(xi)\r\n",
        "                err = -(yi - y_hat)\r\n",
        "                w_grad, b_grad = self.backprop(xi, err)\r\n",
        "                self.w -= w_grad\r\n",
        "                self.b -= b_grad \r\n",
        "        return self.w, self.b\r\n"
      ],
      "execution_count": null,
      "outputs": []
    },
    {
      "cell_type": "code",
      "metadata": {
        "colab": {
          "base_uri": "https://localhost:8080/"
        },
        "id": "M4WwpTtQVA7v",
        "outputId": "3cc80d98-bcd4-4033-b44b-4ee9eeed00ad"
      },
      "source": [
        "#객체\r\n",
        "neuron = Neuron()\r\n",
        "#학습\r\n",
        "neuron.fit(x, y, 500)"
      ],
      "execution_count": null,
      "outputs": [
        {
          "output_type": "execute_result",
          "data": {
            "text/plain": [
              "(913.5973364345905, 123.39414383177204)"
            ]
          },
          "metadata": {
            "tags": []
          },
          "execution_count": 45
        }
      ]
    },
    {
      "cell_type": "code",
      "metadata": {
        "colab": {
          "base_uri": "https://localhost:8080/"
        },
        "id": "Hzp_HcG8VLUh",
        "outputId": "e79c016b-3be3-45c4-fea0-ddf97d4e65d7"
      },
      "source": [
        "#최적의 파라미터 w, b는 다음과 같이 구할 수도 있다.\r\n",
        "print(neuron.w, neuron.b)"
      ],
      "execution_count": null,
      "outputs": [
        {
          "output_type": "stream",
          "text": [
            "913.5973364345905 123.39414383177204\n"
          ],
          "name": "stdout"
        }
      ]
    },
    {
      "cell_type": "code",
      "metadata": {
        "colab": {
          "base_uri": "https://localhost:8080/",
          "height": 279
        },
        "id": "4k6sH6sGVhKS",
        "outputId": "1a328673-16f9-4318-8903-f03d0f5cd473"
      },
      "source": [
        "#학습이 잘 되었는지 그래프로 확인\r\n",
        "plt.scatter(x,y)\r\n",
        "\r\n",
        "pt1 = (-0.1, -0.1*neuron.w+neuron.b)\r\n",
        "pt2 = (0.18, 0.18*neuron.w+neuron.b)\r\n",
        "plt.plot([pt1[0], pt2[0]],[pt1[1], pt2[1]])\r\n",
        "\r\n",
        "plt.xlabel('x')\r\n",
        "plt.ylabel('y')\r\n",
        "plt.show()"
      ],
      "execution_count": null,
      "outputs": [
        {
          "output_type": "display_data",
          "data": {
            "image/png": "[encoded data removed]",
            "text/plain": [
              "<Figure size 432x288 with 1 Axes>"
            ]
          },
          "metadata": {
            "tags": [],
            "needs_background": "light"
          }
        }
      ]
    },
    {
      "cell_type": "code",
      "metadata": {
        "id": "SZD7nj7IVmOf"
      },
      "source": [
        ""
      ],
      "execution_count": null,
      "outputs": []
    }
  ]
}